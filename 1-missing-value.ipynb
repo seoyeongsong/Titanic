{
 "cells": [
  {
   "cell_type": "markdown",
   "metadata": {},
   "source": [
    "# 데이터 전처리 - 결측치 다루기\n",
    "* [Missing data - Wikipedia](https://en.wikipedia.org/wiki/Missing_data)\n",
    "* 예제 데이터 다운로드 : https://www.kaggle.com/c/titanic/data"
   ]
  },
  {
   "cell_type": "code",
   "execution_count": 1,
   "metadata": {},
   "outputs": [
    {
     "name": "stdout",
     "output_type": "stream",
     "text": [
      "3.6.5 |Anaconda, Inc.| (default, Mar 29 2018, 13:32:41) [MSC v.1900 64 bit (AMD64)]\n",
      "0.23.0\n",
      "1.14.3\n",
      "0.4.1\n"
     ]
    }
   ],
   "source": [
    "import pandas as pd\n",
    "import numpy as np\n",
    "import missingno as msno # 누락 된 데이터를 시각화 해주기 위해\n",
    "\n",
    "import sys\n",
    "print(sys.version)\n",
    "print(pd.__version__)\n",
    "print(np.__version__)\n",
    "print(msno.__version__)"
   ]
  },
  {
   "cell_type": "code",
   "execution_count": 2,
   "metadata": {},
   "outputs": [
    {
     "name": "stdout",
     "output_type": "stream",
     "text": [
      "(891, 12)\n",
      "(418, 11)\n"
     ]
    }
   ],
   "source": [
    "# 판다스를 통해 데이터를 로드해 온다.\n",
    "# 여기에서는 캐글의 타이타닉 데이터를 사용한다. \n",
    "# 데이터 다운로드 : https://www.kaggle.com/c/titanic/data \n",
    "train = pd.read_csv('data/train.csv')\n",
    "test = pd.read_csv('data/test.csv')\n",
    "\n",
    "print(train.shape)\n",
    "print(test.shape)"
   ]
  },
  {
   "cell_type": "code",
   "execution_count": 3,
   "metadata": {},
   "outputs": [
    {
     "name": "stdout",
     "output_type": "stream",
     "text": [
      "<class 'pandas.core.frame.DataFrame'>\n",
      "RangeIndex: 891 entries, 0 to 890\n",
      "Data columns (total 12 columns):\n",
      "PassengerId    891 non-null int64\n",
      "Survived       891 non-null int64\n",
      "Pclass         891 non-null int64\n",
      "Name           891 non-null object\n",
      "Sex            891 non-null object\n",
      "Age            714 non-null float64\n",
      "SibSp          891 non-null int64\n",
      "Parch          891 non-null int64\n",
      "Ticket         891 non-null object\n",
      "Fare           891 non-null float64\n",
      "Cabin          204 non-null object\n",
      "Embarked       889 non-null object\n",
      "dtypes: float64(2), int64(5), object(5)\n",
      "memory usage: 83.6+ KB\n"
     ]
    }
   ],
   "source": [
    "train.info()"
   ]
  },
  {
   "cell_type": "code",
   "execution_count": 4,
   "metadata": {},
   "outputs": [
    {
     "name": "stdout",
     "output_type": "stream",
     "text": [
      "<class 'pandas.core.frame.DataFrame'>\n",
      "RangeIndex: 418 entries, 0 to 417\n",
      "Data columns (total 11 columns):\n",
      "PassengerId    418 non-null int64\n",
      "Pclass         418 non-null int64\n",
      "Name           418 non-null object\n",
      "Sex            418 non-null object\n",
      "Age            332 non-null float64\n",
      "SibSp          418 non-null int64\n",
      "Parch          418 non-null int64\n",
      "Ticket         418 non-null object\n",
      "Fare           417 non-null float64\n",
      "Cabin          91 non-null object\n",
      "Embarked       418 non-null object\n",
      "dtypes: float64(2), int64(4), object(5)\n",
      "memory usage: 36.0+ KB\n"
     ]
    }
   ],
   "source": [
    "test.info()"
   ]
  },
  {
   "cell_type": "markdown",
   "metadata": {},
   "source": [
    "## 결측치 보기"
   ]
  },
  {
   "cell_type": "code",
   "execution_count": 5,
   "metadata": {},
   "outputs": [
    {
     "data": {
      "text/plain": [
       "<matplotlib.axes._subplots.AxesSubplot at 0xa7cd9b0>"
      ]
     },
     "execution_count": 5,
     "metadata": {},
     "output_type": "execute_result"
    },
    {
     "name": "stderr",
     "output_type": "stream",
     "text": [
      "C:\\Users\\home\\Anaconda3\\lib\\site-packages\\matplotlib\\font_manager.py:1328: UserWarning: findfont: Font family ['HYnamM'] not found. Falling back to DejaVu Sans\n",
      "  (prop.get_family(), self.defaultFamily[fontext]))\n",
      "C:\\Users\\home\\Anaconda3\\lib\\site-packages\\matplotlib\\font_manager.py:1328: UserWarning: findfont: Font family ['HYnamM'] not found. Falling back to DejaVu Sans\n",
      "  (prop.get_family(), self.defaultFamily[fontext]))\n",
      "C:\\Users\\home\\Anaconda3\\lib\\site-packages\\matplotlib\\font_manager.py:1328: UserWarning: findfont: Font family ['HYnamM'] not found. Falling back to DejaVu Sans\n",
      "  (prop.get_family(), self.defaultFamily[fontext]))\n",
      "C:\\Users\\home\\Anaconda3\\lib\\site-packages\\matplotlib\\font_manager.py:1328: UserWarning: findfont: Font family ['HYnamM'] not found. Falling back to DejaVu Sans\n",
      "  (prop.get_family(), self.defaultFamily[fontext]))\n",
      "C:\\Users\\home\\Anaconda3\\lib\\site-packages\\matplotlib\\font_manager.py:1328: UserWarning: findfont: Font family ['HYnamM'] not found. Falling back to DejaVu Sans\n",
      "  (prop.get_family(), self.defaultFamily[fontext]))\n",
      "C:\\Users\\home\\Anaconda3\\lib\\site-packages\\matplotlib\\font_manager.py:1328: UserWarning: findfont: Font family ['HYnamM'] not found. Falling back to DejaVu Sans\n",
      "  (prop.get_family(), self.defaultFamily[fontext]))\n",
      "C:\\Users\\home\\Anaconda3\\lib\\site-packages\\matplotlib\\font_manager.py:1328: UserWarning: findfont: Font family ['HYnamM'] not found. Falling back to DejaVu Sans\n",
      "  (prop.get_family(), self.defaultFamily[fontext]))\n",
      "C:\\Users\\home\\Anaconda3\\lib\\site-packages\\matplotlib\\font_manager.py:1328: UserWarning: findfont: Font family ['HYnamM'] not found. Falling back to DejaVu Sans\n",
      "  (prop.get_family(), self.defaultFamily[fontext]))\n",
      "C:\\Users\\home\\Anaconda3\\lib\\site-packages\\matplotlib\\font_manager.py:1328: UserWarning: findfont: Font family ['HYnamM'] not found. Falling back to DejaVu Sans\n",
      "  (prop.get_family(), self.defaultFamily[fontext]))\n",
      "C:\\Users\\home\\Anaconda3\\lib\\site-packages\\matplotlib\\font_manager.py:1328: UserWarning: findfont: Font family ['HYnamM'] not found. Falling back to DejaVu Sans\n",
      "  (prop.get_family(), self.defaultFamily[fontext]))\n",
      "C:\\Users\\home\\Anaconda3\\lib\\site-packages\\matplotlib\\font_manager.py:1328: UserWarning: findfont: Font family ['HYnamM'] not found. Falling back to DejaVu Sans\n",
      "  (prop.get_family(), self.defaultFamily[fontext]))\n",
      "C:\\Users\\home\\Anaconda3\\lib\\site-packages\\matplotlib\\font_manager.py:1328: UserWarning: findfont: Font family ['HYnamM'] not found. Falling back to DejaVu Sans\n",
      "  (prop.get_family(), self.defaultFamily[fontext]))\n",
      "C:\\Users\\home\\Anaconda3\\lib\\site-packages\\matplotlib\\font_manager.py:1328: UserWarning: findfont: Font family ['HYnamM'] not found. Falling back to DejaVu Sans\n",
      "  (prop.get_family(), self.defaultFamily[fontext]))\n",
      "C:\\Users\\home\\Anaconda3\\lib\\site-packages\\matplotlib\\font_manager.py:1328: UserWarning: findfont: Font family ['HYnamM'] not found. Falling back to DejaVu Sans\n",
      "  (prop.get_family(), self.defaultFamily[fontext]))\n",
      "C:\\Users\\home\\Anaconda3\\lib\\site-packages\\matplotlib\\font_manager.py:1328: UserWarning: findfont: Font family ['HYnamM'] not found. Falling back to DejaVu Sans\n",
      "  (prop.get_family(), self.defaultFamily[fontext]))\n",
      "C:\\Users\\home\\Anaconda3\\lib\\site-packages\\matplotlib\\font_manager.py:1328: UserWarning: findfont: Font family ['HYnamM'] not found. Falling back to DejaVu Sans\n",
      "  (prop.get_family(), self.defaultFamily[fontext]))\n",
      "C:\\Users\\home\\Anaconda3\\lib\\site-packages\\matplotlib\\font_manager.py:1328: UserWarning: findfont: Font family ['HYnamM'] not found. Falling back to DejaVu Sans\n",
      "  (prop.get_family(), self.defaultFamily[fontext]))\n",
      "C:\\Users\\home\\Anaconda3\\lib\\site-packages\\matplotlib\\font_manager.py:1328: UserWarning: findfont: Font family ['HYnamM'] not found. Falling back to DejaVu Sans\n",
      "  (prop.get_family(), self.defaultFamily[fontext]))\n",
      "C:\\Users\\home\\Anaconda3\\lib\\site-packages\\matplotlib\\font_manager.py:1328: UserWarning: findfont: Font family ['HYnamM'] not found. Falling back to DejaVu Sans\n",
      "  (prop.get_family(), self.defaultFamily[fontext]))\n",
      "C:\\Users\\home\\Anaconda3\\lib\\site-packages\\matplotlib\\font_manager.py:1328: UserWarning: findfont: Font family ['HYnamM'] not found. Falling back to DejaVu Sans\n",
      "  (prop.get_family(), self.defaultFamily[fontext]))\n",
      "C:\\Users\\home\\Anaconda3\\lib\\site-packages\\matplotlib\\font_manager.py:1328: UserWarning: findfont: Font family ['HYnamM'] not found. Falling back to DejaVu Sans\n",
      "  (prop.get_family(), self.defaultFamily[fontext]))\n",
      "C:\\Users\\home\\Anaconda3\\lib\\site-packages\\matplotlib\\font_manager.py:1328: UserWarning: findfont: Font family ['HYnamM'] not found. Falling back to DejaVu Sans\n",
      "  (prop.get_family(), self.defaultFamily[fontext]))\n",
      "C:\\Users\\home\\Anaconda3\\lib\\site-packages\\matplotlib\\font_manager.py:1328: UserWarning: findfont: Font family ['HYnamM'] not found. Falling back to DejaVu Sans\n",
      "  (prop.get_family(), self.defaultFamily[fontext]))\n",
      "C:\\Users\\home\\Anaconda3\\lib\\site-packages\\matplotlib\\font_manager.py:1328: UserWarning: findfont: Font family ['HYnamM'] not found. Falling back to DejaVu Sans\n",
      "  (prop.get_family(), self.defaultFamily[fontext]))\n",
      "C:\\Users\\home\\Anaconda3\\lib\\site-packages\\matplotlib\\font_manager.py:1328: UserWarning: findfont: Font family ['HYnamM'] not found. Falling back to DejaVu Sans\n",
      "  (prop.get_family(), self.defaultFamily[fontext]))\n",
      "C:\\Users\\home\\Anaconda3\\lib\\site-packages\\matplotlib\\font_manager.py:1328: UserWarning: findfont: Font family ['HYnamM'] not found. Falling back to DejaVu Sans\n",
      "  (prop.get_family(), self.defaultFamily[fontext]))\n",
      "C:\\Users\\home\\Anaconda3\\lib\\site-packages\\matplotlib\\font_manager.py:1328: UserWarning: findfont: Font family ['HYnamM'] not found. Falling back to DejaVu Sans\n",
      "  (prop.get_family(), self.defaultFamily[fontext]))\n",
      "C:\\Users\\home\\Anaconda3\\lib\\site-packages\\matplotlib\\font_manager.py:1328: UserWarning: findfont: Font family ['HYnamM'] not found. Falling back to DejaVu Sans\n",
      "  (prop.get_family(), self.defaultFamily[fontext]))\n",
      "C:\\Users\\home\\Anaconda3\\lib\\site-packages\\matplotlib\\font_manager.py:1328: UserWarning: findfont: Font family ['HYnamM'] not found. Falling back to DejaVu Sans\n",
      "  (prop.get_family(), self.defaultFamily[fontext]))\n",
      "C:\\Users\\home\\Anaconda3\\lib\\site-packages\\matplotlib\\font_manager.py:1328: UserWarning: findfont: Font family ['HYnamM'] not found. Falling back to DejaVu Sans\n",
      "  (prop.get_family(), self.defaultFamily[fontext]))\n",
      "C:\\Users\\home\\Anaconda3\\lib\\site-packages\\matplotlib\\font_manager.py:1328: UserWarning: findfont: Font family ['HYnamM'] not found. Falling back to DejaVu Sans\n",
      "  (prop.get_family(), self.defaultFamily[fontext]))\n",
      "C:\\Users\\home\\Anaconda3\\lib\\site-packages\\matplotlib\\font_manager.py:1328: UserWarning: findfont: Font family ['HYnamM'] not found. Falling back to DejaVu Sans\n",
      "  (prop.get_family(), self.defaultFamily[fontext]))\n",
      "C:\\Users\\home\\Anaconda3\\lib\\site-packages\\matplotlib\\font_manager.py:1328: UserWarning: findfont: Font family ['HYnamM'] not found. Falling back to DejaVu Sans\n",
      "  (prop.get_family(), self.defaultFamily[fontext]))\n",
      "C:\\Users\\home\\Anaconda3\\lib\\site-packages\\matplotlib\\font_manager.py:1328: UserWarning: findfont: Font family ['HYnamM'] not found. Falling back to DejaVu Sans\n",
      "  (prop.get_family(), self.defaultFamily[fontext]))\n",
      "C:\\Users\\home\\Anaconda3\\lib\\site-packages\\matplotlib\\font_manager.py:1328: UserWarning: findfont: Font family ['HYnamM'] not found. Falling back to DejaVu Sans\n",
      "  (prop.get_family(), self.defaultFamily[fontext]))\n",
      "C:\\Users\\home\\Anaconda3\\lib\\site-packages\\matplotlib\\font_manager.py:1328: UserWarning: findfont: Font family ['HYnamM'] not found. Falling back to DejaVu Sans\n",
      "  (prop.get_family(), self.defaultFamily[fontext]))\n",
      "C:\\Users\\home\\Anaconda3\\lib\\site-packages\\matplotlib\\font_manager.py:1328: UserWarning: findfont: Font family ['HYnamM'] not found. Falling back to DejaVu Sans\n",
      "  (prop.get_family(), self.defaultFamily[fontext]))\n",
      "C:\\Users\\home\\Anaconda3\\lib\\site-packages\\matplotlib\\font_manager.py:1328: UserWarning: findfont: Font family ['HYnamM'] not found. Falling back to DejaVu Sans\n",
      "  (prop.get_family(), self.defaultFamily[fontext]))\n",
      "C:\\Users\\home\\Anaconda3\\lib\\site-packages\\matplotlib\\font_manager.py:1328: UserWarning: findfont: Font family ['HYnamM'] not found. Falling back to DejaVu Sans\n",
      "  (prop.get_family(), self.defaultFamily[fontext]))\n",
      "C:\\Users\\home\\Anaconda3\\lib\\site-packages\\matplotlib\\font_manager.py:1328: UserWarning: findfont: Font family ['HYnamM'] not found. Falling back to DejaVu Sans\n",
      "  (prop.get_family(), self.defaultFamily[fontext]))\n",
      "C:\\Users\\home\\Anaconda3\\lib\\site-packages\\matplotlib\\font_manager.py:1328: UserWarning: findfont: Font family ['HYnamM'] not found. Falling back to DejaVu Sans\n",
      "  (prop.get_family(), self.defaultFamily[fontext]))\n",
      "C:\\Users\\home\\Anaconda3\\lib\\site-packages\\matplotlib\\font_manager.py:1328: UserWarning: findfont: Font family ['HYnamM'] not found. Falling back to DejaVu Sans\n",
      "  (prop.get_family(), self.defaultFamily[fontext]))\n"
     ]
    },
    {
     "name": "stderr",
     "output_type": "stream",
     "text": [
      "C:\\Users\\home\\Anaconda3\\lib\\site-packages\\matplotlib\\font_manager.py:1328: UserWarning: findfont: Font family ['HYnamM'] not found. Falling back to DejaVu Sans\n",
      "  (prop.get_family(), self.defaultFamily[fontext]))\n",
      "C:\\Users\\home\\Anaconda3\\lib\\site-packages\\matplotlib\\font_manager.py:1328: UserWarning: findfont: Font family ['HYnamM'] not found. Falling back to DejaVu Sans\n",
      "  (prop.get_family(), self.defaultFamily[fontext]))\n",
      "C:\\Users\\home\\Anaconda3\\lib\\site-packages\\matplotlib\\font_manager.py:1328: UserWarning: findfont: Font family ['HYnamM'] not found. Falling back to DejaVu Sans\n",
      "  (prop.get_family(), self.defaultFamily[fontext]))\n",
      "C:\\Users\\home\\Anaconda3\\lib\\site-packages\\matplotlib\\font_manager.py:1328: UserWarning: findfont: Font family ['HYnamM'] not found. Falling back to DejaVu Sans\n",
      "  (prop.get_family(), self.defaultFamily[fontext]))\n",
      "C:\\Users\\home\\Anaconda3\\lib\\site-packages\\matplotlib\\font_manager.py:1328: UserWarning: findfont: Font family ['HYnamM'] not found. Falling back to DejaVu Sans\n",
      "  (prop.get_family(), self.defaultFamily[fontext]))\n",
      "C:\\Users\\home\\Anaconda3\\lib\\site-packages\\matplotlib\\font_manager.py:1328: UserWarning: findfont: Font family ['HYnamM'] not found. Falling back to DejaVu Sans\n",
      "  (prop.get_family(), self.defaultFamily[fontext]))\n",
      "C:\\Users\\home\\Anaconda3\\lib\\site-packages\\matplotlib\\font_manager.py:1328: UserWarning: findfont: Font family ['HYnamM'] not found. Falling back to DejaVu Sans\n",
      "  (prop.get_family(), self.defaultFamily[fontext]))\n",
      "C:\\Users\\home\\Anaconda3\\lib\\site-packages\\matplotlib\\font_manager.py:1328: UserWarning: findfont: Font family ['HYnamM'] not found. Falling back to DejaVu Sans\n",
      "  (prop.get_family(), self.defaultFamily[fontext]))\n",
      "C:\\Users\\home\\Anaconda3\\lib\\site-packages\\matplotlib\\font_manager.py:1328: UserWarning: findfont: Font family ['HYnamM'] not found. Falling back to DejaVu Sans\n",
      "  (prop.get_family(), self.defaultFamily[fontext]))\n",
      "C:\\Users\\home\\Anaconda3\\lib\\site-packages\\matplotlib\\font_manager.py:1328: UserWarning: findfont: Font family ['HYnamM'] not found. Falling back to DejaVu Sans\n",
      "  (prop.get_family(), self.defaultFamily[fontext]))\n",
      "C:\\Users\\home\\Anaconda3\\lib\\site-packages\\matplotlib\\font_manager.py:1328: UserWarning: findfont: Font family ['HYnamM'] not found. Falling back to DejaVu Sans\n",
      "  (prop.get_family(), self.defaultFamily[fontext]))\n",
      "C:\\Users\\home\\Anaconda3\\lib\\site-packages\\matplotlib\\font_manager.py:1328: UserWarning: findfont: Font family ['HYnamM'] not found. Falling back to DejaVu Sans\n",
      "  (prop.get_family(), self.defaultFamily[fontext]))\n",
      "C:\\Users\\home\\Anaconda3\\lib\\site-packages\\matplotlib\\font_manager.py:1328: UserWarning: findfont: Font family ['HYnamM'] not found. Falling back to DejaVu Sans\n",
      "  (prop.get_family(), self.defaultFamily[fontext]))\n",
      "C:\\Users\\home\\Anaconda3\\lib\\site-packages\\matplotlib\\font_manager.py:1328: UserWarning: findfont: Font family ['HYnamM'] not found. Falling back to DejaVu Sans\n",
      "  (prop.get_family(), self.defaultFamily[fontext]))\n",
      "C:\\Users\\home\\Anaconda3\\lib\\site-packages\\matplotlib\\font_manager.py:1328: UserWarning: findfont: Font family ['HYnamM'] not found. Falling back to DejaVu Sans\n",
      "  (prop.get_family(), self.defaultFamily[fontext]))\n",
      "C:\\Users\\home\\Anaconda3\\lib\\site-packages\\matplotlib\\font_manager.py:1328: UserWarning: findfont: Font family ['HYnamM'] not found. Falling back to DejaVu Sans\n",
      "  (prop.get_family(), self.defaultFamily[fontext]))\n",
      "C:\\Users\\home\\Anaconda3\\lib\\site-packages\\matplotlib\\font_manager.py:1328: UserWarning: findfont: Font family ['HYnamM'] not found. Falling back to DejaVu Sans\n",
      "  (prop.get_family(), self.defaultFamily[fontext]))\n",
      "C:\\Users\\home\\Anaconda3\\lib\\site-packages\\matplotlib\\font_manager.py:1328: UserWarning: findfont: Font family ['HYnamM'] not found. Falling back to DejaVu Sans\n",
      "  (prop.get_family(), self.defaultFamily[fontext]))\n",
      "C:\\Users\\home\\Anaconda3\\lib\\site-packages\\matplotlib\\font_manager.py:1328: UserWarning: findfont: Font family ['HYnamM'] not found. Falling back to DejaVu Sans\n",
      "  (prop.get_family(), self.defaultFamily[fontext]))\n",
      "C:\\Users\\home\\Anaconda3\\lib\\site-packages\\matplotlib\\font_manager.py:1328: UserWarning: findfont: Font family ['HYnamM'] not found. Falling back to DejaVu Sans\n",
      "  (prop.get_family(), self.defaultFamily[fontext]))\n",
      "C:\\Users\\home\\Anaconda3\\lib\\site-packages\\matplotlib\\font_manager.py:1328: UserWarning: findfont: Font family ['HYnamM'] not found. Falling back to DejaVu Sans\n",
      "  (prop.get_family(), self.defaultFamily[fontext]))\n",
      "C:\\Users\\home\\Anaconda3\\lib\\site-packages\\matplotlib\\font_manager.py:1328: UserWarning: findfont: Font family ['HYnamM'] not found. Falling back to DejaVu Sans\n",
      "  (prop.get_family(), self.defaultFamily[fontext]))\n",
      "C:\\Users\\home\\Anaconda3\\lib\\site-packages\\matplotlib\\font_manager.py:1328: UserWarning: findfont: Font family ['HYnamM'] not found. Falling back to DejaVu Sans\n",
      "  (prop.get_family(), self.defaultFamily[fontext]))\n",
      "C:\\Users\\home\\Anaconda3\\lib\\site-packages\\matplotlib\\font_manager.py:1328: UserWarning: findfont: Font family ['HYnamM'] not found. Falling back to DejaVu Sans\n",
      "  (prop.get_family(), self.defaultFamily[fontext]))\n",
      "C:\\Users\\home\\Anaconda3\\lib\\site-packages\\matplotlib\\font_manager.py:1328: UserWarning: findfont: Font family ['HYnamM'] not found. Falling back to DejaVu Sans\n",
      "  (prop.get_family(), self.defaultFamily[fontext]))\n",
      "C:\\Users\\home\\Anaconda3\\lib\\site-packages\\matplotlib\\font_manager.py:1328: UserWarning: findfont: Font family ['HYnamM'] not found. Falling back to DejaVu Sans\n",
      "  (prop.get_family(), self.defaultFamily[fontext]))\n",
      "C:\\Users\\home\\Anaconda3\\lib\\site-packages\\matplotlib\\font_manager.py:1328: UserWarning: findfont: Font family ['HYnamM'] not found. Falling back to DejaVu Sans\n",
      "  (prop.get_family(), self.defaultFamily[fontext]))\n",
      "C:\\Users\\home\\Anaconda3\\lib\\site-packages\\matplotlib\\font_manager.py:1328: UserWarning: findfont: Font family ['HYnamM'] not found. Falling back to DejaVu Sans\n",
      "  (prop.get_family(), self.defaultFamily[fontext]))\n",
      "C:\\Users\\home\\Anaconda3\\lib\\site-packages\\matplotlib\\font_manager.py:1328: UserWarning: findfont: Font family ['HYnamM'] not found. Falling back to DejaVu Sans\n",
      "  (prop.get_family(), self.defaultFamily[fontext]))\n",
      "C:\\Users\\home\\Anaconda3\\lib\\site-packages\\matplotlib\\font_manager.py:1328: UserWarning: findfont: Font family ['HYnamM'] not found. Falling back to DejaVu Sans\n",
      "  (prop.get_family(), self.defaultFamily[fontext]))\n",
      "C:\\Users\\home\\Anaconda3\\lib\\site-packages\\matplotlib\\font_manager.py:1328: UserWarning: findfont: Font family ['HYnamM'] not found. Falling back to DejaVu Sans\n",
      "  (prop.get_family(), self.defaultFamily[fontext]))\n",
      "C:\\Users\\home\\Anaconda3\\lib\\site-packages\\matplotlib\\font_manager.py:1328: UserWarning: findfont: Font family ['HYnamM'] not found. Falling back to DejaVu Sans\n",
      "  (prop.get_family(), self.defaultFamily[fontext]))\n",
      "C:\\Users\\home\\Anaconda3\\lib\\site-packages\\matplotlib\\font_manager.py:1328: UserWarning: findfont: Font family ['HYnamM'] not found. Falling back to DejaVu Sans\n",
      "  (prop.get_family(), self.defaultFamily[fontext]))\n",
      "C:\\Users\\home\\Anaconda3\\lib\\site-packages\\matplotlib\\font_manager.py:1328: UserWarning: findfont: Font family ['HYnamM'] not found. Falling back to DejaVu Sans\n",
      "  (prop.get_family(), self.defaultFamily[fontext]))\n",
      "C:\\Users\\home\\Anaconda3\\lib\\site-packages\\matplotlib\\font_manager.py:1328: UserWarning: findfont: Font family ['HYnamM'] not found. Falling back to DejaVu Sans\n",
      "  (prop.get_family(), self.defaultFamily[fontext]))\n",
      "C:\\Users\\home\\Anaconda3\\lib\\site-packages\\matplotlib\\font_manager.py:1328: UserWarning: findfont: Font family ['HYnamM'] not found. Falling back to DejaVu Sans\n",
      "  (prop.get_family(), self.defaultFamily[fontext]))\n",
      "C:\\Users\\home\\Anaconda3\\lib\\site-packages\\matplotlib\\font_manager.py:1328: UserWarning: findfont: Font family ['HYnamM'] not found. Falling back to DejaVu Sans\n",
      "  (prop.get_family(), self.defaultFamily[fontext]))\n",
      "C:\\Users\\home\\Anaconda3\\lib\\site-packages\\matplotlib\\font_manager.py:1328: UserWarning: findfont: Font family ['HYnamM'] not found. Falling back to DejaVu Sans\n",
      "  (prop.get_family(), self.defaultFamily[fontext]))\n",
      "C:\\Users\\home\\Anaconda3\\lib\\site-packages\\matplotlib\\font_manager.py:1328: UserWarning: findfont: Font family ['HYnamM'] not found. Falling back to DejaVu Sans\n",
      "  (prop.get_family(), self.defaultFamily[fontext]))\n",
      "C:\\Users\\home\\Anaconda3\\lib\\site-packages\\matplotlib\\font_manager.py:1328: UserWarning: findfont: Font family ['HYnamM'] not found. Falling back to DejaVu Sans\n",
      "  (prop.get_family(), self.defaultFamily[fontext]))\n",
      "C:\\Users\\home\\Anaconda3\\lib\\site-packages\\matplotlib\\font_manager.py:1328: UserWarning: findfont: Font family ['HYnamM'] not found. Falling back to DejaVu Sans\n",
      "  (prop.get_family(), self.defaultFamily[fontext]))\n"
     ]
    },
    {
     "name": "stderr",
     "output_type": "stream",
     "text": [
      "C:\\Users\\home\\Anaconda3\\lib\\site-packages\\matplotlib\\font_manager.py:1328: UserWarning: findfont: Font family ['HYnamM'] not found. Falling back to DejaVu Sans\n",
      "  (prop.get_family(), self.defaultFamily[fontext]))\n",
      "C:\\Users\\home\\Anaconda3\\lib\\site-packages\\matplotlib\\font_manager.py:1328: UserWarning: findfont: Font family ['HYnamM'] not found. Falling back to DejaVu Sans\n",
      "  (prop.get_family(), self.defaultFamily[fontext]))\n",
      "C:\\Users\\home\\Anaconda3\\lib\\site-packages\\matplotlib\\font_manager.py:1328: UserWarning: findfont: Font family ['HYnamM'] not found. Falling back to DejaVu Sans\n",
      "  (prop.get_family(), self.defaultFamily[fontext]))\n",
      "C:\\Users\\home\\Anaconda3\\lib\\site-packages\\matplotlib\\font_manager.py:1328: UserWarning: findfont: Font family ['HYnamM'] not found. Falling back to DejaVu Sans\n",
      "  (prop.get_family(), self.defaultFamily[fontext]))\n",
      "C:\\Users\\home\\Anaconda3\\lib\\site-packages\\matplotlib\\font_manager.py:1328: UserWarning: findfont: Font family ['HYnamM'] not found. Falling back to DejaVu Sans\n",
      "  (prop.get_family(), self.defaultFamily[fontext]))\n",
      "C:\\Users\\home\\Anaconda3\\lib\\site-packages\\matplotlib\\font_manager.py:1328: UserWarning: findfont: Font family ['HYnamM'] not found. Falling back to DejaVu Sans\n",
      "  (prop.get_family(), self.defaultFamily[fontext]))\n",
      "C:\\Users\\home\\Anaconda3\\lib\\site-packages\\matplotlib\\font_manager.py:1328: UserWarning: findfont: Font family ['HYnamM'] not found. Falling back to DejaVu Sans\n",
      "  (prop.get_family(), self.defaultFamily[fontext]))\n",
      "C:\\Users\\home\\Anaconda3\\lib\\site-packages\\matplotlib\\font_manager.py:1328: UserWarning: findfont: Font family ['HYnamM'] not found. Falling back to DejaVu Sans\n",
      "  (prop.get_family(), self.defaultFamily[fontext]))\n",
      "C:\\Users\\home\\Anaconda3\\lib\\site-packages\\matplotlib\\font_manager.py:1328: UserWarning: findfont: Font family ['HYnamM'] not found. Falling back to DejaVu Sans\n",
      "  (prop.get_family(), self.defaultFamily[fontext]))\n",
      "C:\\Users\\home\\Anaconda3\\lib\\site-packages\\matplotlib\\font_manager.py:1328: UserWarning: findfont: Font family ['HYnamM'] not found. Falling back to DejaVu Sans\n",
      "  (prop.get_family(), self.defaultFamily[fontext]))\n",
      "C:\\Users\\home\\Anaconda3\\lib\\site-packages\\matplotlib\\font_manager.py:1328: UserWarning: findfont: Font family ['HYnamM'] not found. Falling back to DejaVu Sans\n",
      "  (prop.get_family(), self.defaultFamily[fontext]))\n",
      "C:\\Users\\home\\Anaconda3\\lib\\site-packages\\matplotlib\\font_manager.py:1328: UserWarning: findfont: Font family ['HYnamM'] not found. Falling back to DejaVu Sans\n",
      "  (prop.get_family(), self.defaultFamily[fontext]))\n",
      "C:\\Users\\home\\Anaconda3\\lib\\site-packages\\matplotlib\\font_manager.py:1328: UserWarning: findfont: Font family ['HYnamM'] not found. Falling back to DejaVu Sans\n",
      "  (prop.get_family(), self.defaultFamily[fontext]))\n",
      "C:\\Users\\home\\Anaconda3\\lib\\site-packages\\matplotlib\\font_manager.py:1328: UserWarning: findfont: Font family ['HYnamM'] not found. Falling back to DejaVu Sans\n",
      "  (prop.get_family(), self.defaultFamily[fontext]))\n",
      "C:\\Users\\home\\Anaconda3\\lib\\site-packages\\matplotlib\\font_manager.py:1328: UserWarning: findfont: Font family ['HYnamM'] not found. Falling back to DejaVu Sans\n",
      "  (prop.get_family(), self.defaultFamily[fontext]))\n",
      "C:\\Users\\home\\Anaconda3\\lib\\site-packages\\matplotlib\\font_manager.py:1328: UserWarning: findfont: Font family ['HYnamM'] not found. Falling back to DejaVu Sans\n",
      "  (prop.get_family(), self.defaultFamily[fontext]))\n",
      "C:\\Users\\home\\Anaconda3\\lib\\site-packages\\matplotlib\\font_manager.py:1328: UserWarning: findfont: Font family ['HYnamM'] not found. Falling back to DejaVu Sans\n",
      "  (prop.get_family(), self.defaultFamily[fontext]))\n",
      "C:\\Users\\home\\Anaconda3\\lib\\site-packages\\matplotlib\\font_manager.py:1328: UserWarning: findfont: Font family ['HYnamM'] not found. Falling back to DejaVu Sans\n",
      "  (prop.get_family(), self.defaultFamily[fontext]))\n",
      "C:\\Users\\home\\Anaconda3\\lib\\site-packages\\matplotlib\\font_manager.py:1328: UserWarning: findfont: Font family ['HYnamM'] not found. Falling back to DejaVu Sans\n",
      "  (prop.get_family(), self.defaultFamily[fontext]))\n",
      "C:\\Users\\home\\Anaconda3\\lib\\site-packages\\matplotlib\\font_manager.py:1328: UserWarning: findfont: Font family ['HYnamM'] not found. Falling back to DejaVu Sans\n",
      "  (prop.get_family(), self.defaultFamily[fontext]))\n",
      "C:\\Users\\home\\Anaconda3\\lib\\site-packages\\matplotlib\\font_manager.py:1328: UserWarning: findfont: Font family ['HYnamM'] not found. Falling back to DejaVu Sans\n",
      "  (prop.get_family(), self.defaultFamily[fontext]))\n",
      "C:\\Users\\home\\Anaconda3\\lib\\site-packages\\matplotlib\\font_manager.py:1328: UserWarning: findfont: Font family ['HYnamM'] not found. Falling back to DejaVu Sans\n",
      "  (prop.get_family(), self.defaultFamily[fontext]))\n",
      "C:\\Users\\home\\Anaconda3\\lib\\site-packages\\matplotlib\\font_manager.py:1328: UserWarning: findfont: Font family ['HYnamM'] not found. Falling back to DejaVu Sans\n",
      "  (prop.get_family(), self.defaultFamily[fontext]))\n",
      "C:\\Users\\home\\Anaconda3\\lib\\site-packages\\matplotlib\\font_manager.py:1328: UserWarning: findfont: Font family ['HYnamM'] not found. Falling back to DejaVu Sans\n",
      "  (prop.get_family(), self.defaultFamily[fontext]))\n",
      "C:\\Users\\home\\Anaconda3\\lib\\site-packages\\matplotlib\\font_manager.py:1328: UserWarning: findfont: Font family ['HYnamM'] not found. Falling back to DejaVu Sans\n",
      "  (prop.get_family(), self.defaultFamily[fontext]))\n",
      "C:\\Users\\home\\Anaconda3\\lib\\site-packages\\matplotlib\\font_manager.py:1328: UserWarning: findfont: Font family ['HYnamM'] not found. Falling back to DejaVu Sans\n",
      "  (prop.get_family(), self.defaultFamily[fontext]))\n",
      "C:\\Users\\home\\Anaconda3\\lib\\site-packages\\matplotlib\\font_manager.py:1328: UserWarning: findfont: Font family ['HYnamM'] not found. Falling back to DejaVu Sans\n",
      "  (prop.get_family(), self.defaultFamily[fontext]))\n",
      "C:\\Users\\home\\Anaconda3\\lib\\site-packages\\matplotlib\\font_manager.py:1328: UserWarning: findfont: Font family ['HYnamM'] not found. Falling back to DejaVu Sans\n",
      "  (prop.get_family(), self.defaultFamily[fontext]))\n",
      "C:\\Users\\home\\Anaconda3\\lib\\site-packages\\matplotlib\\font_manager.py:1328: UserWarning: findfont: Font family ['HYnamM'] not found. Falling back to DejaVu Sans\n",
      "  (prop.get_family(), self.defaultFamily[fontext]))\n"
     ]
    },
    {
     "data": {
      "image/png": "[encoded data removed]",
      "text/plain": [
       "<Figure size 1800x720 with 2 Axes>"
      ]
     },
     "metadata": {},
     "output_type": "display_data"
    }
   ],
   "source": [
    "# 결측치를 시각화\n",
    "%matplotlib inline\n",
    "train = train.replace(\"nan\", np.nan)\n",
    "msno.matrix(train.sample(250))"
   ]
  },
  {
   "cell_type": "code",
   "execution_count": 6,
   "metadata": {},
   "outputs": [
    {
     "data": {
      "text/html": [
       "<div>\n",
       "<style scoped>\n",
       "    .dataframe tbody tr th:only-of-type {\n",
       "        vertical-align: middle;\n",
       "    }\n",
       "\n",
       "    .dataframe tbody tr th {\n",
       "        vertical-align: top;\n",
       "    }\n",
       "\n",
       "    .dataframe thead th {\n",
       "        text-align: right;\n",
       "    }\n",
       "</style>\n",
       "<table border=\"1\" class=\"dataframe\">\n",
       "  <thead>\n",
       "    <tr style=\"text-align: right;\">\n",
       "      <th></th>\n",
       "      <th>PassengerId</th>\n",
       "      <th>Survived</th>\n",
       "      <th>Pclass</th>\n",
       "      <th>Name</th>\n",
       "      <th>Sex</th>\n",
       "      <th>Age</th>\n",
       "      <th>SibSp</th>\n",
       "      <th>Parch</th>\n",
       "      <th>Ticket</th>\n",
       "      <th>Fare</th>\n",
       "      <th>Cabin</th>\n",
       "      <th>Embarked</th>\n",
       "    </tr>\n",
       "  </thead>\n",
       "  <tbody>\n",
       "    <tr>\n",
       "      <th>0</th>\n",
       "      <td>False</td>\n",
       "      <td>False</td>\n",
       "      <td>False</td>\n",
       "      <td>False</td>\n",
       "      <td>False</td>\n",
       "      <td>False</td>\n",
       "      <td>False</td>\n",
       "      <td>False</td>\n",
       "      <td>False</td>\n",
       "      <td>False</td>\n",
       "      <td>True</td>\n",
       "      <td>False</td>\n",
       "    </tr>\n",
       "    <tr>\n",
       "      <th>1</th>\n",
       "      <td>False</td>\n",
       "      <td>False</td>\n",
       "      <td>False</td>\n",
       "      <td>False</td>\n",
       "      <td>False</td>\n",
       "      <td>False</td>\n",
       "      <td>False</td>\n",
       "      <td>False</td>\n",
       "      <td>False</td>\n",
       "      <td>False</td>\n",
       "      <td>False</td>\n",
       "      <td>False</td>\n",
       "    </tr>\n",
       "    <tr>\n",
       "      <th>2</th>\n",
       "      <td>False</td>\n",
       "      <td>False</td>\n",
       "      <td>False</td>\n",
       "      <td>False</td>\n",
       "      <td>False</td>\n",
       "      <td>False</td>\n",
       "      <td>False</td>\n",
       "      <td>False</td>\n",
       "      <td>False</td>\n",
       "      <td>False</td>\n",
       "      <td>True</td>\n",
       "      <td>False</td>\n",
       "    </tr>\n",
       "    <tr>\n",
       "      <th>3</th>\n",
       "      <td>False</td>\n",
       "      <td>False</td>\n",
       "      <td>False</td>\n",
       "      <td>False</td>\n",
       "      <td>False</td>\n",
       "      <td>False</td>\n",
       "      <td>False</td>\n",
       "      <td>False</td>\n",
       "      <td>False</td>\n",
       "      <td>False</td>\n",
       "      <td>False</td>\n",
       "      <td>False</td>\n",
       "    </tr>\n",
       "    <tr>\n",
       "      <th>4</th>\n",
       "      <td>False</td>\n",
       "      <td>False</td>\n",
       "      <td>False</td>\n",
       "      <td>False</td>\n",
       "      <td>False</td>\n",
       "      <td>False</td>\n",
       "      <td>False</td>\n",
       "      <td>False</td>\n",
       "      <td>False</td>\n",
       "      <td>False</td>\n",
       "      <td>True</td>\n",
       "      <td>False</td>\n",
       "    </tr>\n",
       "  </tbody>\n",
       "</table>\n",
       "</div>"
      ],
      "text/plain": [
       "   PassengerId  Survived  Pclass   Name    Sex    Age  SibSp  Parch  Ticket  \\\n",
       "0        False     False   False  False  False  False  False  False   False   \n",
       "1        False     False   False  False  False  False  False  False   False   \n",
       "2        False     False   False  False  False  False  False  False   False   \n",
       "3        False     False   False  False  False  False  False  False   False   \n",
       "4        False     False   False  False  False  False  False  False   False   \n",
       "\n",
       "    Fare  Cabin  Embarked  \n",
       "0  False   True     False  \n",
       "1  False  False     False  \n",
       "2  False   True     False  \n",
       "3  False  False     False  \n",
       "4  False   True     False  "
      ]
     },
     "execution_count": 6,
     "metadata": {},
     "output_type": "execute_result"
    }
   ],
   "source": [
    "# null 값 여부를 조회해 볼 수 있다.\n",
    "train.isnull().head()"
   ]
  },
  {
   "cell_type": "code",
   "execution_count": 7,
   "metadata": {},
   "outputs": [
    {
     "data": {
      "text/plain": [
       "PassengerId      0\n",
       "Survived         0\n",
       "Pclass           0\n",
       "Name             0\n",
       "Sex              0\n",
       "Age            177\n",
       "SibSp            0\n",
       "Parch            0\n",
       "Ticket           0\n",
       "Fare             0\n",
       "Cabin          687\n",
       "Embarked         2\n",
       "dtype: int64"
      ]
     },
     "execution_count": 7,
     "metadata": {},
     "output_type": "execute_result"
    }
   ],
   "source": [
    "train.isnull().sum()"
   ]
  },
  {
   "cell_type": "code",
   "execution_count": 8,
   "metadata": {},
   "outputs": [
    {
     "data": {
      "text/plain": [
       "PassengerId      0\n",
       "Pclass           0\n",
       "Name             0\n",
       "Sex              0\n",
       "Age             86\n",
       "SibSp            0\n",
       "Parch            0\n",
       "Ticket           0\n",
       "Fare             1\n",
       "Cabin          327\n",
       "Embarked         0\n",
       "dtype: int64"
      ]
     },
     "execution_count": 8,
     "metadata": {},
     "output_type": "execute_result"
    }
   ],
   "source": [
    "test.isnull().sum()"
   ]
  },
  {
   "cell_type": "markdown",
   "metadata": {},
   "source": [
    "## 1. 중간값이나 최빈값으로 채워줌"
   ]
  },
  {
   "cell_type": "code",
   "execution_count": 9,
   "metadata": {},
   "outputs": [],
   "source": [
    "train_mean = train.copy(deep = True)\n",
    "test_mean = test.copy(deep = True)"
   ]
  },
  {
   "cell_type": "code",
   "execution_count": 10,
   "metadata": {},
   "outputs": [
    {
     "data": {
      "text/html": [
       "<div>\n",
       "<style scoped>\n",
       "    .dataframe tbody tr th:only-of-type {\n",
       "        vertical-align: middle;\n",
       "    }\n",
       "\n",
       "    .dataframe tbody tr th {\n",
       "        vertical-align: top;\n",
       "    }\n",
       "\n",
       "    .dataframe thead th {\n",
       "        text-align: right;\n",
       "    }\n",
       "</style>\n",
       "<table border=\"1\" class=\"dataframe\">\n",
       "  <thead>\n",
       "    <tr style=\"text-align: right;\">\n",
       "      <th></th>\n",
       "      <th>PassengerId</th>\n",
       "      <th>Survived</th>\n",
       "      <th>Pclass</th>\n",
       "      <th>Name</th>\n",
       "      <th>Sex</th>\n",
       "      <th>Age</th>\n",
       "      <th>SibSp</th>\n",
       "      <th>Parch</th>\n",
       "      <th>Ticket</th>\n",
       "      <th>Fare</th>\n",
       "      <th>Cabin</th>\n",
       "      <th>Embarked</th>\n",
       "    </tr>\n",
       "  </thead>\n",
       "  <tbody>\n",
       "    <tr>\n",
       "      <th>0</th>\n",
       "      <td>1</td>\n",
       "      <td>0</td>\n",
       "      <td>3</td>\n",
       "      <td>Braund, Mr. Owen Harris</td>\n",
       "      <td>male</td>\n",
       "      <td>22.0</td>\n",
       "      <td>1</td>\n",
       "      <td>0</td>\n",
       "      <td>A/5 21171</td>\n",
       "      <td>7.2500</td>\n",
       "      <td>NaN</td>\n",
       "      <td>S</td>\n",
       "    </tr>\n",
       "    <tr>\n",
       "      <th>1</th>\n",
       "      <td>2</td>\n",
       "      <td>1</td>\n",
       "      <td>1</td>\n",
       "      <td>Cumings, Mrs. John Bradley (Florence Briggs Th...</td>\n",
       "      <td>female</td>\n",
       "      <td>38.0</td>\n",
       "      <td>1</td>\n",
       "      <td>0</td>\n",
       "      <td>PC 17599</td>\n",
       "      <td>71.2833</td>\n",
       "      <td>C85</td>\n",
       "      <td>C</td>\n",
       "    </tr>\n",
       "    <tr>\n",
       "      <th>2</th>\n",
       "      <td>3</td>\n",
       "      <td>1</td>\n",
       "      <td>3</td>\n",
       "      <td>Heikkinen, Miss. Laina</td>\n",
       "      <td>female</td>\n",
       "      <td>26.0</td>\n",
       "      <td>0</td>\n",
       "      <td>0</td>\n",
       "      <td>STON/O2. 3101282</td>\n",
       "      <td>7.9250</td>\n",
       "      <td>NaN</td>\n",
       "      <td>S</td>\n",
       "    </tr>\n",
       "    <tr>\n",
       "      <th>3</th>\n",
       "      <td>4</td>\n",
       "      <td>1</td>\n",
       "      <td>1</td>\n",
       "      <td>Futrelle, Mrs. Jacques Heath (Lily May Peel)</td>\n",
       "      <td>female</td>\n",
       "      <td>35.0</td>\n",
       "      <td>1</td>\n",
       "      <td>0</td>\n",
       "      <td>113803</td>\n",
       "      <td>53.1000</td>\n",
       "      <td>C123</td>\n",
       "      <td>S</td>\n",
       "    </tr>\n",
       "    <tr>\n",
       "      <th>4</th>\n",
       "      <td>5</td>\n",
       "      <td>0</td>\n",
       "      <td>3</td>\n",
       "      <td>Allen, Mr. William Henry</td>\n",
       "      <td>male</td>\n",
       "      <td>35.0</td>\n",
       "      <td>0</td>\n",
       "      <td>0</td>\n",
       "      <td>373450</td>\n",
       "      <td>8.0500</td>\n",
       "      <td>NaN</td>\n",
       "      <td>S</td>\n",
       "    </tr>\n",
       "  </tbody>\n",
       "</table>\n",
       "</div>"
      ],
      "text/plain": [
       "   PassengerId  Survived  Pclass  \\\n",
       "0            1         0       3   \n",
       "1            2         1       1   \n",
       "2            3         1       3   \n",
       "3            4         1       1   \n",
       "4            5         0       3   \n",
       "\n",
       "                                                Name     Sex   Age  SibSp  \\\n",
       "0                            Braund, Mr. Owen Harris    male  22.0      1   \n",
       "1  Cumings, Mrs. John Bradley (Florence Briggs Th...  female  38.0      1   \n",
       "2                             Heikkinen, Miss. Laina  female  26.0      0   \n",
       "3       Futrelle, Mrs. Jacques Heath (Lily May Peel)  female  35.0      1   \n",
       "4                           Allen, Mr. William Henry    male  35.0      0   \n",
       "\n",
       "   Parch            Ticket     Fare Cabin Embarked  \n",
       "0      0         A/5 21171   7.2500   NaN        S  \n",
       "1      0          PC 17599  71.2833   C85        C  \n",
       "2      0  STON/O2. 3101282   7.9250   NaN        S  \n",
       "3      0            113803  53.1000  C123        S  \n",
       "4      0            373450   8.0500   NaN        S  "
      ]
     },
     "execution_count": 10,
     "metadata": {},
     "output_type": "execute_result"
    }
   ],
   "source": [
    "train_mean.head()"
   ]
  },
  {
   "cell_type": "code",
   "execution_count": 11,
   "metadata": {},
   "outputs": [
    {
     "data": {
      "text/plain": [
       "0           A/5 21171\n",
       "1            PC 17599\n",
       "2    STON/O2. 3101282\n",
       "3              113803\n",
       "4              373450\n",
       "Name: Ticket, dtype: object"
      ]
     },
     "execution_count": 11,
     "metadata": {},
     "output_type": "execute_result"
    }
   ],
   "source": [
    "train['Ticket'].head()"
   ]
  },
  {
   "cell_type": "code",
   "execution_count": 12,
   "metadata": {},
   "outputs": [
    {
     "data": {
      "text/plain": [
       "1601        7\n",
       "347082      7\n",
       "CA. 2343    7\n",
       "CA 2144     6\n",
       "347088      6\n",
       "3101295     6\n",
       "382652      5\n",
       "Name: Ticket, dtype: int64"
      ]
     },
     "execution_count": 12,
     "metadata": {},
     "output_type": "execute_result"
    }
   ],
   "source": [
    "train['Ticket'].value_counts().head(7)"
   ]
  },
  {
   "cell_type": "code",
   "execution_count": 13,
   "metadata": {},
   "outputs": [
    {
     "data": {
      "text/plain": [
       "36568         1\n",
       "W/C 14208     1\n",
       "349209        1\n",
       "A/4. 34244    1\n",
       "234360        1\n",
       "223596        1\n",
       "392092        1\n",
       "Name: Ticket, dtype: int64"
      ]
     },
     "execution_count": 13,
     "metadata": {},
     "output_type": "execute_result"
    }
   ],
   "source": [
    "train['Ticket'].value_counts().tail(7)"
   ]
  },
  {
   "cell_type": "code",
   "execution_count": 14,
   "metadata": {},
   "outputs": [],
   "source": [
    "# 정규표현식으로 티켓번호를 추출해 낸다.\n",
    "# (\\d{2,})에서 \\d는 숫자를 의미하며, {2,}는 글자 수를 의미한다.\n",
    "# 그래서 extract.('(\\d{2,})')는 2자리 수 이상의 숫자를 추출하라는 의미이다.\n",
    "train_mean['TicketNumber'] = train['Ticket'].str.extract('(\\d{2,})', expand = True)\n",
    "train_mean['TicketNumber'] = train_mean['TicketNumber'].apply(pd.to_numeric)\n",
    "\n",
    "test_mean['TicketNumber'] = test['Ticket'].str.extract('(\\d{2,})', expand = True)\n",
    "test_mean['TicketNumber'] = test_mean['TicketNumber'].apply(pd.to_numeric)"
   ]
  },
  {
   "cell_type": "code",
   "execution_count": 15,
   "metadata": {},
   "outputs": [
    {
     "data": {
      "text/plain": [
       "0     330911.0\n",
       "1     363272.0\n",
       "2     240276.0\n",
       "3     315154.0\n",
       "4    3101298.0\n",
       "Name: TicketNumber, dtype: float64"
      ]
     },
     "execution_count": 15,
     "metadata": {},
     "output_type": "execute_result"
    }
   ],
   "source": [
    "train_mean['TicketNumber'].head()\n",
    "test_mean['TicketNumber'].head()"
   ]
  },
  {
   "cell_type": "code",
   "execution_count": 16,
   "metadata": {},
   "outputs": [],
   "source": [
    "def data_fillna(dataset):\n",
    "    # 중간값으로 누락된 나이 데이터를 채워준다.\n",
    "    dataset['Age'].fillna(dataset['Age'].median(), inplace = True)\n",
    "\n",
    "    # 최빈값(가장 자주 나오는 값)으로 누락된 승선위치를 채워준다.\n",
    "    dataset['Embarked'].fillna(dataset['Embarked'].mode()[0], inplace = True)\n",
    "\n",
    "    # 중간값으로 누락된 요금을 채워준다.\n",
    "    dataset['Fare'].fillna(dataset['Fare'].median(), inplace = True)\n",
    "    \n",
    "    # 중간값으로 티켓 번호를 채워준다.\n",
    "    dataset['TicketNumber'].fillna(dataset['TicketNumber'].median(), inplace=True)"
   ]
  },
  {
   "cell_type": "code",
   "execution_count": 17,
   "metadata": {},
   "outputs": [],
   "source": [
    "data_fillna(train_mean)\n",
    "data_fillna(test_mean)"
   ]
  },
  {
   "cell_type": "code",
   "execution_count": 18,
   "metadata": {},
   "outputs": [
    {
     "name": "stdout",
     "output_type": "stream",
     "text": [
      "PassengerId      0\n",
      "Survived         0\n",
      "Pclass           0\n",
      "Name             0\n",
      "Sex              0\n",
      "Age            177\n",
      "SibSp            0\n",
      "Parch            0\n",
      "Ticket           0\n",
      "Fare             0\n",
      "Cabin          687\n",
      "Embarked         2\n",
      "dtype: int64\n",
      "--------------------\n",
      "PassengerId       0\n",
      "Survived          0\n",
      "Pclass            0\n",
      "Name              0\n",
      "Sex               0\n",
      "Age               0\n",
      "SibSp             0\n",
      "Parch             0\n",
      "Ticket            0\n",
      "Fare              0\n",
      "Cabin           687\n",
      "Embarked          0\n",
      "TicketNumber      0\n",
      "dtype: int64\n"
     ]
    }
   ],
   "source": [
    "print(train.isnull().sum())\n",
    "print('-' * 20)\n",
    "print(train_mean.isnull().sum())"
   ]
  },
  {
   "cell_type": "code",
   "execution_count": 19,
   "metadata": {},
   "outputs": [
    {
     "data": {
      "text/plain": [
       "array([[<matplotlib.axes._subplots.AxesSubplot object at 0x000000000A90F7B8>]],\n",
       "      dtype=object)"
      ]
     },
     "execution_count": 19,
     "metadata": {},
     "output_type": "execute_result"
    },
    {
     "name": "stderr",
     "output_type": "stream",
     "text": [
      "C:\\Users\\home\\Anaconda3\\lib\\site-packages\\matplotlib\\font_manager.py:1328: UserWarning: findfont: Font family ['HYnamM'] not found. Falling back to DejaVu Sans\n",
      "  (prop.get_family(), self.defaultFamily[fontext]))\n",
      "C:\\Users\\home\\Anaconda3\\lib\\site-packages\\matplotlib\\font_manager.py:1328: UserWarning: findfont: Font family ['HYnamM'] not found. Falling back to DejaVu Sans\n",
      "  (prop.get_family(), self.defaultFamily[fontext]))\n",
      "C:\\Users\\home\\Anaconda3\\lib\\site-packages\\matplotlib\\font_manager.py:1328: UserWarning: findfont: Font family ['HYnamM'] not found. Falling back to DejaVu Sans\n",
      "  (prop.get_family(), self.defaultFamily[fontext]))\n",
      "C:\\Users\\home\\Anaconda3\\lib\\site-packages\\matplotlib\\font_manager.py:1328: UserWarning: findfont: Font family ['HYnamM'] not found. Falling back to DejaVu Sans\n",
      "  (prop.get_family(), self.defaultFamily[fontext]))\n",
      "C:\\Users\\home\\Anaconda3\\lib\\site-packages\\matplotlib\\font_manager.py:1328: UserWarning: findfont: Font family ['HYnamM'] not found. Falling back to DejaVu Sans\n",
      "  (prop.get_family(), self.defaultFamily[fontext]))\n",
      "C:\\Users\\home\\Anaconda3\\lib\\site-packages\\matplotlib\\font_manager.py:1328: UserWarning: findfont: Font family ['HYnamM'] not found. Falling back to DejaVu Sans\n",
      "  (prop.get_family(), self.defaultFamily[fontext]))\n",
      "C:\\Users\\home\\Anaconda3\\lib\\site-packages\\matplotlib\\font_manager.py:1328: UserWarning: findfont: Font family ['HYnamM'] not found. Falling back to DejaVu Sans\n",
      "  (prop.get_family(), self.defaultFamily[fontext]))\n",
      "C:\\Users\\home\\Anaconda3\\lib\\site-packages\\matplotlib\\font_manager.py:1328: UserWarning: findfont: Font family ['HYnamM'] not found. Falling back to DejaVu Sans\n",
      "  (prop.get_family(), self.defaultFamily[fontext]))\n",
      "C:\\Users\\home\\Anaconda3\\lib\\site-packages\\matplotlib\\font_manager.py:1328: UserWarning: findfont: Font family ['HYnamM'] not found. Falling back to DejaVu Sans\n",
      "  (prop.get_family(), self.defaultFamily[fontext]))\n",
      "C:\\Users\\home\\Anaconda3\\lib\\site-packages\\matplotlib\\font_manager.py:1328: UserWarning: findfont: Font family ['HYnamM'] not found. Falling back to DejaVu Sans\n",
      "  (prop.get_family(), self.defaultFamily[fontext]))\n",
      "C:\\Users\\home\\Anaconda3\\lib\\site-packages\\matplotlib\\font_manager.py:1328: UserWarning: findfont: Font family ['HYnamM'] not found. Falling back to DejaVu Sans\n",
      "  (prop.get_family(), self.defaultFamily[fontext]))\n",
      "C:\\Users\\home\\Anaconda3\\lib\\site-packages\\matplotlib\\font_manager.py:1328: UserWarning: findfont: Font family ['HYnamM'] not found. Falling back to DejaVu Sans\n",
      "  (prop.get_family(), self.defaultFamily[fontext]))\n",
      "C:\\Users\\home\\Anaconda3\\lib\\site-packages\\matplotlib\\font_manager.py:1328: UserWarning: findfont: Font family ['HYnamM'] not found. Falling back to DejaVu Sans\n",
      "  (prop.get_family(), self.defaultFamily[fontext]))\n",
      "C:\\Users\\home\\Anaconda3\\lib\\site-packages\\matplotlib\\font_manager.py:1328: UserWarning: findfont: Font family ['HYnamM'] not found. Falling back to DejaVu Sans\n",
      "  (prop.get_family(), self.defaultFamily[fontext]))\n",
      "C:\\Users\\home\\Anaconda3\\lib\\site-packages\\matplotlib\\font_manager.py:1328: UserWarning: findfont: Font family ['HYnamM'] not found. Falling back to DejaVu Sans\n",
      "  (prop.get_family(), self.defaultFamily[fontext]))\n",
      "C:\\Users\\home\\Anaconda3\\lib\\site-packages\\matplotlib\\font_manager.py:1328: UserWarning: findfont: Font family ['HYnamM'] not found. Falling back to DejaVu Sans\n",
      "  (prop.get_family(), self.defaultFamily[fontext]))\n",
      "C:\\Users\\home\\Anaconda3\\lib\\site-packages\\matplotlib\\font_manager.py:1328: UserWarning: findfont: Font family ['HYnamM'] not found. Falling back to DejaVu Sans\n",
      "  (prop.get_family(), self.defaultFamily[fontext]))\n",
      "C:\\Users\\home\\Anaconda3\\lib\\site-packages\\matplotlib\\font_manager.py:1328: UserWarning: findfont: Font family ['HYnamM'] not found. Falling back to DejaVu Sans\n",
      "  (prop.get_family(), self.defaultFamily[fontext]))\n",
      "C:\\Users\\home\\Anaconda3\\lib\\site-packages\\matplotlib\\font_manager.py:1328: UserWarning: findfont: Font family ['HYnamM'] not found. Falling back to DejaVu Sans\n",
      "  (prop.get_family(), self.defaultFamily[fontext]))\n",
      "C:\\Users\\home\\Anaconda3\\lib\\site-packages\\matplotlib\\font_manager.py:1328: UserWarning: findfont: Font family ['HYnamM'] not found. Falling back to DejaVu Sans\n",
      "  (prop.get_family(), self.defaultFamily[fontext]))\n",
      "C:\\Users\\home\\Anaconda3\\lib\\site-packages\\matplotlib\\font_manager.py:1328: UserWarning: findfont: Font family ['HYnamM'] not found. Falling back to DejaVu Sans\n",
      "  (prop.get_family(), self.defaultFamily[fontext]))\n",
      "C:\\Users\\home\\Anaconda3\\lib\\site-packages\\matplotlib\\font_manager.py:1328: UserWarning: findfont: Font family ['HYnamM'] not found. Falling back to DejaVu Sans\n",
      "  (prop.get_family(), self.defaultFamily[fontext]))\n",
      "C:\\Users\\home\\Anaconda3\\lib\\site-packages\\matplotlib\\font_manager.py:1328: UserWarning: findfont: Font family ['HYnamM'] not found. Falling back to DejaVu Sans\n",
      "  (prop.get_family(), self.defaultFamily[fontext]))\n",
      "C:\\Users\\home\\Anaconda3\\lib\\site-packages\\matplotlib\\font_manager.py:1328: UserWarning: findfont: Font family ['HYnamM'] not found. Falling back to DejaVu Sans\n",
      "  (prop.get_family(), self.defaultFamily[fontext]))\n",
      "C:\\Users\\home\\Anaconda3\\lib\\site-packages\\matplotlib\\font_manager.py:1328: UserWarning: findfont: Font family ['HYnamM'] not found. Falling back to DejaVu Sans\n",
      "  (prop.get_family(), self.defaultFamily[fontext]))\n",
      "C:\\Users\\home\\Anaconda3\\lib\\site-packages\\matplotlib\\font_manager.py:1328: UserWarning: findfont: Font family ['HYnamM'] not found. Falling back to DejaVu Sans\n",
      "  (prop.get_family(), self.defaultFamily[fontext]))\n",
      "C:\\Users\\home\\Anaconda3\\lib\\site-packages\\matplotlib\\font_manager.py:1328: UserWarning: findfont: Font family ['HYnamM'] not found. Falling back to DejaVu Sans\n",
      "  (prop.get_family(), self.defaultFamily[fontext]))\n",
      "C:\\Users\\home\\Anaconda3\\lib\\site-packages\\matplotlib\\font_manager.py:1328: UserWarning: findfont: Font family ['HYnamM'] not found. Falling back to DejaVu Sans\n",
      "  (prop.get_family(), self.defaultFamily[fontext]))\n",
      "C:\\Users\\home\\Anaconda3\\lib\\site-packages\\matplotlib\\font_manager.py:1328: UserWarning: findfont: Font family ['HYnamM'] not found. Falling back to DejaVu Sans\n",
      "  (prop.get_family(), self.defaultFamily[fontext]))\n",
      "C:\\Users\\home\\Anaconda3\\lib\\site-packages\\matplotlib\\font_manager.py:1328: UserWarning: findfont: Font family ['HYnamM'] not found. Falling back to DejaVu Sans\n",
      "  (prop.get_family(), self.defaultFamily[fontext]))\n",
      "C:\\Users\\home\\Anaconda3\\lib\\site-packages\\matplotlib\\font_manager.py:1328: UserWarning: findfont: Font family ['HYnamM'] not found. Falling back to DejaVu Sans\n",
      "  (prop.get_family(), self.defaultFamily[fontext]))\n",
      "C:\\Users\\home\\Anaconda3\\lib\\site-packages\\matplotlib\\font_manager.py:1328: UserWarning: findfont: Font family ['HYnamM'] not found. Falling back to DejaVu Sans\n",
      "  (prop.get_family(), self.defaultFamily[fontext]))\n",
      "C:\\Users\\home\\Anaconda3\\lib\\site-packages\\matplotlib\\font_manager.py:1328: UserWarning: findfont: Font family ['HYnamM'] not found. Falling back to DejaVu Sans\n",
      "  (prop.get_family(), self.defaultFamily[fontext]))\n",
      "C:\\Users\\home\\Anaconda3\\lib\\site-packages\\matplotlib\\font_manager.py:1328: UserWarning: findfont: Font family ['HYnamM'] not found. Falling back to DejaVu Sans\n",
      "  (prop.get_family(), self.defaultFamily[fontext]))\n",
      "C:\\Users\\home\\Anaconda3\\lib\\site-packages\\matplotlib\\font_manager.py:1328: UserWarning: findfont: Font family ['HYnamM'] not found. Falling back to DejaVu Sans\n",
      "  (prop.get_family(), self.defaultFamily[fontext]))\n",
      "C:\\Users\\home\\Anaconda3\\lib\\site-packages\\matplotlib\\font_manager.py:1328: UserWarning: findfont: Font family ['HYnamM'] not found. Falling back to DejaVu Sans\n",
      "  (prop.get_family(), self.defaultFamily[fontext]))\n",
      "C:\\Users\\home\\Anaconda3\\lib\\site-packages\\matplotlib\\font_manager.py:1328: UserWarning: findfont: Font family ['HYnamM'] not found. Falling back to DejaVu Sans\n",
      "  (prop.get_family(), self.defaultFamily[fontext]))\n",
      "C:\\Users\\home\\Anaconda3\\lib\\site-packages\\matplotlib\\font_manager.py:1328: UserWarning: findfont: Font family ['HYnamM'] not found. Falling back to DejaVu Sans\n",
      "  (prop.get_family(), self.defaultFamily[fontext]))\n",
      "C:\\Users\\home\\Anaconda3\\lib\\site-packages\\matplotlib\\font_manager.py:1328: UserWarning: findfont: Font family ['HYnamM'] not found. Falling back to DejaVu Sans\n",
      "  (prop.get_family(), self.defaultFamily[fontext]))\n",
      "C:\\Users\\home\\Anaconda3\\lib\\site-packages\\matplotlib\\font_manager.py:1328: UserWarning: findfont: Font family ['HYnamM'] not found. Falling back to DejaVu Sans\n",
      "  (prop.get_family(), self.defaultFamily[fontext]))\n",
      "C:\\Users\\home\\Anaconda3\\lib\\site-packages\\matplotlib\\font_manager.py:1328: UserWarning: findfont: Font family ['HYnamM'] not found. Falling back to DejaVu Sans\n",
      "  (prop.get_family(), self.defaultFamily[fontext]))\n",
      "C:\\Users\\home\\Anaconda3\\lib\\site-packages\\matplotlib\\font_manager.py:1328: UserWarning: findfont: Font family ['HYnamM'] not found. Falling back to DejaVu Sans\n",
      "  (prop.get_family(), self.defaultFamily[fontext]))\n"
     ]
    },
    {
     "name": "stderr",
     "output_type": "stream",
     "text": [
      "C:\\Users\\home\\Anaconda3\\lib\\site-packages\\matplotlib\\font_manager.py:1328: UserWarning: findfont: Font family ['HYnamM'] not found. Falling back to DejaVu Sans\n",
      "  (prop.get_family(), self.defaultFamily[fontext]))\n",
      "C:\\Users\\home\\Anaconda3\\lib\\site-packages\\matplotlib\\font_manager.py:1328: UserWarning: findfont: Font family ['HYnamM'] not found. Falling back to DejaVu Sans\n",
      "  (prop.get_family(), self.defaultFamily[fontext]))\n",
      "C:\\Users\\home\\Anaconda3\\lib\\site-packages\\matplotlib\\font_manager.py:1328: UserWarning: findfont: Font family ['HYnamM'] not found. Falling back to DejaVu Sans\n",
      "  (prop.get_family(), self.defaultFamily[fontext]))\n",
      "C:\\Users\\home\\Anaconda3\\lib\\site-packages\\matplotlib\\font_manager.py:1328: UserWarning: findfont: Font family ['HYnamM'] not found. Falling back to DejaVu Sans\n",
      "  (prop.get_family(), self.defaultFamily[fontext]))\n",
      "C:\\Users\\home\\Anaconda3\\lib\\site-packages\\matplotlib\\font_manager.py:1328: UserWarning: findfont: Font family ['HYnamM'] not found. Falling back to DejaVu Sans\n",
      "  (prop.get_family(), self.defaultFamily[fontext]))\n",
      "C:\\Users\\home\\Anaconda3\\lib\\site-packages\\matplotlib\\font_manager.py:1328: UserWarning: findfont: Font family ['HYnamM'] not found. Falling back to DejaVu Sans\n",
      "  (prop.get_family(), self.defaultFamily[fontext]))\n",
      "C:\\Users\\home\\Anaconda3\\lib\\site-packages\\matplotlib\\font_manager.py:1328: UserWarning: findfont: Font family ['HYnamM'] not found. Falling back to DejaVu Sans\n",
      "  (prop.get_family(), self.defaultFamily[fontext]))\n",
      "C:\\Users\\home\\Anaconda3\\lib\\site-packages\\matplotlib\\font_manager.py:1328: UserWarning: findfont: Font family ['HYnamM'] not found. Falling back to DejaVu Sans\n",
      "  (prop.get_family(), self.defaultFamily[fontext]))\n",
      "C:\\Users\\home\\Anaconda3\\lib\\site-packages\\matplotlib\\font_manager.py:1328: UserWarning: findfont: Font family ['HYnamM'] not found. Falling back to DejaVu Sans\n",
      "  (prop.get_family(), self.defaultFamily[fontext]))\n",
      "C:\\Users\\home\\Anaconda3\\lib\\site-packages\\matplotlib\\font_manager.py:1328: UserWarning: findfont: Font family ['HYnamM'] not found. Falling back to DejaVu Sans\n",
      "  (prop.get_family(), self.defaultFamily[fontext]))\n",
      "C:\\Users\\home\\Anaconda3\\lib\\site-packages\\matplotlib\\font_manager.py:1328: UserWarning: findfont: Font family ['HYnamM'] not found. Falling back to DejaVu Sans\n",
      "  (prop.get_family(), self.defaultFamily[fontext]))\n",
      "C:\\Users\\home\\Anaconda3\\lib\\site-packages\\matplotlib\\font_manager.py:1328: UserWarning: findfont: Font family ['HYnamM'] not found. Falling back to DejaVu Sans\n",
      "  (prop.get_family(), self.defaultFamily[fontext]))\n",
      "C:\\Users\\home\\Anaconda3\\lib\\site-packages\\matplotlib\\font_manager.py:1328: UserWarning: findfont: Font family ['HYnamM'] not found. Falling back to DejaVu Sans\n",
      "  (prop.get_family(), self.defaultFamily[fontext]))\n",
      "C:\\Users\\home\\Anaconda3\\lib\\site-packages\\matplotlib\\font_manager.py:1328: UserWarning: findfont: Font family ['HYnamM'] not found. Falling back to DejaVu Sans\n",
      "  (prop.get_family(), self.defaultFamily[fontext]))\n",
      "C:\\Users\\home\\Anaconda3\\lib\\site-packages\\matplotlib\\font_manager.py:1328: UserWarning: findfont: Font family ['HYnamM'] not found. Falling back to DejaVu Sans\n",
      "  (prop.get_family(), self.defaultFamily[fontext]))\n",
      "C:\\Users\\home\\Anaconda3\\lib\\site-packages\\matplotlib\\font_manager.py:1328: UserWarning: findfont: Font family ['HYnamM'] not found. Falling back to DejaVu Sans\n",
      "  (prop.get_family(), self.defaultFamily[fontext]))\n",
      "C:\\Users\\home\\Anaconda3\\lib\\site-packages\\matplotlib\\font_manager.py:1328: UserWarning: findfont: Font family ['HYnamM'] not found. Falling back to DejaVu Sans\n",
      "  (prop.get_family(), self.defaultFamily[fontext]))\n",
      "C:\\Users\\home\\Anaconda3\\lib\\site-packages\\matplotlib\\font_manager.py:1328: UserWarning: findfont: Font family ['HYnamM'] not found. Falling back to DejaVu Sans\n",
      "  (prop.get_family(), self.defaultFamily[fontext]))\n",
      "C:\\Users\\home\\Anaconda3\\lib\\site-packages\\matplotlib\\font_manager.py:1328: UserWarning: findfont: Font family ['HYnamM'] not found. Falling back to DejaVu Sans\n",
      "  (prop.get_family(), self.defaultFamily[fontext]))\n",
      "C:\\Users\\home\\Anaconda3\\lib\\site-packages\\matplotlib\\font_manager.py:1328: UserWarning: findfont: Font family ['HYnamM'] not found. Falling back to DejaVu Sans\n",
      "  (prop.get_family(), self.defaultFamily[fontext]))\n",
      "C:\\Users\\home\\Anaconda3\\lib\\site-packages\\matplotlib\\font_manager.py:1328: UserWarning: findfont: Font family ['HYnamM'] not found. Falling back to DejaVu Sans\n",
      "  (prop.get_family(), self.defaultFamily[fontext]))\n",
      "C:\\Users\\home\\Anaconda3\\lib\\site-packages\\matplotlib\\font_manager.py:1328: UserWarning: findfont: Font family ['HYnamM'] not found. Falling back to DejaVu Sans\n",
      "  (prop.get_family(), self.defaultFamily[fontext]))\n",
      "C:\\Users\\home\\Anaconda3\\lib\\site-packages\\matplotlib\\font_manager.py:1328: UserWarning: findfont: Font family ['HYnamM'] not found. Falling back to DejaVu Sans\n",
      "  (prop.get_family(), self.defaultFamily[fontext]))\n",
      "C:\\Users\\home\\Anaconda3\\lib\\site-packages\\matplotlib\\font_manager.py:1328: UserWarning: findfont: Font family ['HYnamM'] not found. Falling back to DejaVu Sans\n",
      "  (prop.get_family(), self.defaultFamily[fontext]))\n",
      "C:\\Users\\home\\Anaconda3\\lib\\site-packages\\matplotlib\\font_manager.py:1328: UserWarning: findfont: Font family ['HYnamM'] not found. Falling back to DejaVu Sans\n",
      "  (prop.get_family(), self.defaultFamily[fontext]))\n",
      "C:\\Users\\home\\Anaconda3\\lib\\site-packages\\matplotlib\\font_manager.py:1328: UserWarning: findfont: Font family ['HYnamM'] not found. Falling back to DejaVu Sans\n",
      "  (prop.get_family(), self.defaultFamily[fontext]))\n",
      "C:\\Users\\home\\Anaconda3\\lib\\site-packages\\matplotlib\\font_manager.py:1328: UserWarning: findfont: Font family ['HYnamM'] not found. Falling back to DejaVu Sans\n",
      "  (prop.get_family(), self.defaultFamily[fontext]))\n",
      "C:\\Users\\home\\Anaconda3\\lib\\site-packages\\matplotlib\\font_manager.py:1328: UserWarning: findfont: Font family ['HYnamM'] not found. Falling back to DejaVu Sans\n",
      "  (prop.get_family(), self.defaultFamily[fontext]))\n",
      "C:\\Users\\home\\Anaconda3\\lib\\site-packages\\matplotlib\\font_manager.py:1328: UserWarning: findfont: Font family ['HYnamM'] not found. Falling back to DejaVu Sans\n",
      "  (prop.get_family(), self.defaultFamily[fontext]))\n",
      "C:\\Users\\home\\Anaconda3\\lib\\site-packages\\matplotlib\\font_manager.py:1328: UserWarning: findfont: Font family ['HYnamM'] not found. Falling back to DejaVu Sans\n",
      "  (prop.get_family(), self.defaultFamily[fontext]))\n",
      "C:\\Users\\home\\Anaconda3\\lib\\site-packages\\matplotlib\\font_manager.py:1328: UserWarning: findfont: Font family ['HYnamM'] not found. Falling back to DejaVu Sans\n",
      "  (prop.get_family(), self.defaultFamily[fontext]))\n",
      "C:\\Users\\home\\Anaconda3\\lib\\site-packages\\matplotlib\\font_manager.py:1328: UserWarning: findfont: Font family ['HYnamM'] not found. Falling back to DejaVu Sans\n",
      "  (prop.get_family(), self.defaultFamily[fontext]))\n",
      "C:\\Users\\home\\Anaconda3\\lib\\site-packages\\matplotlib\\font_manager.py:1328: UserWarning: findfont: Font family ['HYnamM'] not found. Falling back to DejaVu Sans\n",
      "  (prop.get_family(), self.defaultFamily[fontext]))\n",
      "C:\\Users\\home\\Anaconda3\\lib\\site-packages\\matplotlib\\font_manager.py:1328: UserWarning: findfont: Font family ['HYnamM'] not found. Falling back to DejaVu Sans\n",
      "  (prop.get_family(), self.defaultFamily[fontext]))\n",
      "C:\\Users\\home\\Anaconda3\\lib\\site-packages\\matplotlib\\font_manager.py:1328: UserWarning: findfont: Font family ['HYnamM'] not found. Falling back to DejaVu Sans\n",
      "  (prop.get_family(), self.defaultFamily[fontext]))\n",
      "C:\\Users\\home\\Anaconda3\\lib\\site-packages\\matplotlib\\font_manager.py:1328: UserWarning: findfont: Font family ['HYnamM'] not found. Falling back to DejaVu Sans\n",
      "  (prop.get_family(), self.defaultFamily[fontext]))\n",
      "C:\\Users\\home\\Anaconda3\\lib\\site-packages\\matplotlib\\font_manager.py:1328: UserWarning: findfont: Font family ['HYnamM'] not found. Falling back to DejaVu Sans\n",
      "  (prop.get_family(), self.defaultFamily[fontext]))\n",
      "C:\\Users\\home\\Anaconda3\\lib\\site-packages\\matplotlib\\font_manager.py:1328: UserWarning: findfont: Font family ['HYnamM'] not found. Falling back to DejaVu Sans\n",
      "  (prop.get_family(), self.defaultFamily[fontext]))\n",
      "C:\\Users\\home\\Anaconda3\\lib\\site-packages\\matplotlib\\font_manager.py:1328: UserWarning: findfont: Font family ['HYnamM'] not found. Falling back to DejaVu Sans\n",
      "  (prop.get_family(), self.defaultFamily[fontext]))\n"
     ]
    },
    {
     "name": "stderr",
     "output_type": "stream",
     "text": [
      "C:\\Users\\home\\Anaconda3\\lib\\site-packages\\matplotlib\\font_manager.py:1328: UserWarning: findfont: Font family ['HYnamM'] not found. Falling back to DejaVu Sans\n",
      "  (prop.get_family(), self.defaultFamily[fontext]))\n",
      "C:\\Users\\home\\Anaconda3\\lib\\site-packages\\matplotlib\\font_manager.py:1328: UserWarning: findfont: Font family ['HYnamM'] not found. Falling back to DejaVu Sans\n",
      "  (prop.get_family(), self.defaultFamily[fontext]))\n",
      "C:\\Users\\home\\Anaconda3\\lib\\site-packages\\matplotlib\\font_manager.py:1328: UserWarning: findfont: Font family ['HYnamM'] not found. Falling back to DejaVu Sans\n",
      "  (prop.get_family(), self.defaultFamily[fontext]))\n",
      "C:\\Users\\home\\Anaconda3\\lib\\site-packages\\matplotlib\\font_manager.py:1328: UserWarning: findfont: Font family ['HYnamM'] not found. Falling back to DejaVu Sans\n",
      "  (prop.get_family(), self.defaultFamily[fontext]))\n",
      "C:\\Users\\home\\Anaconda3\\lib\\site-packages\\matplotlib\\font_manager.py:1328: UserWarning: findfont: Font family ['HYnamM'] not found. Falling back to DejaVu Sans\n",
      "  (prop.get_family(), self.defaultFamily[fontext]))\n",
      "C:\\Users\\home\\Anaconda3\\lib\\site-packages\\matplotlib\\font_manager.py:1328: UserWarning: findfont: Font family ['HYnamM'] not found. Falling back to DejaVu Sans\n",
      "  (prop.get_family(), self.defaultFamily[fontext]))\n",
      "C:\\Users\\home\\Anaconda3\\lib\\site-packages\\matplotlib\\font_manager.py:1328: UserWarning: findfont: Font family ['HYnamM'] not found. Falling back to DejaVu Sans\n",
      "  (prop.get_family(), self.defaultFamily[fontext]))\n",
      "C:\\Users\\home\\Anaconda3\\lib\\site-packages\\matplotlib\\font_manager.py:1328: UserWarning: findfont: Font family ['HYnamM'] not found. Falling back to DejaVu Sans\n",
      "  (prop.get_family(), self.defaultFamily[fontext]))\n",
      "C:\\Users\\home\\Anaconda3\\lib\\site-packages\\matplotlib\\font_manager.py:1328: UserWarning: findfont: Font family ['HYnamM'] not found. Falling back to DejaVu Sans\n",
      "  (prop.get_family(), self.defaultFamily[fontext]))\n",
      "C:\\Users\\home\\Anaconda3\\lib\\site-packages\\matplotlib\\font_manager.py:1328: UserWarning: findfont: Font family ['HYnamM'] not found. Falling back to DejaVu Sans\n",
      "  (prop.get_family(), self.defaultFamily[fontext]))\n",
      "C:\\Users\\home\\Anaconda3\\lib\\site-packages\\matplotlib\\font_manager.py:1328: UserWarning: findfont: Font family ['HYnamM'] not found. Falling back to DejaVu Sans\n",
      "  (prop.get_family(), self.defaultFamily[fontext]))\n",
      "C:\\Users\\home\\Anaconda3\\lib\\site-packages\\matplotlib\\font_manager.py:1328: UserWarning: findfont: Font family ['HYnamM'] not found. Falling back to DejaVu Sans\n",
      "  (prop.get_family(), self.defaultFamily[fontext]))\n",
      "C:\\Users\\home\\Anaconda3\\lib\\site-packages\\matplotlib\\font_manager.py:1328: UserWarning: findfont: Font family ['HYnamM'] not found. Falling back to DejaVu Sans\n",
      "  (prop.get_family(), self.defaultFamily[fontext]))\n",
      "C:\\Users\\home\\Anaconda3\\lib\\site-packages\\matplotlib\\font_manager.py:1328: UserWarning: findfont: Font family ['HYnamM'] not found. Falling back to DejaVu Sans\n",
      "  (prop.get_family(), self.defaultFamily[fontext]))\n",
      "C:\\Users\\home\\Anaconda3\\lib\\site-packages\\matplotlib\\font_manager.py:1328: UserWarning: findfont: Font family ['HYnamM'] not found. Falling back to DejaVu Sans\n",
      "  (prop.get_family(), self.defaultFamily[fontext]))\n",
      "C:\\Users\\home\\Anaconda3\\lib\\site-packages\\matplotlib\\font_manager.py:1328: UserWarning: findfont: Font family ['HYnamM'] not found. Falling back to DejaVu Sans\n",
      "  (prop.get_family(), self.defaultFamily[fontext]))\n",
      "C:\\Users\\home\\Anaconda3\\lib\\site-packages\\matplotlib\\font_manager.py:1328: UserWarning: findfont: Font family ['HYnamM'] not found. Falling back to DejaVu Sans\n",
      "  (prop.get_family(), self.defaultFamily[fontext]))\n",
      "C:\\Users\\home\\Anaconda3\\lib\\site-packages\\matplotlib\\font_manager.py:1328: UserWarning: findfont: Font family ['HYnamM'] not found. Falling back to DejaVu Sans\n",
      "  (prop.get_family(), self.defaultFamily[fontext]))\n",
      "C:\\Users\\home\\Anaconda3\\lib\\site-packages\\matplotlib\\font_manager.py:1328: UserWarning: findfont: Font family ['HYnamM'] not found. Falling back to DejaVu Sans\n",
      "  (prop.get_family(), self.defaultFamily[fontext]))\n",
      "C:\\Users\\home\\Anaconda3\\lib\\site-packages\\matplotlib\\font_manager.py:1328: UserWarning: findfont: Font family ['HYnamM'] not found. Falling back to DejaVu Sans\n",
      "  (prop.get_family(), self.defaultFamily[fontext]))\n",
      "C:\\Users\\home\\Anaconda3\\lib\\site-packages\\matplotlib\\font_manager.py:1328: UserWarning: findfont: Font family ['HYnamM'] not found. Falling back to DejaVu Sans\n",
      "  (prop.get_family(), self.defaultFamily[fontext]))\n",
      "C:\\Users\\home\\Anaconda3\\lib\\site-packages\\matplotlib\\font_manager.py:1328: UserWarning: findfont: Font family ['HYnamM'] not found. Falling back to DejaVu Sans\n",
      "  (prop.get_family(), self.defaultFamily[fontext]))\n",
      "C:\\Users\\home\\Anaconda3\\lib\\site-packages\\matplotlib\\font_manager.py:1328: UserWarning: findfont: Font family ['HYnamM'] not found. Falling back to DejaVu Sans\n",
      "  (prop.get_family(), self.defaultFamily[fontext]))\n",
      "C:\\Users\\home\\Anaconda3\\lib\\site-packages\\matplotlib\\font_manager.py:1328: UserWarning: findfont: Font family ['HYnamM'] not found. Falling back to DejaVu Sans\n",
      "  (prop.get_family(), self.defaultFamily[fontext]))\n",
      "C:\\Users\\home\\Anaconda3\\lib\\site-packages\\matplotlib\\font_manager.py:1328: UserWarning: findfont: Font family ['HYnamM'] not found. Falling back to DejaVu Sans\n",
      "  (prop.get_family(), self.defaultFamily[fontext]))\n",
      "C:\\Users\\home\\Anaconda3\\lib\\site-packages\\matplotlib\\font_manager.py:1328: UserWarning: findfont: Font family ['HYnamM'] not found. Falling back to DejaVu Sans\n",
      "  (prop.get_family(), self.defaultFamily[fontext]))\n",
      "C:\\Users\\home\\Anaconda3\\lib\\site-packages\\matplotlib\\font_manager.py:1328: UserWarning: findfont: Font family ['HYnamM'] not found. Falling back to DejaVu Sans\n",
      "  (prop.get_family(), self.defaultFamily[fontext]))\n",
      "C:\\Users\\home\\Anaconda3\\lib\\site-packages\\matplotlib\\font_manager.py:1328: UserWarning: findfont: Font family ['HYnamM'] not found. Falling back to DejaVu Sans\n",
      "  (prop.get_family(), self.defaultFamily[fontext]))\n",
      "C:\\Users\\home\\Anaconda3\\lib\\site-packages\\matplotlib\\font_manager.py:1328: UserWarning: findfont: Font family ['HYnamM'] not found. Falling back to DejaVu Sans\n",
      "  (prop.get_family(), self.defaultFamily[fontext]))\n",
      "C:\\Users\\home\\Anaconda3\\lib\\site-packages\\matplotlib\\font_manager.py:1328: UserWarning: findfont: Font family ['HYnamM'] not found. Falling back to DejaVu Sans\n",
      "  (prop.get_family(), self.defaultFamily[fontext]))\n",
      "C:\\Users\\home\\Anaconda3\\lib\\site-packages\\matplotlib\\font_manager.py:1328: UserWarning: findfont: Font family ['HYnamM'] not found. Falling back to DejaVu Sans\n",
      "  (prop.get_family(), self.defaultFamily[fontext]))\n",
      "C:\\Users\\home\\Anaconda3\\lib\\site-packages\\matplotlib\\font_manager.py:1328: UserWarning: findfont: Font family ['HYnamM'] not found. Falling back to DejaVu Sans\n",
      "  (prop.get_family(), self.defaultFamily[fontext]))\n",
      "C:\\Users\\home\\Anaconda3\\lib\\site-packages\\matplotlib\\font_manager.py:1328: UserWarning: findfont: Font family ['HYnamM'] not found. Falling back to DejaVu Sans\n",
      "  (prop.get_family(), self.defaultFamily[fontext]))\n",
      "C:\\Users\\home\\Anaconda3\\lib\\site-packages\\matplotlib\\font_manager.py:1328: UserWarning: findfont: Font family ['HYnamM'] not found. Falling back to DejaVu Sans\n",
      "  (prop.get_family(), self.defaultFamily[fontext]))\n",
      "C:\\Users\\home\\Anaconda3\\lib\\site-packages\\matplotlib\\font_manager.py:1328: UserWarning: findfont: Font family ['HYnamM'] not found. Falling back to DejaVu Sans\n",
      "  (prop.get_family(), self.defaultFamily[fontext]))\n",
      "C:\\Users\\home\\Anaconda3\\lib\\site-packages\\matplotlib\\font_manager.py:1328: UserWarning: findfont: Font family ['HYnamM'] not found. Falling back to DejaVu Sans\n",
      "  (prop.get_family(), self.defaultFamily[fontext]))\n",
      "C:\\Users\\home\\Anaconda3\\lib\\site-packages\\matplotlib\\font_manager.py:1328: UserWarning: findfont: Font family ['HYnamM'] not found. Falling back to DejaVu Sans\n",
      "  (prop.get_family(), self.defaultFamily[fontext]))\n",
      "C:\\Users\\home\\Anaconda3\\lib\\site-packages\\matplotlib\\font_manager.py:1328: UserWarning: findfont: Font family ['HYnamM'] not found. Falling back to DejaVu Sans\n",
      "  (prop.get_family(), self.defaultFamily[fontext]))\n",
      "C:\\Users\\home\\Anaconda3\\lib\\site-packages\\matplotlib\\font_manager.py:1328: UserWarning: findfont: Font family ['HYnamM'] not found. Falling back to DejaVu Sans\n",
      "  (prop.get_family(), self.defaultFamily[fontext]))\n",
      "C:\\Users\\home\\Anaconda3\\lib\\site-packages\\matplotlib\\font_manager.py:1328: UserWarning: findfont: Font family ['HYnamM'] not found. Falling back to DejaVu Sans\n",
      "  (prop.get_family(), self.defaultFamily[fontext]))\n"
     ]
    },
    {
     "name": "stderr",
     "output_type": "stream",
     "text": [
      "C:\\Users\\home\\Anaconda3\\lib\\site-packages\\matplotlib\\font_manager.py:1328: UserWarning: findfont: Font family ['HYnamM'] not found. Falling back to DejaVu Sans\n",
      "  (prop.get_family(), self.defaultFamily[fontext]))\n",
      "C:\\Users\\home\\Anaconda3\\lib\\site-packages\\matplotlib\\font_manager.py:1328: UserWarning: findfont: Font family ['HYnamM'] not found. Falling back to DejaVu Sans\n",
      "  (prop.get_family(), self.defaultFamily[fontext]))\n",
      "C:\\Users\\home\\Anaconda3\\lib\\site-packages\\matplotlib\\font_manager.py:1328: UserWarning: findfont: Font family ['HYnamM'] not found. Falling back to DejaVu Sans\n",
      "  (prop.get_family(), self.defaultFamily[fontext]))\n",
      "C:\\Users\\home\\Anaconda3\\lib\\site-packages\\matplotlib\\font_manager.py:1328: UserWarning: findfont: Font family ['HYnamM'] not found. Falling back to DejaVu Sans\n",
      "  (prop.get_family(), self.defaultFamily[fontext]))\n",
      "C:\\Users\\home\\Anaconda3\\lib\\site-packages\\matplotlib\\font_manager.py:1328: UserWarning: findfont: Font family ['HYnamM'] not found. Falling back to DejaVu Sans\n",
      "  (prop.get_family(), self.defaultFamily[fontext]))\n",
      "C:\\Users\\home\\Anaconda3\\lib\\site-packages\\matplotlib\\font_manager.py:1328: UserWarning: findfont: Font family ['HYnamM'] not found. Falling back to DejaVu Sans\n",
      "  (prop.get_family(), self.defaultFamily[fontext]))\n",
      "C:\\Users\\home\\Anaconda3\\lib\\site-packages\\matplotlib\\font_manager.py:1328: UserWarning: findfont: Font family ['HYnamM'] not found. Falling back to DejaVu Sans\n",
      "  (prop.get_family(), self.defaultFamily[fontext]))\n",
      "C:\\Users\\home\\Anaconda3\\lib\\site-packages\\matplotlib\\font_manager.py:1328: UserWarning: findfont: Font family ['HYnamM'] not found. Falling back to DejaVu Sans\n",
      "  (prop.get_family(), self.defaultFamily[fontext]))\n",
      "C:\\Users\\home\\Anaconda3\\lib\\site-packages\\matplotlib\\font_manager.py:1328: UserWarning: findfont: Font family ['HYnamM'] not found. Falling back to DejaVu Sans\n",
      "  (prop.get_family(), self.defaultFamily[fontext]))\n",
      "C:\\Users\\home\\Anaconda3\\lib\\site-packages\\matplotlib\\font_manager.py:1328: UserWarning: findfont: Font family ['HYnamM'] not found. Falling back to DejaVu Sans\n",
      "  (prop.get_family(), self.defaultFamily[fontext]))\n",
      "C:\\Users\\home\\Anaconda3\\lib\\site-packages\\matplotlib\\font_manager.py:1328: UserWarning: findfont: Font family ['HYnamM'] not found. Falling back to DejaVu Sans\n",
      "  (prop.get_family(), self.defaultFamily[fontext]))\n",
      "C:\\Users\\home\\Anaconda3\\lib\\site-packages\\matplotlib\\font_manager.py:1328: UserWarning: findfont: Font family ['HYnamM'] not found. Falling back to DejaVu Sans\n",
      "  (prop.get_family(), self.defaultFamily[fontext]))\n",
      "C:\\Users\\home\\Anaconda3\\lib\\site-packages\\matplotlib\\font_manager.py:1328: UserWarning: findfont: Font family ['HYnamM'] not found. Falling back to DejaVu Sans\n",
      "  (prop.get_family(), self.defaultFamily[fontext]))\n",
      "C:\\Users\\home\\Anaconda3\\lib\\site-packages\\matplotlib\\font_manager.py:1328: UserWarning: findfont: Font family ['HYnamM'] not found. Falling back to DejaVu Sans\n",
      "  (prop.get_family(), self.defaultFamily[fontext]))\n",
      "C:\\Users\\home\\Anaconda3\\lib\\site-packages\\matplotlib\\font_manager.py:1328: UserWarning: findfont: Font family ['HYnamM'] not found. Falling back to DejaVu Sans\n",
      "  (prop.get_family(), self.defaultFamily[fontext]))\n",
      "C:\\Users\\home\\Anaconda3\\lib\\site-packages\\matplotlib\\font_manager.py:1328: UserWarning: findfont: Font family ['HYnamM'] not found. Falling back to DejaVu Sans\n",
      "  (prop.get_family(), self.defaultFamily[fontext]))\n",
      "C:\\Users\\home\\Anaconda3\\lib\\site-packages\\matplotlib\\font_manager.py:1328: UserWarning: findfont: Font family ['HYnamM'] not found. Falling back to DejaVu Sans\n",
      "  (prop.get_family(), self.defaultFamily[fontext]))\n",
      "C:\\Users\\home\\Anaconda3\\lib\\site-packages\\matplotlib\\font_manager.py:1328: UserWarning: findfont: Font family ['HYnamM'] not found. Falling back to DejaVu Sans\n",
      "  (prop.get_family(), self.defaultFamily[fontext]))\n",
      "C:\\Users\\home\\Anaconda3\\lib\\site-packages\\matplotlib\\font_manager.py:1328: UserWarning: findfont: Font family ['HYnamM'] not found. Falling back to DejaVu Sans\n",
      "  (prop.get_family(), self.defaultFamily[fontext]))\n",
      "C:\\Users\\home\\Anaconda3\\lib\\site-packages\\matplotlib\\font_manager.py:1328: UserWarning: findfont: Font family ['HYnamM'] not found. Falling back to DejaVu Sans\n",
      "  (prop.get_family(), self.defaultFamily[fontext]))\n",
      "C:\\Users\\home\\Anaconda3\\lib\\site-packages\\matplotlib\\font_manager.py:1328: UserWarning: findfont: Font family ['HYnamM'] not found. Falling back to DejaVu Sans\n",
      "  (prop.get_family(), self.defaultFamily[fontext]))\n",
      "C:\\Users\\home\\Anaconda3\\lib\\site-packages\\matplotlib\\font_manager.py:1328: UserWarning: findfont: Font family ['HYnamM'] not found. Falling back to DejaVu Sans\n",
      "  (prop.get_family(), self.defaultFamily[fontext]))\n",
      "C:\\Users\\home\\Anaconda3\\lib\\site-packages\\matplotlib\\font_manager.py:1328: UserWarning: findfont: Font family ['HYnamM'] not found. Falling back to DejaVu Sans\n",
      "  (prop.get_family(), self.defaultFamily[fontext]))\n",
      "C:\\Users\\home\\Anaconda3\\lib\\site-packages\\matplotlib\\font_manager.py:1328: UserWarning: findfont: Font family ['HYnamM'] not found. Falling back to DejaVu Sans\n",
      "  (prop.get_family(), self.defaultFamily[fontext]))\n",
      "C:\\Users\\home\\Anaconda3\\lib\\site-packages\\matplotlib\\font_manager.py:1328: UserWarning: findfont: Font family ['HYnamM'] not found. Falling back to DejaVu Sans\n",
      "  (prop.get_family(), self.defaultFamily[fontext]))\n",
      "C:\\Users\\home\\Anaconda3\\lib\\site-packages\\matplotlib\\font_manager.py:1328: UserWarning: findfont: Font family ['HYnamM'] not found. Falling back to DejaVu Sans\n",
      "  (prop.get_family(), self.defaultFamily[fontext]))\n",
      "C:\\Users\\home\\Anaconda3\\lib\\site-packages\\matplotlib\\font_manager.py:1328: UserWarning: findfont: Font family ['HYnamM'] not found. Falling back to DejaVu Sans\n",
      "  (prop.get_family(), self.defaultFamily[fontext]))\n",
      "C:\\Users\\home\\Anaconda3\\lib\\site-packages\\matplotlib\\font_manager.py:1328: UserWarning: findfont: Font family ['HYnamM'] not found. Falling back to DejaVu Sans\n",
      "  (prop.get_family(), self.defaultFamily[fontext]))\n",
      "C:\\Users\\home\\Anaconda3\\lib\\site-packages\\matplotlib\\font_manager.py:1328: UserWarning: findfont: Font family ['HYnamM'] not found. Falling back to DejaVu Sans\n",
      "  (prop.get_family(), self.defaultFamily[fontext]))\n",
      "C:\\Users\\home\\Anaconda3\\lib\\site-packages\\matplotlib\\font_manager.py:1328: UserWarning: findfont: Font family ['HYnamM'] not found. Falling back to DejaVu Sans\n",
      "  (prop.get_family(), self.defaultFamily[fontext]))\n",
      "C:\\Users\\home\\Anaconda3\\lib\\site-packages\\matplotlib\\font_manager.py:1328: UserWarning: findfont: Font family ['HYnamM'] not found. Falling back to DejaVu Sans\n",
      "  (prop.get_family(), self.defaultFamily[fontext]))\n",
      "C:\\Users\\home\\Anaconda3\\lib\\site-packages\\matplotlib\\font_manager.py:1328: UserWarning: findfont: Font family ['HYnamM'] not found. Falling back to DejaVu Sans\n",
      "  (prop.get_family(), self.defaultFamily[fontext]))\n",
      "C:\\Users\\home\\Anaconda3\\lib\\site-packages\\matplotlib\\font_manager.py:1328: UserWarning: findfont: Font family ['HYnamM'] not found. Falling back to DejaVu Sans\n",
      "  (prop.get_family(), self.defaultFamily[fontext]))\n",
      "C:\\Users\\home\\Anaconda3\\lib\\site-packages\\matplotlib\\font_manager.py:1328: UserWarning: findfont: Font family ['HYnamM'] not found. Falling back to DejaVu Sans\n",
      "  (prop.get_family(), self.defaultFamily[fontext]))\n",
      "C:\\Users\\home\\Anaconda3\\lib\\site-packages\\matplotlib\\font_manager.py:1328: UserWarning: findfont: Font family ['HYnamM'] not found. Falling back to DejaVu Sans\n",
      "  (prop.get_family(), self.defaultFamily[fontext]))\n",
      "C:\\Users\\home\\Anaconda3\\lib\\site-packages\\matplotlib\\font_manager.py:1328: UserWarning: findfont: Font family ['HYnamM'] not found. Falling back to DejaVu Sans\n",
      "  (prop.get_family(), self.defaultFamily[fontext]))\n",
      "C:\\Users\\home\\Anaconda3\\lib\\site-packages\\matplotlib\\font_manager.py:1328: UserWarning: findfont: Font family ['HYnamM'] not found. Falling back to DejaVu Sans\n",
      "  (prop.get_family(), self.defaultFamily[fontext]))\n",
      "C:\\Users\\home\\Anaconda3\\lib\\site-packages\\matplotlib\\font_manager.py:1328: UserWarning: findfont: Font family ['HYnamM'] not found. Falling back to DejaVu Sans\n",
      "  (prop.get_family(), self.defaultFamily[fontext]))\n",
      "C:\\Users\\home\\Anaconda3\\lib\\site-packages\\matplotlib\\font_manager.py:1328: UserWarning: findfont: Font family ['HYnamM'] not found. Falling back to DejaVu Sans\n",
      "  (prop.get_family(), self.defaultFamily[fontext]))\n",
      "C:\\Users\\home\\Anaconda3\\lib\\site-packages\\matplotlib\\font_manager.py:1328: UserWarning: findfont: Font family ['HYnamM'] not found. Falling back to DejaVu Sans\n",
      "  (prop.get_family(), self.defaultFamily[fontext]))\n",
      "C:\\Users\\home\\Anaconda3\\lib\\site-packages\\matplotlib\\font_manager.py:1328: UserWarning: findfont: Font family ['HYnamM'] not found. Falling back to DejaVu Sans\n",
      "  (prop.get_family(), self.defaultFamily[fontext]))\n",
      "C:\\Users\\home\\Anaconda3\\lib\\site-packages\\matplotlib\\font_manager.py:1328: UserWarning: findfont: Font family ['HYnamM'] not found. Falling back to DejaVu Sans\n",
      "  (prop.get_family(), self.defaultFamily[fontext]))\n",
      "C:\\Users\\home\\Anaconda3\\lib\\site-packages\\matplotlib\\font_manager.py:1328: UserWarning: findfont: Font family ['HYnamM'] not found. Falling back to DejaVu Sans\n",
      "  (prop.get_family(), self.defaultFamily[fontext]))\n",
      "C:\\Users\\home\\Anaconda3\\lib\\site-packages\\matplotlib\\font_manager.py:1328: UserWarning: findfont: Font family ['HYnamM'] not found. Falling back to DejaVu Sans\n",
      "  (prop.get_family(), self.defaultFamily[fontext]))\n",
      "C:\\Users\\home\\Anaconda3\\lib\\site-packages\\matplotlib\\font_manager.py:1328: UserWarning: findfont: Font family ['HYnamM'] not found. Falling back to DejaVu Sans\n",
      "  (prop.get_family(), self.defaultFamily[fontext]))\n",
      "C:\\Users\\home\\Anaconda3\\lib\\site-packages\\matplotlib\\font_manager.py:1328: UserWarning: findfont: Font family ['HYnamM'] not found. Falling back to DejaVu Sans\n",
      "  (prop.get_family(), self.defaultFamily[fontext]))\n"
     ]
    },
    {
     "name": "stderr",
     "output_type": "stream",
     "text": [
      "C:\\Users\\home\\Anaconda3\\lib\\site-packages\\matplotlib\\font_manager.py:1328: UserWarning: findfont: Font family ['HYnamM'] not found. Falling back to DejaVu Sans\n",
      "  (prop.get_family(), self.defaultFamily[fontext]))\n",
      "C:\\Users\\home\\Anaconda3\\lib\\site-packages\\matplotlib\\font_manager.py:1328: UserWarning: findfont: Font family ['HYnamM'] not found. Falling back to DejaVu Sans\n",
      "  (prop.get_family(), self.defaultFamily[fontext]))\n",
      "C:\\Users\\home\\Anaconda3\\lib\\site-packages\\matplotlib\\font_manager.py:1328: UserWarning: findfont: Font family ['HYnamM'] not found. Falling back to DejaVu Sans\n",
      "  (prop.get_family(), self.defaultFamily[fontext]))\n",
      "C:\\Users\\home\\Anaconda3\\lib\\site-packages\\matplotlib\\font_manager.py:1328: UserWarning: findfont: Font family ['HYnamM'] not found. Falling back to DejaVu Sans\n",
      "  (prop.get_family(), self.defaultFamily[fontext]))\n",
      "C:\\Users\\home\\Anaconda3\\lib\\site-packages\\matplotlib\\font_manager.py:1328: UserWarning: findfont: Font family ['HYnamM'] not found. Falling back to DejaVu Sans\n",
      "  (prop.get_family(), self.defaultFamily[fontext]))\n",
      "C:\\Users\\home\\Anaconda3\\lib\\site-packages\\matplotlib\\font_manager.py:1328: UserWarning: findfont: Font family ['HYnamM'] not found. Falling back to DejaVu Sans\n",
      "  (prop.get_family(), self.defaultFamily[fontext]))\n",
      "C:\\Users\\home\\Anaconda3\\lib\\site-packages\\matplotlib\\font_manager.py:1328: UserWarning: findfont: Font family ['HYnamM'] not found. Falling back to DejaVu Sans\n",
      "  (prop.get_family(), self.defaultFamily[fontext]))\n",
      "C:\\Users\\home\\Anaconda3\\lib\\site-packages\\matplotlib\\font_manager.py:1328: UserWarning: findfont: Font family ['HYnamM'] not found. Falling back to DejaVu Sans\n",
      "  (prop.get_family(), self.defaultFamily[fontext]))\n",
      "C:\\Users\\home\\Anaconda3\\lib\\site-packages\\matplotlib\\font_manager.py:1328: UserWarning: findfont: Font family ['HYnamM'] not found. Falling back to DejaVu Sans\n",
      "  (prop.get_family(), self.defaultFamily[fontext]))\n",
      "C:\\Users\\home\\Anaconda3\\lib\\site-packages\\matplotlib\\font_manager.py:1328: UserWarning: findfont: Font family ['HYnamM'] not found. Falling back to DejaVu Sans\n",
      "  (prop.get_family(), self.defaultFamily[fontext]))\n",
      "C:\\Users\\home\\Anaconda3\\lib\\site-packages\\matplotlib\\font_manager.py:1328: UserWarning: findfont: Font family ['HYnamM'] not found. Falling back to DejaVu Sans\n",
      "  (prop.get_family(), self.defaultFamily[fontext]))\n",
      "C:\\Users\\home\\Anaconda3\\lib\\site-packages\\matplotlib\\font_manager.py:1328: UserWarning: findfont: Font family ['HYnamM'] not found. Falling back to DejaVu Sans\n",
      "  (prop.get_family(), self.defaultFamily[fontext]))\n",
      "C:\\Users\\home\\Anaconda3\\lib\\site-packages\\matplotlib\\font_manager.py:1328: UserWarning: findfont: Font family ['HYnamM'] not found. Falling back to DejaVu Sans\n",
      "  (prop.get_family(), self.defaultFamily[fontext]))\n"
     ]
    },
    {
     "data": {
      "image/png": "[encoded data removed]",
      "text/plain": [
       "<Figure size 432x288 with 1 Axes>"
      ]
     },
     "metadata": {},
     "output_type": "display_data"
    },
    {
     "name": "stderr",
     "output_type": "stream",
     "text": [
      "C:\\Users\\home\\Anaconda3\\lib\\site-packages\\matplotlib\\font_manager.py:1328: UserWarning: findfont: Font family ['HYnamM'] not found. Falling back to DejaVu Sans\n",
      "  (prop.get_family(), self.defaultFamily[fontext]))\n",
      "C:\\Users\\home\\Anaconda3\\lib\\site-packages\\matplotlib\\font_manager.py:1328: UserWarning: findfont: Font family ['HYnamM'] not found. Falling back to DejaVu Sans\n",
      "  (prop.get_family(), self.defaultFamily[fontext]))\n",
      "C:\\Users\\home\\Anaconda3\\lib\\site-packages\\matplotlib\\font_manager.py:1328: UserWarning: findfont: Font family ['HYnamM'] not found. Falling back to DejaVu Sans\n",
      "  (prop.get_family(), self.defaultFamily[fontext]))\n",
      "C:\\Users\\home\\Anaconda3\\lib\\site-packages\\matplotlib\\font_manager.py:1328: UserWarning: findfont: Font family ['HYnamM'] not found. Falling back to DejaVu Sans\n",
      "  (prop.get_family(), self.defaultFamily[fontext]))\n",
      "C:\\Users\\home\\Anaconda3\\lib\\site-packages\\matplotlib\\font_manager.py:1328: UserWarning: findfont: Font family ['HYnamM'] not found. Falling back to DejaVu Sans\n",
      "  (prop.get_family(), self.defaultFamily[fontext]))\n",
      "C:\\Users\\home\\Anaconda3\\lib\\site-packages\\matplotlib\\font_manager.py:1328: UserWarning: findfont: Font family ['HYnamM'] not found. Falling back to DejaVu Sans\n",
      "  (prop.get_family(), self.defaultFamily[fontext]))\n",
      "C:\\Users\\home\\Anaconda3\\lib\\site-packages\\matplotlib\\font_manager.py:1328: UserWarning: findfont: Font family ['HYnamM'] not found. Falling back to DejaVu Sans\n",
      "  (prop.get_family(), self.defaultFamily[fontext]))\n",
      "C:\\Users\\home\\Anaconda3\\lib\\site-packages\\matplotlib\\font_manager.py:1328: UserWarning: findfont: Font family ['HYnamM'] not found. Falling back to DejaVu Sans\n",
      "  (prop.get_family(), self.defaultFamily[fontext]))\n",
      "C:\\Users\\home\\Anaconda3\\lib\\site-packages\\matplotlib\\font_manager.py:1328: UserWarning: findfont: Font family ['HYnamM'] not found. Falling back to DejaVu Sans\n",
      "  (prop.get_family(), self.defaultFamily[fontext]))\n",
      "C:\\Users\\home\\Anaconda3\\lib\\site-packages\\matplotlib\\font_manager.py:1328: UserWarning: findfont: Font family ['HYnamM'] not found. Falling back to DejaVu Sans\n",
      "  (prop.get_family(), self.defaultFamily[fontext]))\n",
      "C:\\Users\\home\\Anaconda3\\lib\\site-packages\\matplotlib\\font_manager.py:1328: UserWarning: findfont: Font family ['HYnamM'] not found. Falling back to DejaVu Sans\n",
      "  (prop.get_family(), self.defaultFamily[fontext]))\n",
      "C:\\Users\\home\\Anaconda3\\lib\\site-packages\\matplotlib\\font_manager.py:1328: UserWarning: findfont: Font family ['HYnamM'] not found. Falling back to DejaVu Sans\n",
      "  (prop.get_family(), self.defaultFamily[fontext]))\n",
      "C:\\Users\\home\\Anaconda3\\lib\\site-packages\\matplotlib\\font_manager.py:1328: UserWarning: findfont: Font family ['HYnamM'] not found. Falling back to DejaVu Sans\n",
      "  (prop.get_family(), self.defaultFamily[fontext]))\n",
      "C:\\Users\\home\\Anaconda3\\lib\\site-packages\\matplotlib\\font_manager.py:1328: UserWarning: findfont: Font family ['HYnamM'] not found. Falling back to DejaVu Sans\n",
      "  (prop.get_family(), self.defaultFamily[fontext]))\n",
      "C:\\Users\\home\\Anaconda3\\lib\\site-packages\\matplotlib\\font_manager.py:1328: UserWarning: findfont: Font family ['HYnamM'] not found. Falling back to DejaVu Sans\n",
      "  (prop.get_family(), self.defaultFamily[fontext]))\n",
      "C:\\Users\\home\\Anaconda3\\lib\\site-packages\\matplotlib\\font_manager.py:1328: UserWarning: findfont: Font family ['HYnamM'] not found. Falling back to DejaVu Sans\n",
      "  (prop.get_family(), self.defaultFamily[fontext]))\n",
      "C:\\Users\\home\\Anaconda3\\lib\\site-packages\\matplotlib\\font_manager.py:1328: UserWarning: findfont: Font family ['HYnamM'] not found. Falling back to DejaVu Sans\n",
      "  (prop.get_family(), self.defaultFamily[fontext]))\n",
      "C:\\Users\\home\\Anaconda3\\lib\\site-packages\\matplotlib\\font_manager.py:1328: UserWarning: findfont: Font family ['HYnamM'] not found. Falling back to DejaVu Sans\n",
      "  (prop.get_family(), self.defaultFamily[fontext]))\n",
      "C:\\Users\\home\\Anaconda3\\lib\\site-packages\\matplotlib\\font_manager.py:1328: UserWarning: findfont: Font family ['HYnamM'] not found. Falling back to DejaVu Sans\n",
      "  (prop.get_family(), self.defaultFamily[fontext]))\n",
      "C:\\Users\\home\\Anaconda3\\lib\\site-packages\\matplotlib\\font_manager.py:1328: UserWarning: findfont: Font family ['HYnamM'] not found. Falling back to DejaVu Sans\n",
      "  (prop.get_family(), self.defaultFamily[fontext]))\n",
      "C:\\Users\\home\\Anaconda3\\lib\\site-packages\\matplotlib\\font_manager.py:1328: UserWarning: findfont: Font family ['HYnamM'] not found. Falling back to DejaVu Sans\n",
      "  (prop.get_family(), self.defaultFamily[fontext]))\n",
      "C:\\Users\\home\\Anaconda3\\lib\\site-packages\\matplotlib\\font_manager.py:1328: UserWarning: findfont: Font family ['HYnamM'] not found. Falling back to DejaVu Sans\n",
      "  (prop.get_family(), self.defaultFamily[fontext]))\n",
      "C:\\Users\\home\\Anaconda3\\lib\\site-packages\\matplotlib\\font_manager.py:1328: UserWarning: findfont: Font family ['HYnamM'] not found. Falling back to DejaVu Sans\n",
      "  (prop.get_family(), self.defaultFamily[fontext]))\n",
      "C:\\Users\\home\\Anaconda3\\lib\\site-packages\\matplotlib\\font_manager.py:1328: UserWarning: findfont: Font family ['HYnamM'] not found. Falling back to DejaVu Sans\n",
      "  (prop.get_family(), self.defaultFamily[fontext]))\n",
      "C:\\Users\\home\\Anaconda3\\lib\\site-packages\\matplotlib\\font_manager.py:1328: UserWarning: findfont: Font family ['HYnamM'] not found. Falling back to DejaVu Sans\n",
      "  (prop.get_family(), self.defaultFamily[fontext]))\n",
      "C:\\Users\\home\\Anaconda3\\lib\\site-packages\\matplotlib\\font_manager.py:1328: UserWarning: findfont: Font family ['HYnamM'] not found. Falling back to DejaVu Sans\n",
      "  (prop.get_family(), self.defaultFamily[fontext]))\n",
      "C:\\Users\\home\\Anaconda3\\lib\\site-packages\\matplotlib\\font_manager.py:1328: UserWarning: findfont: Font family ['HYnamM'] not found. Falling back to DejaVu Sans\n",
      "  (prop.get_family(), self.defaultFamily[fontext]))\n",
      "C:\\Users\\home\\Anaconda3\\lib\\site-packages\\matplotlib\\font_manager.py:1328: UserWarning: findfont: Font family ['HYnamM'] not found. Falling back to DejaVu Sans\n",
      "  (prop.get_family(), self.defaultFamily[fontext]))\n",
      "C:\\Users\\home\\Anaconda3\\lib\\site-packages\\matplotlib\\font_manager.py:1328: UserWarning: findfont: Font family ['HYnamM'] not found. Falling back to DejaVu Sans\n",
      "  (prop.get_family(), self.defaultFamily[fontext]))\n",
      "C:\\Users\\home\\Anaconda3\\lib\\site-packages\\matplotlib\\font_manager.py:1328: UserWarning: findfont: Font family ['HYnamM'] not found. Falling back to DejaVu Sans\n",
      "  (prop.get_family(), self.defaultFamily[fontext]))\n",
      "C:\\Users\\home\\Anaconda3\\lib\\site-packages\\matplotlib\\font_manager.py:1328: UserWarning: findfont: Font family ['HYnamM'] not found. Falling back to DejaVu Sans\n",
      "  (prop.get_family(), self.defaultFamily[fontext]))\n",
      "C:\\Users\\home\\Anaconda3\\lib\\site-packages\\matplotlib\\font_manager.py:1328: UserWarning: findfont: Font family ['HYnamM'] not found. Falling back to DejaVu Sans\n",
      "  (prop.get_family(), self.defaultFamily[fontext]))\n",
      "C:\\Users\\home\\Anaconda3\\lib\\site-packages\\matplotlib\\font_manager.py:1328: UserWarning: findfont: Font family ['HYnamM'] not found. Falling back to DejaVu Sans\n",
      "  (prop.get_family(), self.defaultFamily[fontext]))\n",
      "C:\\Users\\home\\Anaconda3\\lib\\site-packages\\matplotlib\\font_manager.py:1328: UserWarning: findfont: Font family ['HYnamM'] not found. Falling back to DejaVu Sans\n",
      "  (prop.get_family(), self.defaultFamily[fontext]))\n",
      "C:\\Users\\home\\Anaconda3\\lib\\site-packages\\matplotlib\\font_manager.py:1328: UserWarning: findfont: Font family ['HYnamM'] not found. Falling back to DejaVu Sans\n",
      "  (prop.get_family(), self.defaultFamily[fontext]))\n",
      "C:\\Users\\home\\Anaconda3\\lib\\site-packages\\matplotlib\\font_manager.py:1328: UserWarning: findfont: Font family ['HYnamM'] not found. Falling back to DejaVu Sans\n",
      "  (prop.get_family(), self.defaultFamily[fontext]))\n",
      "C:\\Users\\home\\Anaconda3\\lib\\site-packages\\matplotlib\\font_manager.py:1328: UserWarning: findfont: Font family ['HYnamM'] not found. Falling back to DejaVu Sans\n",
      "  (prop.get_family(), self.defaultFamily[fontext]))\n",
      "C:\\Users\\home\\Anaconda3\\lib\\site-packages\\matplotlib\\font_manager.py:1328: UserWarning: findfont: Font family ['HYnamM'] not found. Falling back to DejaVu Sans\n",
      "  (prop.get_family(), self.defaultFamily[fontext]))\n",
      "C:\\Users\\home\\Anaconda3\\lib\\site-packages\\matplotlib\\font_manager.py:1328: UserWarning: findfont: Font family ['HYnamM'] not found. Falling back to DejaVu Sans\n",
      "  (prop.get_family(), self.defaultFamily[fontext]))\n",
      "C:\\Users\\home\\Anaconda3\\lib\\site-packages\\matplotlib\\font_manager.py:1328: UserWarning: findfont: Font family ['HYnamM'] not found. Falling back to DejaVu Sans\n",
      "  (prop.get_family(), self.defaultFamily[fontext]))\n"
     ]
    },
    {
     "name": "stderr",
     "output_type": "stream",
     "text": [
      "C:\\Users\\home\\Anaconda3\\lib\\site-packages\\matplotlib\\font_manager.py:1328: UserWarning: findfont: Font family ['HYnamM'] not found. Falling back to DejaVu Sans\n",
      "  (prop.get_family(), self.defaultFamily[fontext]))\n",
      "C:\\Users\\home\\Anaconda3\\lib\\site-packages\\matplotlib\\font_manager.py:1328: UserWarning: findfont: Font family ['HYnamM'] not found. Falling back to DejaVu Sans\n",
      "  (prop.get_family(), self.defaultFamily[fontext]))\n",
      "C:\\Users\\home\\Anaconda3\\lib\\site-packages\\matplotlib\\font_manager.py:1328: UserWarning: findfont: Font family ['HYnamM'] not found. Falling back to DejaVu Sans\n",
      "  (prop.get_family(), self.defaultFamily[fontext]))\n",
      "C:\\Users\\home\\Anaconda3\\lib\\site-packages\\matplotlib\\font_manager.py:1328: UserWarning: findfont: Font family ['HYnamM'] not found. Falling back to DejaVu Sans\n",
      "  (prop.get_family(), self.defaultFamily[fontext]))\n",
      "C:\\Users\\home\\Anaconda3\\lib\\site-packages\\matplotlib\\font_manager.py:1328: UserWarning: findfont: Font family ['HYnamM'] not found. Falling back to DejaVu Sans\n",
      "  (prop.get_family(), self.defaultFamily[fontext]))\n",
      "C:\\Users\\home\\Anaconda3\\lib\\site-packages\\matplotlib\\font_manager.py:1328: UserWarning: findfont: Font family ['HYnamM'] not found. Falling back to DejaVu Sans\n",
      "  (prop.get_family(), self.defaultFamily[fontext]))\n",
      "C:\\Users\\home\\Anaconda3\\lib\\site-packages\\matplotlib\\font_manager.py:1328: UserWarning: findfont: Font family ['HYnamM'] not found. Falling back to DejaVu Sans\n",
      "  (prop.get_family(), self.defaultFamily[fontext]))\n",
      "C:\\Users\\home\\Anaconda3\\lib\\site-packages\\matplotlib\\font_manager.py:1328: UserWarning: findfont: Font family ['HYnamM'] not found. Falling back to DejaVu Sans\n",
      "  (prop.get_family(), self.defaultFamily[fontext]))\n",
      "C:\\Users\\home\\Anaconda3\\lib\\site-packages\\matplotlib\\font_manager.py:1328: UserWarning: findfont: Font family ['HYnamM'] not found. Falling back to DejaVu Sans\n",
      "  (prop.get_family(), self.defaultFamily[fontext]))\n",
      "C:\\Users\\home\\Anaconda3\\lib\\site-packages\\matplotlib\\font_manager.py:1328: UserWarning: findfont: Font family ['HYnamM'] not found. Falling back to DejaVu Sans\n",
      "  (prop.get_family(), self.defaultFamily[fontext]))\n",
      "C:\\Users\\home\\Anaconda3\\lib\\site-packages\\matplotlib\\font_manager.py:1328: UserWarning: findfont: Font family ['HYnamM'] not found. Falling back to DejaVu Sans\n",
      "  (prop.get_family(), self.defaultFamily[fontext]))\n",
      "C:\\Users\\home\\Anaconda3\\lib\\site-packages\\matplotlib\\font_manager.py:1328: UserWarning: findfont: Font family ['HYnamM'] not found. Falling back to DejaVu Sans\n",
      "  (prop.get_family(), self.defaultFamily[fontext]))\n",
      "C:\\Users\\home\\Anaconda3\\lib\\site-packages\\matplotlib\\font_manager.py:1328: UserWarning: findfont: Font family ['HYnamM'] not found. Falling back to DejaVu Sans\n",
      "  (prop.get_family(), self.defaultFamily[fontext]))\n",
      "C:\\Users\\home\\Anaconda3\\lib\\site-packages\\matplotlib\\font_manager.py:1328: UserWarning: findfont: Font family ['HYnamM'] not found. Falling back to DejaVu Sans\n",
      "  (prop.get_family(), self.defaultFamily[fontext]))\n",
      "C:\\Users\\home\\Anaconda3\\lib\\site-packages\\matplotlib\\font_manager.py:1328: UserWarning: findfont: Font family ['HYnamM'] not found. Falling back to DejaVu Sans\n",
      "  (prop.get_family(), self.defaultFamily[fontext]))\n",
      "C:\\Users\\home\\Anaconda3\\lib\\site-packages\\matplotlib\\font_manager.py:1328: UserWarning: findfont: Font family ['HYnamM'] not found. Falling back to DejaVu Sans\n",
      "  (prop.get_family(), self.defaultFamily[fontext]))\n",
      "C:\\Users\\home\\Anaconda3\\lib\\site-packages\\matplotlib\\font_manager.py:1328: UserWarning: findfont: Font family ['HYnamM'] not found. Falling back to DejaVu Sans\n",
      "  (prop.get_family(), self.defaultFamily[fontext]))\n",
      "C:\\Users\\home\\Anaconda3\\lib\\site-packages\\matplotlib\\font_manager.py:1328: UserWarning: findfont: Font family ['HYnamM'] not found. Falling back to DejaVu Sans\n",
      "  (prop.get_family(), self.defaultFamily[fontext]))\n",
      "C:\\Users\\home\\Anaconda3\\lib\\site-packages\\matplotlib\\font_manager.py:1328: UserWarning: findfont: Font family ['HYnamM'] not found. Falling back to DejaVu Sans\n",
      "  (prop.get_family(), self.defaultFamily[fontext]))\n",
      "C:\\Users\\home\\Anaconda3\\lib\\site-packages\\matplotlib\\font_manager.py:1328: UserWarning: findfont: Font family ['HYnamM'] not found. Falling back to DejaVu Sans\n",
      "  (prop.get_family(), self.defaultFamily[fontext]))\n",
      "C:\\Users\\home\\Anaconda3\\lib\\site-packages\\matplotlib\\font_manager.py:1328: UserWarning: findfont: Font family ['HYnamM'] not found. Falling back to DejaVu Sans\n",
      "  (prop.get_family(), self.defaultFamily[fontext]))\n",
      "C:\\Users\\home\\Anaconda3\\lib\\site-packages\\matplotlib\\font_manager.py:1328: UserWarning: findfont: Font family ['HYnamM'] not found. Falling back to DejaVu Sans\n",
      "  (prop.get_family(), self.defaultFamily[fontext]))\n",
      "C:\\Users\\home\\Anaconda3\\lib\\site-packages\\matplotlib\\font_manager.py:1328: UserWarning: findfont: Font family ['HYnamM'] not found. Falling back to DejaVu Sans\n",
      "  (prop.get_family(), self.defaultFamily[fontext]))\n",
      "C:\\Users\\home\\Anaconda3\\lib\\site-packages\\matplotlib\\font_manager.py:1328: UserWarning: findfont: Font family ['HYnamM'] not found. Falling back to DejaVu Sans\n",
      "  (prop.get_family(), self.defaultFamily[fontext]))\n",
      "C:\\Users\\home\\Anaconda3\\lib\\site-packages\\matplotlib\\font_manager.py:1328: UserWarning: findfont: Font family ['HYnamM'] not found. Falling back to DejaVu Sans\n",
      "  (prop.get_family(), self.defaultFamily[fontext]))\n",
      "C:\\Users\\home\\Anaconda3\\lib\\site-packages\\matplotlib\\font_manager.py:1328: UserWarning: findfont: Font family ['HYnamM'] not found. Falling back to DejaVu Sans\n",
      "  (prop.get_family(), self.defaultFamily[fontext]))\n",
      "C:\\Users\\home\\Anaconda3\\lib\\site-packages\\matplotlib\\font_manager.py:1328: UserWarning: findfont: Font family ['HYnamM'] not found. Falling back to DejaVu Sans\n",
      "  (prop.get_family(), self.defaultFamily[fontext]))\n",
      "C:\\Users\\home\\Anaconda3\\lib\\site-packages\\matplotlib\\font_manager.py:1328: UserWarning: findfont: Font family ['HYnamM'] not found. Falling back to DejaVu Sans\n",
      "  (prop.get_family(), self.defaultFamily[fontext]))\n",
      "C:\\Users\\home\\Anaconda3\\lib\\site-packages\\matplotlib\\font_manager.py:1328: UserWarning: findfont: Font family ['HYnamM'] not found. Falling back to DejaVu Sans\n",
      "  (prop.get_family(), self.defaultFamily[fontext]))\n",
      "C:\\Users\\home\\Anaconda3\\lib\\site-packages\\matplotlib\\font_manager.py:1328: UserWarning: findfont: Font family ['HYnamM'] not found. Falling back to DejaVu Sans\n",
      "  (prop.get_family(), self.defaultFamily[fontext]))\n",
      "C:\\Users\\home\\Anaconda3\\lib\\site-packages\\matplotlib\\font_manager.py:1328: UserWarning: findfont: Font family ['HYnamM'] not found. Falling back to DejaVu Sans\n",
      "  (prop.get_family(), self.defaultFamily[fontext]))\n",
      "C:\\Users\\home\\Anaconda3\\lib\\site-packages\\matplotlib\\font_manager.py:1328: UserWarning: findfont: Font family ['HYnamM'] not found. Falling back to DejaVu Sans\n",
      "  (prop.get_family(), self.defaultFamily[fontext]))\n"
     ]
    },
    {
     "data": {
      "image/png": "[encoded data removed]",
      "text/plain": [
       "<Figure size 432x288 with 1 Axes>"
      ]
     },
     "metadata": {},
     "output_type": "display_data"
    }
   ],
   "source": [
    "# 판다스의 시각화 툴을 사용해서 히스토그램 그래프를 그려본다.\n",
    "# 중간값으로 채워주기 전 나이 데이터\n",
    "train.hist(['Age'])\n",
    "# 중간값으로 채워준 후의 나이 데이터\n",
    "# 중간값이 눈에 띄게 늘어났다.\n",
    "train_mean.hist(['Age'])"
   ]
  },
  {
   "cell_type": "markdown",
   "metadata": {},
   "source": [
    "## 2. 사이킷런의 Imputer 를 사용"
   ]
  },
  {
   "cell_type": "code",
   "execution_count": 20,
   "metadata": {},
   "outputs": [],
   "source": [
    "train_imputer = train.copy()\n",
    "test_imputer = test.copy()"
   ]
  },
  {
   "cell_type": "code",
   "execution_count": 21,
   "metadata": {},
   "outputs": [
    {
     "data": {
      "text/plain": [
       "0    22.0\n",
       "1    38.0\n",
       "2    26.0\n",
       "3    35.0\n",
       "4    35.0\n",
       "Name: Age, dtype: float64"
      ]
     },
     "execution_count": 21,
     "metadata": {},
     "output_type": "execute_result"
    }
   ],
   "source": [
    "train_imputer['Age'][:5]"
   ]
  },
  {
   "cell_type": "markdown",
   "metadata": {},
   "source": [
    "#### Imputer를 사용해 보기에 앞서 shape와 reshape를 이해하고 넘어간다."
   ]
  },
  {
   "cell_type": "code",
   "execution_count": 22,
   "metadata": {},
   "outputs": [
    {
     "name": "stdout",
     "output_type": "stream",
     "text": [
      "(891,)\n",
      "(891, 1)\n"
     ]
    }
   ],
   "source": [
    "# 벡터 데이터의 형태를 출력해 본다.\n",
    "print(train_imputer['Age'].values.shape)\n",
    "# reshape(-1,1)를 사용해 벡터 데이터를 행렬 데이터로 변환해 준다.\n",
    "print(train_imputer['Age'].values.reshape(-1,1).shape)"
   ]
  },
  {
   "cell_type": "code",
   "execution_count": 23,
   "metadata": {},
   "outputs": [],
   "source": [
    "from sklearn.preprocessing import Imputer\n",
    "\n",
    "# 결측치를 보완해 준다.\n",
    "def nan_padding(data, columns):\n",
    "    for column in columns:\n",
    "        imputer = Imputer()\n",
    "        data[column] = imputer.fit_transform(data[column].values.reshape(-1,1))\n",
    "    return data\n",
    "\n",
    "\n",
    "nan_columns = ['Age', 'SibSp', 'Parch', 'Fare']\n",
    "\n",
    "train_imputer = nan_padding(train_imputer, nan_columns)\n",
    "test_imputer = nan_padding(test_imputer, nan_columns)"
   ]
  },
  {
   "cell_type": "code",
   "execution_count": 24,
   "metadata": {},
   "outputs": [
    {
     "name": "stdout",
     "output_type": "stream",
     "text": [
      "PassengerId      0\n",
      "Survived         0\n",
      "Pclass           0\n",
      "Name             0\n",
      "Sex              0\n",
      "Age            177\n",
      "SibSp            0\n",
      "Parch            0\n",
      "Ticket           0\n",
      "Fare             0\n",
      "Cabin          687\n",
      "Embarked         2\n",
      "dtype: int64\n",
      "--------------------\n",
      "PassengerId      0\n",
      "Survived         0\n",
      "Pclass           0\n",
      "Name             0\n",
      "Sex              0\n",
      "Age              0\n",
      "SibSp            0\n",
      "Parch            0\n",
      "Ticket           0\n",
      "Fare             0\n",
      "Cabin          687\n",
      "Embarked         2\n",
      "dtype: int64\n"
     ]
    }
   ],
   "source": [
    "print(train.isnull().sum())\n",
    "print('-' * 20)\n",
    "print(train_imputer.isnull().sum())"
   ]
  },
  {
   "cell_type": "code",
   "execution_count": 25,
   "metadata": {},
   "outputs": [
    {
     "data": {
      "text/html": [
       "<div>\n",
       "<style scoped>\n",
       "    .dataframe tbody tr th:only-of-type {\n",
       "        vertical-align: middle;\n",
       "    }\n",
       "\n",
       "    .dataframe tbody tr th {\n",
       "        vertical-align: top;\n",
       "    }\n",
       "\n",
       "    .dataframe thead th {\n",
       "        text-align: right;\n",
       "    }\n",
       "</style>\n",
       "<table border=\"1\" class=\"dataframe\">\n",
       "  <thead>\n",
       "    <tr style=\"text-align: right;\">\n",
       "      <th></th>\n",
       "      <th>Age</th>\n",
       "      <th>SibSp</th>\n",
       "      <th>Parch</th>\n",
       "      <th>Fare</th>\n",
       "    </tr>\n",
       "  </thead>\n",
       "  <tbody>\n",
       "    <tr>\n",
       "      <th>0</th>\n",
       "      <td>22.0</td>\n",
       "      <td>1.0</td>\n",
       "      <td>0.0</td>\n",
       "      <td>7.2500</td>\n",
       "    </tr>\n",
       "    <tr>\n",
       "      <th>1</th>\n",
       "      <td>38.0</td>\n",
       "      <td>1.0</td>\n",
       "      <td>0.0</td>\n",
       "      <td>71.2833</td>\n",
       "    </tr>\n",
       "    <tr>\n",
       "      <th>2</th>\n",
       "      <td>26.0</td>\n",
       "      <td>0.0</td>\n",
       "      <td>0.0</td>\n",
       "      <td>7.9250</td>\n",
       "    </tr>\n",
       "    <tr>\n",
       "      <th>3</th>\n",
       "      <td>35.0</td>\n",
       "      <td>1.0</td>\n",
       "      <td>0.0</td>\n",
       "      <td>53.1000</td>\n",
       "    </tr>\n",
       "    <tr>\n",
       "      <th>4</th>\n",
       "      <td>35.0</td>\n",
       "      <td>0.0</td>\n",
       "      <td>0.0</td>\n",
       "      <td>8.0500</td>\n",
       "    </tr>\n",
       "  </tbody>\n",
       "</table>\n",
       "</div>"
      ],
      "text/plain": [
       "    Age  SibSp  Parch     Fare\n",
       "0  22.0    1.0    0.0   7.2500\n",
       "1  38.0    1.0    0.0  71.2833\n",
       "2  26.0    0.0    0.0   7.9250\n",
       "3  35.0    1.0    0.0  53.1000\n",
       "4  35.0    0.0    0.0   8.0500"
      ]
     },
     "execution_count": 25,
     "metadata": {},
     "output_type": "execute_result"
    }
   ],
   "source": [
    "train_imputer[nan_columns].head()"
   ]
  },
  {
   "cell_type": "markdown",
   "metadata": {},
   "source": [
    "## 3. 다른 컬럼 정보를 사용해서 결측치를 예측"
   ]
  },
  {
   "cell_type": "code",
   "execution_count": 26,
   "metadata": {},
   "outputs": [],
   "source": [
    "train_cp = train.copy()\n",
    "test_cp = test.copy()"
   ]
  },
  {
   "cell_type": "code",
   "execution_count": 27,
   "metadata": {},
   "outputs": [
    {
     "data": {
      "text/plain": [
       "0"
      ]
     },
     "execution_count": 27,
     "metadata": {},
     "output_type": "execute_result"
    }
   ],
   "source": [
    "# 결측치가 있는 지 확인\n",
    "train['Name'].isnull().sum()"
   ]
  },
  {
   "cell_type": "code",
   "execution_count": 28,
   "metadata": {},
   "outputs": [
    {
     "data": {
      "text/plain": [
       "0                              Braund, Mr. Owen Harris\n",
       "1    Cumings, Mrs. John Bradley (Florence Briggs Th...\n",
       "2                               Heikkinen, Miss. Laina\n",
       "3         Futrelle, Mrs. Jacques Heath (Lily May Peel)\n",
       "4                             Allen, Mr. William Henry\n",
       "Name: Name, dtype: object"
      ]
     },
     "execution_count": 28,
     "metadata": {},
     "output_type": "execute_result"
    }
   ],
   "source": [
    "# 일부의 데이터만 찍어보았지만 모든 데이터가 콤마(,)와 마침표(.)가 들어가 있다.\n",
    "# 여기에서 콤마 뒤의 데이터가 호칭이며 Miss, Ms, Mrs 등으로 나이를 추측해 볼 수 있다.\n",
    "train['Name'].head()"
   ]
  },
  {
   "cell_type": "code",
   "execution_count": 29,
   "metadata": {},
   "outputs": [
    {
     "data": {
      "text/html": [
       "<div>\n",
       "<style scoped>\n",
       "    .dataframe tbody tr th:only-of-type {\n",
       "        vertical-align: middle;\n",
       "    }\n",
       "\n",
       "    .dataframe tbody tr th {\n",
       "        vertical-align: top;\n",
       "    }\n",
       "\n",
       "    .dataframe thead th {\n",
       "        text-align: right;\n",
       "    }\n",
       "</style>\n",
       "<table border=\"1\" class=\"dataframe\">\n",
       "  <thead>\n",
       "    <tr style=\"text-align: right;\">\n",
       "      <th></th>\n",
       "      <th>0</th>\n",
       "      <th>1</th>\n",
       "    </tr>\n",
       "  </thead>\n",
       "  <tbody>\n",
       "    <tr>\n",
       "      <th>0</th>\n",
       "      <td>Braund</td>\n",
       "      <td>Mr. Owen Harris</td>\n",
       "    </tr>\n",
       "    <tr>\n",
       "      <th>1</th>\n",
       "      <td>Cumings</td>\n",
       "      <td>Mrs. John Bradley (Florence Briggs Thayer)</td>\n",
       "    </tr>\n",
       "    <tr>\n",
       "      <th>2</th>\n",
       "      <td>Heikkinen</td>\n",
       "      <td>Miss. Laina</td>\n",
       "    </tr>\n",
       "    <tr>\n",
       "      <th>3</th>\n",
       "      <td>Futrelle</td>\n",
       "      <td>Mrs. Jacques Heath (Lily May Peel)</td>\n",
       "    </tr>\n",
       "    <tr>\n",
       "      <th>4</th>\n",
       "      <td>Allen</td>\n",
       "      <td>Mr. William Henry</td>\n",
       "    </tr>\n",
       "  </tbody>\n",
       "</table>\n",
       "</div>"
      ],
      "text/plain": [
       "           0                                           1\n",
       "0     Braund                             Mr. Owen Harris\n",
       "1    Cumings  Mrs. John Bradley (Florence Briggs Thayer)\n",
       "2  Heikkinen                                 Miss. Laina\n",
       "3   Futrelle          Mrs. Jacques Heath (Lily May Peel)\n",
       "4      Allen                           Mr. William Henry"
      ]
     },
     "execution_count": 29,
     "metadata": {},
     "output_type": "execute_result"
    }
   ],
   "source": [
    "train['Name'].str.split(\", \", expand=True).head()"
   ]
  },
  {
   "cell_type": "code",
   "execution_count": 30,
   "metadata": {},
   "outputs": [
    {
     "data": {
      "text/plain": [
       "0     Mr\n",
       "1    Mrs\n",
       "2     Mr\n",
       "3     Mr\n",
       "4    Mrs\n",
       "Name: Title, dtype: object"
      ]
     },
     "execution_count": 30,
     "metadata": {},
     "output_type": "execute_result"
    }
   ],
   "source": [
    "# 이름에서 Title 항목만 떼어낸다.\n",
    "# 콤마로 분리를 하고 분리된 두 번째 데이터의 첫번째 항목을 가져온다.\n",
    "train['Title'] = train['Name'].str.split(\n",
    "    \", \", expand=True)[1].str.split(\".\", expand=True)[0]\n",
    "train['Title'].head()\n",
    "\n",
    "test['Title'] = test['Name'].str.split(\n",
    "    \", \", expand=True)[1].str.split(\".\", expand=True)[0]\n",
    "test['Title'].head()"
   ]
  },
  {
   "cell_type": "code",
   "execution_count": 31,
   "metadata": {},
   "outputs": [
    {
     "data": {
      "text/plain": [
       "Mr              517\n",
       "Miss            182\n",
       "Mrs             125\n",
       "Master           40\n",
       "Dr                7\n",
       "Rev               6\n",
       "Mlle              2\n",
       "Major             2\n",
       "Col               2\n",
       "Capt              1\n",
       "Sir               1\n",
       "Lady              1\n",
       "Jonkheer          1\n",
       "the Countess      1\n",
       "Ms                1\n",
       "Mme               1\n",
       "Don               1\n",
       "Name: Title, dtype: int64"
      ]
     },
     "execution_count": 31,
     "metadata": {},
     "output_type": "execute_result"
    }
   ],
   "source": [
    "# 호칭의 갯수를 알아본다.\n",
    "# Don은 스페인에서 세례명의 존칭 혹은 귀인을 뜻한다고 한다.\n",
    "# Capt 또한 대위 또는 대령을 뜻한다.\n",
    "train['Title'].value_counts()"
   ]
  },
  {
   "cell_type": "code",
   "execution_count": 32,
   "metadata": {},
   "outputs": [
    {
     "data": {
      "text/html": [
       "<div>\n",
       "<style scoped>\n",
       "    .dataframe tbody tr th:only-of-type {\n",
       "        vertical-align: middle;\n",
       "    }\n",
       "\n",
       "    .dataframe tbody tr th {\n",
       "        vertical-align: top;\n",
       "    }\n",
       "\n",
       "    .dataframe thead th {\n",
       "        text-align: right;\n",
       "    }\n",
       "</style>\n",
       "<table border=\"1\" class=\"dataframe\">\n",
       "  <thead>\n",
       "    <tr style=\"text-align: right;\">\n",
       "      <th></th>\n",
       "      <th>PassengerId</th>\n",
       "      <th>Survived</th>\n",
       "      <th>Pclass</th>\n",
       "      <th>Name</th>\n",
       "      <th>Sex</th>\n",
       "      <th>Age</th>\n",
       "      <th>SibSp</th>\n",
       "      <th>Parch</th>\n",
       "      <th>Ticket</th>\n",
       "      <th>Fare</th>\n",
       "      <th>Cabin</th>\n",
       "      <th>Embarked</th>\n",
       "      <th>Title</th>\n",
       "    </tr>\n",
       "  </thead>\n",
       "  <tbody>\n",
       "    <tr>\n",
       "      <th>556</th>\n",
       "      <td>557</td>\n",
       "      <td>1</td>\n",
       "      <td>1</td>\n",
       "      <td>Duff Gordon, Lady. (Lucille Christiana Sutherl...</td>\n",
       "      <td>female</td>\n",
       "      <td>48.0</td>\n",
       "      <td>1</td>\n",
       "      <td>0</td>\n",
       "      <td>11755</td>\n",
       "      <td>39.6</td>\n",
       "      <td>A16</td>\n",
       "      <td>C</td>\n",
       "      <td>Lady</td>\n",
       "    </tr>\n",
       "    <tr>\n",
       "      <th>759</th>\n",
       "      <td>760</td>\n",
       "      <td>1</td>\n",
       "      <td>1</td>\n",
       "      <td>Rothes, the Countess. of (Lucy Noel Martha Dye...</td>\n",
       "      <td>female</td>\n",
       "      <td>33.0</td>\n",
       "      <td>0</td>\n",
       "      <td>0</td>\n",
       "      <td>110152</td>\n",
       "      <td>86.5</td>\n",
       "      <td>B77</td>\n",
       "      <td>S</td>\n",
       "      <td>the Countess</td>\n",
       "    </tr>\n",
       "  </tbody>\n",
       "</table>\n",
       "</div>"
      ],
      "text/plain": [
       "     PassengerId  Survived  Pclass  \\\n",
       "556          557         1       1   \n",
       "759          760         1       1   \n",
       "\n",
       "                                                  Name     Sex   Age  SibSp  \\\n",
       "556  Duff Gordon, Lady. (Lucille Christiana Sutherl...  female  48.0      1   \n",
       "759  Rothes, the Countess. of (Lucy Noel Martha Dye...  female  33.0      0   \n",
       "\n",
       "     Parch  Ticket  Fare Cabin Embarked         Title  \n",
       "556      0   11755  39.6   A16        C          Lady  \n",
       "759      0  110152  86.5   B77        S  the Countess  "
      ]
     },
     "execution_count": 32,
     "metadata": {},
     "output_type": "execute_result"
    }
   ],
   "source": [
    "train.query(\"Title in ('Dona', 'Lady', 'the Countess')\")"
   ]
  },
  {
   "cell_type": "code",
   "execution_count": 33,
   "metadata": {},
   "outputs": [
    {
     "data": {
      "text/plain": [
       "Mr          517\n",
       "Miss        182\n",
       "Mrs         125\n",
       "Master       40\n",
       "Dr            7\n",
       "Rev           6\n",
       "Ms            6\n",
       "Major         2\n",
       "Col           2\n",
       "Capt          1\n",
       "Jonkheer      1\n",
       "Don           1\n",
       "Sir           1\n",
       "Name: Title, dtype: int64"
      ]
     },
     "execution_count": 33,
     "metadata": {},
     "output_type": "execute_result"
    }
   ],
   "source": [
    "# 결혼한 여성 관련 호칭은 Mrs로 분류\n",
    "train.loc[train['Title'].isin(['Dona', 'Lady', 'the Countess', 'Mme', 'Mlle']), 'Title'] = 'Ms'\n",
    "test.loc[test['Title'].isin(['Dona', 'Lady', 'the Countess', 'Mme', 'Mlle']), 'Title'] = 'Ms'\n",
    "train['Title'].value_counts()"
   ]
  },
  {
   "cell_type": "code",
   "execution_count": 34,
   "metadata": {},
   "outputs": [
    {
     "data": {
      "text/plain": [
       "Mr      578\n",
       "Miss    182\n",
       "Mrs     125\n",
       "Ms        6\n",
       "Name: Title, dtype: int64"
      ]
     },
     "execution_count": 34,
     "metadata": {},
     "output_type": "execute_result"
    }
   ],
   "source": [
    "train.loc[train['Title'].isin(['Don', 'Sir', 'Capt', 'Col', 'Major', 'Master', 'Rev', 'Dr', 'Jonkheer']), 'Title'] = 'Mr'\n",
    "test.loc[test['Title'].isin(['Don', 'Sir', 'Capt', 'Col', 'Major', 'Master', 'Rev', 'Dr', 'Jonkheer']), 'Title'] = 'Mr'\n",
    "train['Title'].value_counts()"
   ]
  },
  {
   "cell_type": "code",
   "execution_count": 35,
   "metadata": {},
   "outputs": [
    {
     "data": {
      "text/plain": [
       "177"
      ]
     },
     "execution_count": 35,
     "metadata": {},
     "output_type": "execute_result"
    }
   ],
   "source": [
    "train.Age.isnull().sum()"
   ]
  },
  {
   "cell_type": "markdown",
   "metadata": {},
   "source": [
    "## 4. 기계학습을 통해 예측해서 대체하기\n",
    "* RandomForest로 예측하기"
   ]
  },
  {
   "cell_type": "code",
   "execution_count": 36,
   "metadata": {},
   "outputs": [],
   "source": [
    "train_groupby = train.copy()\n",
    "test_groupby = test.copy()"
   ]
  },
  {
   "cell_type": "code",
   "execution_count": 37,
   "metadata": {},
   "outputs": [],
   "source": [
    "train_groupby['Age'].fillna(train.groupby('Title')['Age'].transform('median'), inplace=True)\n",
    "test_groupby['Age'].fillna(test.groupby('Title')['Age'].transform('median'), inplace=True)"
   ]
  },
  {
   "cell_type": "code",
   "execution_count": 38,
   "metadata": {},
   "outputs": [
    {
     "name": "stdout",
     "output_type": "stream",
     "text": [
      "177\n",
      "0\n"
     ]
    }
   ],
   "source": [
    "print(train.Age.isnull().sum())\n",
    "print(train_groupby.Age.isnull().sum())"
   ]
  },
  {
   "cell_type": "code",
   "execution_count": 39,
   "metadata": {},
   "outputs": [],
   "source": [
    "train_rf = train.copy()\n",
    "test_rf = test.copy()"
   ]
  },
  {
   "cell_type": "code",
   "execution_count": 40,
   "metadata": {},
   "outputs": [
    {
     "data": {
      "text/html": [
       "<div>\n",
       "<style scoped>\n",
       "    .dataframe tbody tr th:only-of-type {\n",
       "        vertical-align: middle;\n",
       "    }\n",
       "\n",
       "    .dataframe tbody tr th {\n",
       "        vertical-align: top;\n",
       "    }\n",
       "\n",
       "    .dataframe thead th {\n",
       "        text-align: right;\n",
       "    }\n",
       "</style>\n",
       "<table border=\"1\" class=\"dataframe\">\n",
       "  <thead>\n",
       "    <tr style=\"text-align: right;\">\n",
       "      <th></th>\n",
       "      <th>PassengerId</th>\n",
       "      <th>Survived</th>\n",
       "      <th>Pclass</th>\n",
       "      <th>Name</th>\n",
       "      <th>Sex</th>\n",
       "      <th>Age</th>\n",
       "      <th>SibSp</th>\n",
       "      <th>Parch</th>\n",
       "      <th>Ticket</th>\n",
       "      <th>Fare</th>\n",
       "      <th>Cabin</th>\n",
       "      <th>Embarked</th>\n",
       "      <th>Title</th>\n",
       "    </tr>\n",
       "  </thead>\n",
       "  <tbody>\n",
       "    <tr>\n",
       "      <th>0</th>\n",
       "      <td>1</td>\n",
       "      <td>0</td>\n",
       "      <td>3</td>\n",
       "      <td>Braund, Mr. Owen Harris</td>\n",
       "      <td>male</td>\n",
       "      <td>22.0</td>\n",
       "      <td>1</td>\n",
       "      <td>0</td>\n",
       "      <td>A/5 21171</td>\n",
       "      <td>7.2500</td>\n",
       "      <td>NaN</td>\n",
       "      <td>S</td>\n",
       "      <td>Mr</td>\n",
       "    </tr>\n",
       "    <tr>\n",
       "      <th>1</th>\n",
       "      <td>2</td>\n",
       "      <td>1</td>\n",
       "      <td>1</td>\n",
       "      <td>Cumings, Mrs. John Bradley (Florence Briggs Th...</td>\n",
       "      <td>female</td>\n",
       "      <td>38.0</td>\n",
       "      <td>1</td>\n",
       "      <td>0</td>\n",
       "      <td>PC 17599</td>\n",
       "      <td>71.2833</td>\n",
       "      <td>C85</td>\n",
       "      <td>C</td>\n",
       "      <td>Mrs</td>\n",
       "    </tr>\n",
       "    <tr>\n",
       "      <th>2</th>\n",
       "      <td>3</td>\n",
       "      <td>1</td>\n",
       "      <td>3</td>\n",
       "      <td>Heikkinen, Miss. Laina</td>\n",
       "      <td>female</td>\n",
       "      <td>26.0</td>\n",
       "      <td>0</td>\n",
       "      <td>0</td>\n",
       "      <td>STON/O2. 3101282</td>\n",
       "      <td>7.9250</td>\n",
       "      <td>NaN</td>\n",
       "      <td>S</td>\n",
       "      <td>Miss</td>\n",
       "    </tr>\n",
       "    <tr>\n",
       "      <th>3</th>\n",
       "      <td>4</td>\n",
       "      <td>1</td>\n",
       "      <td>1</td>\n",
       "      <td>Futrelle, Mrs. Jacques Heath (Lily May Peel)</td>\n",
       "      <td>female</td>\n",
       "      <td>35.0</td>\n",
       "      <td>1</td>\n",
       "      <td>0</td>\n",
       "      <td>113803</td>\n",
       "      <td>53.1000</td>\n",
       "      <td>C123</td>\n",
       "      <td>S</td>\n",
       "      <td>Mrs</td>\n",
       "    </tr>\n",
       "    <tr>\n",
       "      <th>4</th>\n",
       "      <td>5</td>\n",
       "      <td>0</td>\n",
       "      <td>3</td>\n",
       "      <td>Allen, Mr. William Henry</td>\n",
       "      <td>male</td>\n",
       "      <td>35.0</td>\n",
       "      <td>0</td>\n",
       "      <td>0</td>\n",
       "      <td>373450</td>\n",
       "      <td>8.0500</td>\n",
       "      <td>NaN</td>\n",
       "      <td>S</td>\n",
       "      <td>Mr</td>\n",
       "    </tr>\n",
       "  </tbody>\n",
       "</table>\n",
       "</div>"
      ],
      "text/plain": [
       "   PassengerId  Survived  Pclass  \\\n",
       "0            1         0       3   \n",
       "1            2         1       1   \n",
       "2            3         1       3   \n",
       "3            4         1       1   \n",
       "4            5         0       3   \n",
       "\n",
       "                                                Name     Sex   Age  SibSp  \\\n",
       "0                            Braund, Mr. Owen Harris    male  22.0      1   \n",
       "1  Cumings, Mrs. John Bradley (Florence Briggs Th...  female  38.0      1   \n",
       "2                             Heikkinen, Miss. Laina  female  26.0      0   \n",
       "3       Futrelle, Mrs. Jacques Heath (Lily May Peel)  female  35.0      1   \n",
       "4                           Allen, Mr. William Henry    male  35.0      0   \n",
       "\n",
       "   Parch            Ticket     Fare Cabin Embarked Title  \n",
       "0      0         A/5 21171   7.2500   NaN        S    Mr  \n",
       "1      0          PC 17599  71.2833   C85        C   Mrs  \n",
       "2      0  STON/O2. 3101282   7.9250   NaN        S  Miss  \n",
       "3      0            113803  53.1000  C123        S   Mrs  \n",
       "4      0            373450   8.0500   NaN        S    Mr  "
      ]
     },
     "execution_count": 40,
     "metadata": {},
     "output_type": "execute_result"
    }
   ],
   "source": [
    "train_rf.head()"
   ]
  },
  {
   "cell_type": "code",
   "execution_count": 41,
   "metadata": {},
   "outputs": [
    {
     "name": "stdout",
     "output_type": "stream",
     "text": [
      "1     537\n",
      "2     161\n",
      "3     102\n",
      "4      29\n",
      "6      22\n",
      "5      15\n",
      "7      12\n",
      "11      7\n",
      "8       6\n",
      "Name: FamilySize, dtype: int64\n"
     ]
    }
   ],
   "source": [
    "train_rf['FamilySize'] = train_rf['SibSp'] + train_rf['Parch'] + 1\n",
    "test_rf['FamilySize'] = test_rf['SibSp'] + test_rf['Parch'] + 1\n",
    "print(train_rf['FamilySize'].value_counts())"
   ]
  },
  {
   "cell_type": "code",
   "execution_count": 42,
   "metadata": {},
   "outputs": [
    {
     "name": "stdout",
     "output_type": "stream",
     "text": [
      "['small' 'singleton' 'large']\n",
      "singleton    537\n",
      "small        292\n",
      "large         62\n",
      "Name: FsizeD, dtype: int64\n"
     ]
    }
   ],
   "source": [
    "train_rf.loc[train_rf['FamilySize'] == 1, 'FsizeD'] = 'singleton'\n",
    "train_rf.loc[(train_rf['FamilySize'] > 1)  &  (train_rf['FamilySize'] < 5) , 'FsizeD'] = 'small'\n",
    "train_rf.loc[train_rf['FamilySize'] > 4, 'FsizeD'] = 'large'\n",
    "\n",
    "test_rf.loc[test_rf['FamilySize'] == 1, 'FsizeD'] = 'singleton'\n",
    "test_rf.loc[(test_rf['FamilySize'] > 1) & (test_rf['FamilySize'] <5) , 'FsizeD'] = 'small'\n",
    "test_rf.loc[test_rf['FamilySize'] > 4, 'FsizeD'] = 'large'\n",
    "print(train_rf['FsizeD'].unique())\n",
    "print(train_rf['FsizeD'].value_counts())"
   ]
  },
  {
   "cell_type": "code",
   "execution_count": 43,
   "metadata": {},
   "outputs": [
    {
     "name": "stdout",
     "output_type": "stream",
     "text": [
      "[okay, good, short, long]\n",
      "Categories (4, object): [short < okay < good < long]\n"
     ]
    }
   ],
   "source": [
    "train_rf[\"NameLength\"] = train[\"Name\"].apply(lambda x: len(x))\n",
    "test_rf[\"NameLength\"] = test[\"Name\"].apply(lambda x: len(x))\n",
    "\n",
    "bins = [0, 20, 40, 57, 85]\n",
    "group_names = ['short', 'okay', 'good', 'long']\n",
    "train_rf['NlengthD'] = pd.cut(train_rf['NameLength'], bins, labels=group_names)\n",
    "test_rf['NlengthD'] = pd.cut(test_rf['NameLength'], bins, labels=group_names)\n",
    "\n",
    "print(train_rf[\"NlengthD\"].unique())"
   ]
  },
  {
   "cell_type": "code",
   "execution_count": 44,
   "metadata": {},
   "outputs": [
    {
     "data": {
      "text/plain": [
       "array([nan, 'C', 'E', 'G', 'D', 'A', 'B', 'F', 'T'], dtype=object)"
      ]
     },
     "execution_count": 44,
     "metadata": {},
     "output_type": "execute_result"
    }
   ],
   "source": [
    "train_rf['Deck'] = train_rf.Cabin.str[0]\n",
    "test_rf['Deck'] = test_rf.Cabin.str[0]\n",
    "train_rf['Deck'].unique() # 0 is for null values"
   ]
  },
  {
   "cell_type": "code",
   "execution_count": 45,
   "metadata": {},
   "outputs": [],
   "source": [
    "def dummy_data(data, columns):\n",
    "    for column in columns:\n",
    "        data = pd.concat([data, pd.get_dummies(data[column], prefix = column)], axis=1)\n",
    "        data = data.drop(column, axis=1)\n",
    "    return data\n",
    "\n",
    "def drop_data(data, columns):\n",
    "    for column in columns:\n",
    "        data = data.drop(column, axis=1)\n",
    "    return data"
   ]
  },
  {
   "cell_type": "code",
   "execution_count": 46,
   "metadata": {},
   "outputs": [],
   "source": [
    "dummy_columns = ['Sex', 'Pclass', 'Embarked', 'Title', 'FsizeD', 'NlengthD']\n",
    "\n",
    "train_rf = dummy_data(train_rf, dummy_columns)\n",
    "test_rf = dummy_data(test_rf, dummy_columns)\n",
    "\n",
    "drop_columns = ['Name', 'Ticket', 'Cabin', 'Fare', 'Deck', 'Parch', 'SibSp', 'FamilySize']\n",
    "train_rf = drop_data(train_rf, drop_columns)\n",
    "train_rf = train_rf.drop('Survived', axis=1)\n",
    "test_rf = drop_data(test_rf, drop_columns)"
   ]
  },
  {
   "cell_type": "code",
   "execution_count": 47,
   "metadata": {},
   "outputs": [
    {
     "data": {
      "text/plain": [
       "(891, 22)"
      ]
     },
     "execution_count": 47,
     "metadata": {},
     "output_type": "execute_result"
    }
   ],
   "source": [
    "train_rf.shape"
   ]
  },
  {
   "cell_type": "code",
   "execution_count": 48,
   "metadata": {},
   "outputs": [
    {
     "data": {
      "text/plain": [
       "(418, 22)"
      ]
     },
     "execution_count": 48,
     "metadata": {},
     "output_type": "execute_result"
    }
   ],
   "source": [
    "test_rf.shape"
   ]
  },
  {
   "cell_type": "code",
   "execution_count": 49,
   "metadata": {},
   "outputs": [
    {
     "data": {
      "text/plain": [
       "Index(['PassengerId', 'Age', 'NameLength', 'Sex_female', 'Sex_male',\n",
       "       'Pclass_1', 'Pclass_2', 'Pclass_3', 'Embarked_C', 'Embarked_Q',\n",
       "       'Embarked_S', 'Title_Miss', 'Title_Mr', 'Title_Mrs', 'Title_Ms',\n",
       "       'FsizeD_large', 'FsizeD_singleton', 'FsizeD_small', 'NlengthD_short',\n",
       "       'NlengthD_okay', 'NlengthD_good', 'NlengthD_long'],\n",
       "      dtype='object')"
      ]
     },
     "execution_count": 49,
     "metadata": {},
     "output_type": "execute_result"
    }
   ],
   "source": [
    "train_rf.columns"
   ]
  },
  {
   "cell_type": "code",
   "execution_count": 50,
   "metadata": {},
   "outputs": [],
   "source": [
    "train_array = np.array(train_rf.columns)\n",
    "test_array = np.array(test_rf.columns)"
   ]
  },
  {
   "cell_type": "code",
   "execution_count": 51,
   "metadata": {},
   "outputs": [
    {
     "data": {
      "text/plain": [
       "array([], dtype=object)"
      ]
     },
     "execution_count": 51,
     "metadata": {},
     "output_type": "execute_result"
    }
   ],
   "source": [
    "np.setdiff1d(train_array, test_array)"
   ]
  },
  {
   "cell_type": "code",
   "execution_count": 52,
   "metadata": {},
   "outputs": [
    {
     "name": "stdout",
     "output_type": "stream",
     "text": [
      "<class 'pandas.core.frame.DataFrame'>\n",
      "RangeIndex: 891 entries, 0 to 890\n",
      "Data columns (total 22 columns):\n",
      "PassengerId         891 non-null int64\n",
      "Age                 714 non-null float64\n",
      "NameLength          891 non-null int64\n",
      "Sex_female          891 non-null uint8\n",
      "Sex_male            891 non-null uint8\n",
      "Pclass_1            891 non-null uint8\n",
      "Pclass_2            891 non-null uint8\n",
      "Pclass_3            891 non-null uint8\n",
      "Embarked_C          891 non-null uint8\n",
      "Embarked_Q          891 non-null uint8\n",
      "Embarked_S          891 non-null uint8\n",
      "Title_Miss          891 non-null uint8\n",
      "Title_Mr            891 non-null uint8\n",
      "Title_Mrs           891 non-null uint8\n",
      "Title_Ms            891 non-null uint8\n",
      "FsizeD_large        891 non-null uint8\n",
      "FsizeD_singleton    891 non-null uint8\n",
      "FsizeD_small        891 non-null uint8\n",
      "NlengthD_short      891 non-null uint8\n",
      "NlengthD_okay       891 non-null uint8\n",
      "NlengthD_good       891 non-null uint8\n",
      "NlengthD_long       891 non-null uint8\n",
      "dtypes: float64(1), int64(2), uint8(19)\n",
      "memory usage: 37.5 KB\n"
     ]
    }
   ],
   "source": [
    "train_rf.info()"
   ]
  },
  {
   "cell_type": "code",
   "execution_count": 53,
   "metadata": {},
   "outputs": [
    {
     "data": {
      "text/plain": [
       "177"
      ]
     },
     "execution_count": 53,
     "metadata": {},
     "output_type": "execute_result"
    }
   ],
   "source": [
    "train_rf.Age.isnull().sum()"
   ]
  },
  {
   "cell_type": "code",
   "execution_count": 54,
   "metadata": {},
   "outputs": [
    {
     "data": {
      "text/plain": [
       "array([[1, 0, 3, ..., nan, 'S', 'Mr'],\n",
       "       [2, 1, 1, ..., 'C85', 'C', 'Mrs'],\n",
       "       [3, 1, 3, ..., nan, 'S', 'Miss'],\n",
       "       ...,\n",
       "       [889, 0, 3, ..., nan, 'S', 'Miss'],\n",
       "       [890, 1, 1, ..., 'C148', 'C', 'Mr'],\n",
       "       [891, 0, 3, ..., nan, 'Q', 'Mr']], dtype=object)"
      ]
     },
     "execution_count": 54,
     "metadata": {},
     "output_type": "execute_result"
    }
   ],
   "source": [
    "# 전체 데이터를 가져옴\n",
    "train.values[:,:]"
   ]
  },
  {
   "cell_type": "code",
   "execution_count": 55,
   "metadata": {},
   "outputs": [
    {
     "data": {
      "text/plain": [
       "array([[3, 'Braund, Mr. Owen Harris', 'male', ..., nan, 'S', 'Mr'],\n",
       "       [1, 'Cumings, Mrs. John Bradley (Florence Briggs Thayer)',\n",
       "        'female', ..., 'C85', 'C', 'Mrs'],\n",
       "       [3, 'Heikkinen, Miss. Laina', 'female', ..., nan, 'S', 'Miss'],\n",
       "       ...,\n",
       "       [3, 'Johnston, Miss. Catherine Helen \"Carrie\"', 'female', ...,\n",
       "        nan, 'S', 'Miss'],\n",
       "       [1, 'Behr, Mr. Karl Howell', 'male', ..., 'C148', 'C', 'Mr'],\n",
       "       [3, 'Dooley, Mr. Patrick', 'male', ..., nan, 'Q', 'Mr']],\n",
       "      dtype=object)"
      ]
     },
     "execution_count": 55,
     "metadata": {},
     "output_type": "execute_result"
    }
   ],
   "source": [
    "# 전체 데이터 중 컬럼은 2번째 값 이후부터 가져옴\n",
    "train.values[:, 2::]"
   ]
  },
  {
   "cell_type": "code",
   "execution_count": 56,
   "metadata": {},
   "outputs": [],
   "source": [
    "# https://www.kaggle.com/poonaml/titanic-survival-prediction-end-to-end-ml-pipeline\n",
    "from sklearn.ensemble import RandomForestRegressor\n",
    "\n",
    "def fill_missing_age(df):\n",
    "    \n",
    "    # Age값을 기준으로 학습과 테스트 세트로 분리\n",
    "    train  = df.loc[ (df.Age.notnull()) ]# Age 값이 있는 row \n",
    "    test = df.loc[ (df.Age.isnull()) ]# Age 값이 없는 row \n",
    "    \n",
    "    print(train.columns)\n",
    "    # Age Label 데이터\n",
    "    y = train['Age']\n",
    "    \n",
    "    # 피처를 생성해 준다.\n",
    "    train_X = train.values[:, 2::]\n",
    "    test_X = test.values[:, 2::]\n",
    "    \n",
    "    print(train_X.shape)\n",
    "    print(test_X.shape)\n",
    "    print(len(y))\n",
    "    \n",
    "    # 모델을 학습시킨다.\n",
    "    rtr = RandomForestRegressor(n_estimators=2000, n_jobs=-1)\n",
    "    rtr.fit(train_X, y)\n",
    "    \n",
    "    # 학습한 데이터를 바탕으로 결측치를 예측한다.\n",
    "    predictedAges = rtr.predict(test_X)\n",
    "    \n",
    "    # 예측한 값을 Age가 null 인 데이터에 채워준다. \n",
    "    df.loc[ (df.Age.isnull()), 'Age' ] = predictedAges \n",
    "    \n",
    "    return df"
   ]
  },
  {
   "cell_type": "code",
   "execution_count": 57,
   "metadata": {},
   "outputs": [
    {
     "data": {
      "text/html": [
       "<div>\n",
       "<style scoped>\n",
       "    .dataframe tbody tr th:only-of-type {\n",
       "        vertical-align: middle;\n",
       "    }\n",
       "\n",
       "    .dataframe tbody tr th {\n",
       "        vertical-align: top;\n",
       "    }\n",
       "\n",
       "    .dataframe thead th {\n",
       "        text-align: right;\n",
       "    }\n",
       "</style>\n",
       "<table border=\"1\" class=\"dataframe\">\n",
       "  <thead>\n",
       "    <tr style=\"text-align: right;\">\n",
       "      <th></th>\n",
       "      <th>PassengerId</th>\n",
       "      <th>Age</th>\n",
       "      <th>NameLength</th>\n",
       "      <th>Sex_female</th>\n",
       "      <th>Sex_male</th>\n",
       "      <th>Pclass_1</th>\n",
       "      <th>Pclass_2</th>\n",
       "      <th>Pclass_3</th>\n",
       "      <th>Embarked_C</th>\n",
       "      <th>Embarked_Q</th>\n",
       "      <th>...</th>\n",
       "      <th>Title_Mr</th>\n",
       "      <th>Title_Mrs</th>\n",
       "      <th>Title_Ms</th>\n",
       "      <th>FsizeD_large</th>\n",
       "      <th>FsizeD_singleton</th>\n",
       "      <th>FsizeD_small</th>\n",
       "      <th>NlengthD_short</th>\n",
       "      <th>NlengthD_okay</th>\n",
       "      <th>NlengthD_good</th>\n",
       "      <th>NlengthD_long</th>\n",
       "    </tr>\n",
       "  </thead>\n",
       "  <tbody>\n",
       "    <tr>\n",
       "      <th>0</th>\n",
       "      <td>1</td>\n",
       "      <td>22.0</td>\n",
       "      <td>23</td>\n",
       "      <td>0</td>\n",
       "      <td>1</td>\n",
       "      <td>0</td>\n",
       "      <td>0</td>\n",
       "      <td>1</td>\n",
       "      <td>0</td>\n",
       "      <td>0</td>\n",
       "      <td>...</td>\n",
       "      <td>1</td>\n",
       "      <td>0</td>\n",
       "      <td>0</td>\n",
       "      <td>0</td>\n",
       "      <td>0</td>\n",
       "      <td>1</td>\n",
       "      <td>0</td>\n",
       "      <td>1</td>\n",
       "      <td>0</td>\n",
       "      <td>0</td>\n",
       "    </tr>\n",
       "    <tr>\n",
       "      <th>1</th>\n",
       "      <td>2</td>\n",
       "      <td>38.0</td>\n",
       "      <td>51</td>\n",
       "      <td>1</td>\n",
       "      <td>0</td>\n",
       "      <td>1</td>\n",
       "      <td>0</td>\n",
       "      <td>0</td>\n",
       "      <td>1</td>\n",
       "      <td>0</td>\n",
       "      <td>...</td>\n",
       "      <td>0</td>\n",
       "      <td>1</td>\n",
       "      <td>0</td>\n",
       "      <td>0</td>\n",
       "      <td>0</td>\n",
       "      <td>1</td>\n",
       "      <td>0</td>\n",
       "      <td>0</td>\n",
       "      <td>1</td>\n",
       "      <td>0</td>\n",
       "    </tr>\n",
       "    <tr>\n",
       "      <th>2</th>\n",
       "      <td>3</td>\n",
       "      <td>26.0</td>\n",
       "      <td>22</td>\n",
       "      <td>1</td>\n",
       "      <td>0</td>\n",
       "      <td>0</td>\n",
       "      <td>0</td>\n",
       "      <td>1</td>\n",
       "      <td>0</td>\n",
       "      <td>0</td>\n",
       "      <td>...</td>\n",
       "      <td>0</td>\n",
       "      <td>0</td>\n",
       "      <td>0</td>\n",
       "      <td>0</td>\n",
       "      <td>1</td>\n",
       "      <td>0</td>\n",
       "      <td>0</td>\n",
       "      <td>1</td>\n",
       "      <td>0</td>\n",
       "      <td>0</td>\n",
       "    </tr>\n",
       "    <tr>\n",
       "      <th>3</th>\n",
       "      <td>4</td>\n",
       "      <td>35.0</td>\n",
       "      <td>44</td>\n",
       "      <td>1</td>\n",
       "      <td>0</td>\n",
       "      <td>1</td>\n",
       "      <td>0</td>\n",
       "      <td>0</td>\n",
       "      <td>0</td>\n",
       "      <td>0</td>\n",
       "      <td>...</td>\n",
       "      <td>0</td>\n",
       "      <td>1</td>\n",
       "      <td>0</td>\n",
       "      <td>0</td>\n",
       "      <td>0</td>\n",
       "      <td>1</td>\n",
       "      <td>0</td>\n",
       "      <td>0</td>\n",
       "      <td>1</td>\n",
       "      <td>0</td>\n",
       "    </tr>\n",
       "    <tr>\n",
       "      <th>4</th>\n",
       "      <td>5</td>\n",
       "      <td>35.0</td>\n",
       "      <td>24</td>\n",
       "      <td>0</td>\n",
       "      <td>1</td>\n",
       "      <td>0</td>\n",
       "      <td>0</td>\n",
       "      <td>1</td>\n",
       "      <td>0</td>\n",
       "      <td>0</td>\n",
       "      <td>...</td>\n",
       "      <td>1</td>\n",
       "      <td>0</td>\n",
       "      <td>0</td>\n",
       "      <td>0</td>\n",
       "      <td>1</td>\n",
       "      <td>0</td>\n",
       "      <td>0</td>\n",
       "      <td>1</td>\n",
       "      <td>0</td>\n",
       "      <td>0</td>\n",
       "    </tr>\n",
       "  </tbody>\n",
       "</table>\n",
       "<p>5 rows × 22 columns</p>\n",
       "</div>"
      ],
      "text/plain": [
       "   PassengerId   Age  NameLength  Sex_female  Sex_male  Pclass_1  Pclass_2  \\\n",
       "0            1  22.0          23           0         1         0         0   \n",
       "1            2  38.0          51           1         0         1         0   \n",
       "2            3  26.0          22           1         0         0         0   \n",
       "3            4  35.0          44           1         0         1         0   \n",
       "4            5  35.0          24           0         1         0         0   \n",
       "\n",
       "   Pclass_3  Embarked_C  Embarked_Q      ...        Title_Mr  Title_Mrs  \\\n",
       "0         1           0           0      ...               1          0   \n",
       "1         0           1           0      ...               0          1   \n",
       "2         1           0           0      ...               0          0   \n",
       "3         0           0           0      ...               0          1   \n",
       "4         1           0           0      ...               1          0   \n",
       "\n",
       "   Title_Ms  FsizeD_large  FsizeD_singleton  FsizeD_small  NlengthD_short  \\\n",
       "0         0             0                 0             1               0   \n",
       "1         0             0                 0             1               0   \n",
       "2         0             0                 1             0               0   \n",
       "3         0             0                 0             1               0   \n",
       "4         0             0                 1             0               0   \n",
       "\n",
       "   NlengthD_okay  NlengthD_good  NlengthD_long  \n",
       "0              1              0              0  \n",
       "1              0              1              0  \n",
       "2              1              0              0  \n",
       "3              0              1              0  \n",
       "4              1              0              0  \n",
       "\n",
       "[5 rows x 22 columns]"
      ]
     },
     "execution_count": 57,
     "metadata": {},
     "output_type": "execute_result"
    }
   ],
   "source": [
    "train_rf.head()"
   ]
  },
  {
   "cell_type": "code",
   "execution_count": 58,
   "metadata": {},
   "outputs": [
    {
     "name": "stdout",
     "output_type": "stream",
     "text": [
      "Index(['PassengerId', 'Age', 'NameLength', 'Sex_female', 'Sex_male',\n",
      "       'Pclass_1', 'Pclass_2', 'Pclass_3', 'Embarked_C', 'Embarked_Q',\n",
      "       'Embarked_S', 'Title_Miss', 'Title_Mr', 'Title_Mrs', 'Title_Ms',\n",
      "       'FsizeD_large', 'FsizeD_singleton', 'FsizeD_small', 'NlengthD_short',\n",
      "       'NlengthD_okay', 'NlengthD_good', 'NlengthD_long'],\n",
      "      dtype='object')\n",
      "(714, 20)\n",
      "(177, 20)\n",
      "714\n"
     ]
    }
   ],
   "source": [
    "train_rf = fill_missing_age(train_rf)"
   ]
  },
  {
   "cell_type": "code",
   "execution_count": 59,
   "metadata": {},
   "outputs": [
    {
     "name": "stdout",
     "output_type": "stream",
     "text": [
      "Index(['PassengerId', 'Age', 'NameLength', 'Sex_female', 'Sex_male',\n",
      "       'Pclass_1', 'Pclass_2', 'Pclass_3', 'Embarked_C', 'Embarked_Q',\n",
      "       'Embarked_S', 'Title_Miss', 'Title_Mr', 'Title_Mrs', 'Title_Ms',\n",
      "       'FsizeD_large', 'FsizeD_singleton', 'FsizeD_small', 'NlengthD_short',\n",
      "       'NlengthD_okay', 'NlengthD_good', 'NlengthD_long'],\n",
      "      dtype='object')\n",
      "(332, 20)\n",
      "(86, 20)\n",
      "332\n"
     ]
    }
   ],
   "source": [
    "test_rf = fill_missing_age(test_rf)"
   ]
  },
  {
   "cell_type": "code",
   "execution_count": 60,
   "metadata": {},
   "outputs": [
    {
     "data": {
      "text/plain": [
       "0"
      ]
     },
     "execution_count": 60,
     "metadata": {},
     "output_type": "execute_result"
    }
   ],
   "source": [
    "train_rf.Age.isnull().sum()"
   ]
  },
  {
   "cell_type": "code",
   "execution_count": 61,
   "metadata": {},
   "outputs": [
    {
     "data": {
      "text/plain": [
       "array([[<matplotlib.axes._subplots.AxesSubplot object at 0x000000000B267AC8>]],\n",
       "      dtype=object)"
      ]
     },
     "execution_count": 61,
     "metadata": {},
     "output_type": "execute_result"
    },
    {
     "name": "stderr",
     "output_type": "stream",
     "text": [
      "C:\\Users\\home\\Anaconda3\\lib\\site-packages\\matplotlib\\font_manager.py:1328: UserWarning: findfont: Font family ['HYnamM'] not found. Falling back to DejaVu Sans\n",
      "  (prop.get_family(), self.defaultFamily[fontext]))\n",
      "C:\\Users\\home\\Anaconda3\\lib\\site-packages\\matplotlib\\font_manager.py:1328: UserWarning: findfont: Font family ['HYnamM'] not found. Falling back to DejaVu Sans\n",
      "  (prop.get_family(), self.defaultFamily[fontext]))\n",
      "C:\\Users\\home\\Anaconda3\\lib\\site-packages\\matplotlib\\font_manager.py:1328: UserWarning: findfont: Font family ['HYnamM'] not found. Falling back to DejaVu Sans\n",
      "  (prop.get_family(), self.defaultFamily[fontext]))\n",
      "C:\\Users\\home\\Anaconda3\\lib\\site-packages\\matplotlib\\font_manager.py:1328: UserWarning: findfont: Font family ['HYnamM'] not found. Falling back to DejaVu Sans\n",
      "  (prop.get_family(), self.defaultFamily[fontext]))\n",
      "C:\\Users\\home\\Anaconda3\\lib\\site-packages\\matplotlib\\font_manager.py:1328: UserWarning: findfont: Font family ['HYnamM'] not found. Falling back to DejaVu Sans\n",
      "  (prop.get_family(), self.defaultFamily[fontext]))\n",
      "C:\\Users\\home\\Anaconda3\\lib\\site-packages\\matplotlib\\font_manager.py:1328: UserWarning: findfont: Font family ['HYnamM'] not found. Falling back to DejaVu Sans\n",
      "  (prop.get_family(), self.defaultFamily[fontext]))\n",
      "C:\\Users\\home\\Anaconda3\\lib\\site-packages\\matplotlib\\font_manager.py:1328: UserWarning: findfont: Font family ['HYnamM'] not found. Falling back to DejaVu Sans\n",
      "  (prop.get_family(), self.defaultFamily[fontext]))\n",
      "C:\\Users\\home\\Anaconda3\\lib\\site-packages\\matplotlib\\font_manager.py:1328: UserWarning: findfont: Font family ['HYnamM'] not found. Falling back to DejaVu Sans\n",
      "  (prop.get_family(), self.defaultFamily[fontext]))\n",
      "C:\\Users\\home\\Anaconda3\\lib\\site-packages\\matplotlib\\font_manager.py:1328: UserWarning: findfont: Font family ['HYnamM'] not found. Falling back to DejaVu Sans\n",
      "  (prop.get_family(), self.defaultFamily[fontext]))\n",
      "C:\\Users\\home\\Anaconda3\\lib\\site-packages\\matplotlib\\font_manager.py:1328: UserWarning: findfont: Font family ['HYnamM'] not found. Falling back to DejaVu Sans\n",
      "  (prop.get_family(), self.defaultFamily[fontext]))\n",
      "C:\\Users\\home\\Anaconda3\\lib\\site-packages\\matplotlib\\font_manager.py:1328: UserWarning: findfont: Font family ['HYnamM'] not found. Falling back to DejaVu Sans\n",
      "  (prop.get_family(), self.defaultFamily[fontext]))\n",
      "C:\\Users\\home\\Anaconda3\\lib\\site-packages\\matplotlib\\font_manager.py:1328: UserWarning: findfont: Font family ['HYnamM'] not found. Falling back to DejaVu Sans\n",
      "  (prop.get_family(), self.defaultFamily[fontext]))\n",
      "C:\\Users\\home\\Anaconda3\\lib\\site-packages\\matplotlib\\font_manager.py:1328: UserWarning: findfont: Font family ['HYnamM'] not found. Falling back to DejaVu Sans\n",
      "  (prop.get_family(), self.defaultFamily[fontext]))\n",
      "C:\\Users\\home\\Anaconda3\\lib\\site-packages\\matplotlib\\font_manager.py:1328: UserWarning: findfont: Font family ['HYnamM'] not found. Falling back to DejaVu Sans\n",
      "  (prop.get_family(), self.defaultFamily[fontext]))\n",
      "C:\\Users\\home\\Anaconda3\\lib\\site-packages\\matplotlib\\font_manager.py:1328: UserWarning: findfont: Font family ['HYnamM'] not found. Falling back to DejaVu Sans\n",
      "  (prop.get_family(), self.defaultFamily[fontext]))\n",
      "C:\\Users\\home\\Anaconda3\\lib\\site-packages\\matplotlib\\font_manager.py:1328: UserWarning: findfont: Font family ['HYnamM'] not found. Falling back to DejaVu Sans\n",
      "  (prop.get_family(), self.defaultFamily[fontext]))\n",
      "C:\\Users\\home\\Anaconda3\\lib\\site-packages\\matplotlib\\font_manager.py:1328: UserWarning: findfont: Font family ['HYnamM'] not found. Falling back to DejaVu Sans\n",
      "  (prop.get_family(), self.defaultFamily[fontext]))\n",
      "C:\\Users\\home\\Anaconda3\\lib\\site-packages\\matplotlib\\font_manager.py:1328: UserWarning: findfont: Font family ['HYnamM'] not found. Falling back to DejaVu Sans\n",
      "  (prop.get_family(), self.defaultFamily[fontext]))\n",
      "C:\\Users\\home\\Anaconda3\\lib\\site-packages\\matplotlib\\font_manager.py:1328: UserWarning: findfont: Font family ['HYnamM'] not found. Falling back to DejaVu Sans\n",
      "  (prop.get_family(), self.defaultFamily[fontext]))\n",
      "C:\\Users\\home\\Anaconda3\\lib\\site-packages\\matplotlib\\font_manager.py:1328: UserWarning: findfont: Font family ['HYnamM'] not found. Falling back to DejaVu Sans\n",
      "  (prop.get_family(), self.defaultFamily[fontext]))\n",
      "C:\\Users\\home\\Anaconda3\\lib\\site-packages\\matplotlib\\font_manager.py:1328: UserWarning: findfont: Font family ['HYnamM'] not found. Falling back to DejaVu Sans\n",
      "  (prop.get_family(), self.defaultFamily[fontext]))\n",
      "C:\\Users\\home\\Anaconda3\\lib\\site-packages\\matplotlib\\font_manager.py:1328: UserWarning: findfont: Font family ['HYnamM'] not found. Falling back to DejaVu Sans\n",
      "  (prop.get_family(), self.defaultFamily[fontext]))\n",
      "C:\\Users\\home\\Anaconda3\\lib\\site-packages\\matplotlib\\font_manager.py:1328: UserWarning: findfont: Font family ['HYnamM'] not found. Falling back to DejaVu Sans\n",
      "  (prop.get_family(), self.defaultFamily[fontext]))\n",
      "C:\\Users\\home\\Anaconda3\\lib\\site-packages\\matplotlib\\font_manager.py:1328: UserWarning: findfont: Font family ['HYnamM'] not found. Falling back to DejaVu Sans\n",
      "  (prop.get_family(), self.defaultFamily[fontext]))\n",
      "C:\\Users\\home\\Anaconda3\\lib\\site-packages\\matplotlib\\font_manager.py:1328: UserWarning: findfont: Font family ['HYnamM'] not found. Falling back to DejaVu Sans\n",
      "  (prop.get_family(), self.defaultFamily[fontext]))\n",
      "C:\\Users\\home\\Anaconda3\\lib\\site-packages\\matplotlib\\font_manager.py:1328: UserWarning: findfont: Font family ['HYnamM'] not found. Falling back to DejaVu Sans\n",
      "  (prop.get_family(), self.defaultFamily[fontext]))\n",
      "C:\\Users\\home\\Anaconda3\\lib\\site-packages\\matplotlib\\font_manager.py:1328: UserWarning: findfont: Font family ['HYnamM'] not found. Falling back to DejaVu Sans\n",
      "  (prop.get_family(), self.defaultFamily[fontext]))\n",
      "C:\\Users\\home\\Anaconda3\\lib\\site-packages\\matplotlib\\font_manager.py:1328: UserWarning: findfont: Font family ['HYnamM'] not found. Falling back to DejaVu Sans\n",
      "  (prop.get_family(), self.defaultFamily[fontext]))\n",
      "C:\\Users\\home\\Anaconda3\\lib\\site-packages\\matplotlib\\font_manager.py:1328: UserWarning: findfont: Font family ['HYnamM'] not found. Falling back to DejaVu Sans\n",
      "  (prop.get_family(), self.defaultFamily[fontext]))\n",
      "C:\\Users\\home\\Anaconda3\\lib\\site-packages\\matplotlib\\font_manager.py:1328: UserWarning: findfont: Font family ['HYnamM'] not found. Falling back to DejaVu Sans\n",
      "  (prop.get_family(), self.defaultFamily[fontext]))\n",
      "C:\\Users\\home\\Anaconda3\\lib\\site-packages\\matplotlib\\font_manager.py:1328: UserWarning: findfont: Font family ['HYnamM'] not found. Falling back to DejaVu Sans\n",
      "  (prop.get_family(), self.defaultFamily[fontext]))\n",
      "C:\\Users\\home\\Anaconda3\\lib\\site-packages\\matplotlib\\font_manager.py:1328: UserWarning: findfont: Font family ['HYnamM'] not found. Falling back to DejaVu Sans\n",
      "  (prop.get_family(), self.defaultFamily[fontext]))\n",
      "C:\\Users\\home\\Anaconda3\\lib\\site-packages\\matplotlib\\font_manager.py:1328: UserWarning: findfont: Font family ['HYnamM'] not found. Falling back to DejaVu Sans\n",
      "  (prop.get_family(), self.defaultFamily[fontext]))\n",
      "C:\\Users\\home\\Anaconda3\\lib\\site-packages\\matplotlib\\font_manager.py:1328: UserWarning: findfont: Font family ['HYnamM'] not found. Falling back to DejaVu Sans\n",
      "  (prop.get_family(), self.defaultFamily[fontext]))\n",
      "C:\\Users\\home\\Anaconda3\\lib\\site-packages\\matplotlib\\font_manager.py:1328: UserWarning: findfont: Font family ['HYnamM'] not found. Falling back to DejaVu Sans\n",
      "  (prop.get_family(), self.defaultFamily[fontext]))\n",
      "C:\\Users\\home\\Anaconda3\\lib\\site-packages\\matplotlib\\font_manager.py:1328: UserWarning: findfont: Font family ['HYnamM'] not found. Falling back to DejaVu Sans\n",
      "  (prop.get_family(), self.defaultFamily[fontext]))\n",
      "C:\\Users\\home\\Anaconda3\\lib\\site-packages\\matplotlib\\font_manager.py:1328: UserWarning: findfont: Font family ['HYnamM'] not found. Falling back to DejaVu Sans\n",
      "  (prop.get_family(), self.defaultFamily[fontext]))\n",
      "C:\\Users\\home\\Anaconda3\\lib\\site-packages\\matplotlib\\font_manager.py:1328: UserWarning: findfont: Font family ['HYnamM'] not found. Falling back to DejaVu Sans\n",
      "  (prop.get_family(), self.defaultFamily[fontext]))\n",
      "C:\\Users\\home\\Anaconda3\\lib\\site-packages\\matplotlib\\font_manager.py:1328: UserWarning: findfont: Font family ['HYnamM'] not found. Falling back to DejaVu Sans\n",
      "  (prop.get_family(), self.defaultFamily[fontext]))\n",
      "C:\\Users\\home\\Anaconda3\\lib\\site-packages\\matplotlib\\font_manager.py:1328: UserWarning: findfont: Font family ['HYnamM'] not found. Falling back to DejaVu Sans\n",
      "  (prop.get_family(), self.defaultFamily[fontext]))\n",
      "C:\\Users\\home\\Anaconda3\\lib\\site-packages\\matplotlib\\font_manager.py:1328: UserWarning: findfont: Font family ['HYnamM'] not found. Falling back to DejaVu Sans\n",
      "  (prop.get_family(), self.defaultFamily[fontext]))\n",
      "C:\\Users\\home\\Anaconda3\\lib\\site-packages\\matplotlib\\font_manager.py:1328: UserWarning: findfont: Font family ['HYnamM'] not found. Falling back to DejaVu Sans\n",
      "  (prop.get_family(), self.defaultFamily[fontext]))\n"
     ]
    },
    {
     "name": "stderr",
     "output_type": "stream",
     "text": [
      "C:\\Users\\home\\Anaconda3\\lib\\site-packages\\matplotlib\\font_manager.py:1328: UserWarning: findfont: Font family ['HYnamM'] not found. Falling back to DejaVu Sans\n",
      "  (prop.get_family(), self.defaultFamily[fontext]))\n",
      "C:\\Users\\home\\Anaconda3\\lib\\site-packages\\matplotlib\\font_manager.py:1328: UserWarning: findfont: Font family ['HYnamM'] not found. Falling back to DejaVu Sans\n",
      "  (prop.get_family(), self.defaultFamily[fontext]))\n",
      "C:\\Users\\home\\Anaconda3\\lib\\site-packages\\matplotlib\\font_manager.py:1328: UserWarning: findfont: Font family ['HYnamM'] not found. Falling back to DejaVu Sans\n",
      "  (prop.get_family(), self.defaultFamily[fontext]))\n",
      "C:\\Users\\home\\Anaconda3\\lib\\site-packages\\matplotlib\\font_manager.py:1328: UserWarning: findfont: Font family ['HYnamM'] not found. Falling back to DejaVu Sans\n",
      "  (prop.get_family(), self.defaultFamily[fontext]))\n",
      "C:\\Users\\home\\Anaconda3\\lib\\site-packages\\matplotlib\\font_manager.py:1328: UserWarning: findfont: Font family ['HYnamM'] not found. Falling back to DejaVu Sans\n",
      "  (prop.get_family(), self.defaultFamily[fontext]))\n",
      "C:\\Users\\home\\Anaconda3\\lib\\site-packages\\matplotlib\\font_manager.py:1328: UserWarning: findfont: Font family ['HYnamM'] not found. Falling back to DejaVu Sans\n",
      "  (prop.get_family(), self.defaultFamily[fontext]))\n",
      "C:\\Users\\home\\Anaconda3\\lib\\site-packages\\matplotlib\\font_manager.py:1328: UserWarning: findfont: Font family ['HYnamM'] not found. Falling back to DejaVu Sans\n",
      "  (prop.get_family(), self.defaultFamily[fontext]))\n",
      "C:\\Users\\home\\Anaconda3\\lib\\site-packages\\matplotlib\\font_manager.py:1328: UserWarning: findfont: Font family ['HYnamM'] not found. Falling back to DejaVu Sans\n",
      "  (prop.get_family(), self.defaultFamily[fontext]))\n",
      "C:\\Users\\home\\Anaconda3\\lib\\site-packages\\matplotlib\\font_manager.py:1328: UserWarning: findfont: Font family ['HYnamM'] not found. Falling back to DejaVu Sans\n",
      "  (prop.get_family(), self.defaultFamily[fontext]))\n",
      "C:\\Users\\home\\Anaconda3\\lib\\site-packages\\matplotlib\\font_manager.py:1328: UserWarning: findfont: Font family ['HYnamM'] not found. Falling back to DejaVu Sans\n",
      "  (prop.get_family(), self.defaultFamily[fontext]))\n",
      "C:\\Users\\home\\Anaconda3\\lib\\site-packages\\matplotlib\\font_manager.py:1328: UserWarning: findfont: Font family ['HYnamM'] not found. Falling back to DejaVu Sans\n",
      "  (prop.get_family(), self.defaultFamily[fontext]))\n",
      "C:\\Users\\home\\Anaconda3\\lib\\site-packages\\matplotlib\\font_manager.py:1328: UserWarning: findfont: Font family ['HYnamM'] not found. Falling back to DejaVu Sans\n",
      "  (prop.get_family(), self.defaultFamily[fontext]))\n",
      "C:\\Users\\home\\Anaconda3\\lib\\site-packages\\matplotlib\\font_manager.py:1328: UserWarning: findfont: Font family ['HYnamM'] not found. Falling back to DejaVu Sans\n",
      "  (prop.get_family(), self.defaultFamily[fontext]))\n",
      "C:\\Users\\home\\Anaconda3\\lib\\site-packages\\matplotlib\\font_manager.py:1328: UserWarning: findfont: Font family ['HYnamM'] not found. Falling back to DejaVu Sans\n",
      "  (prop.get_family(), self.defaultFamily[fontext]))\n",
      "C:\\Users\\home\\Anaconda3\\lib\\site-packages\\matplotlib\\font_manager.py:1328: UserWarning: findfont: Font family ['HYnamM'] not found. Falling back to DejaVu Sans\n",
      "  (prop.get_family(), self.defaultFamily[fontext]))\n",
      "C:\\Users\\home\\Anaconda3\\lib\\site-packages\\matplotlib\\font_manager.py:1328: UserWarning: findfont: Font family ['HYnamM'] not found. Falling back to DejaVu Sans\n",
      "  (prop.get_family(), self.defaultFamily[fontext]))\n",
      "C:\\Users\\home\\Anaconda3\\lib\\site-packages\\matplotlib\\font_manager.py:1328: UserWarning: findfont: Font family ['HYnamM'] not found. Falling back to DejaVu Sans\n",
      "  (prop.get_family(), self.defaultFamily[fontext]))\n",
      "C:\\Users\\home\\Anaconda3\\lib\\site-packages\\matplotlib\\font_manager.py:1328: UserWarning: findfont: Font family ['HYnamM'] not found. Falling back to DejaVu Sans\n",
      "  (prop.get_family(), self.defaultFamily[fontext]))\n",
      "C:\\Users\\home\\Anaconda3\\lib\\site-packages\\matplotlib\\font_manager.py:1328: UserWarning: findfont: Font family ['HYnamM'] not found. Falling back to DejaVu Sans\n",
      "  (prop.get_family(), self.defaultFamily[fontext]))\n",
      "C:\\Users\\home\\Anaconda3\\lib\\site-packages\\matplotlib\\font_manager.py:1328: UserWarning: findfont: Font family ['HYnamM'] not found. Falling back to DejaVu Sans\n",
      "  (prop.get_family(), self.defaultFamily[fontext]))\n",
      "C:\\Users\\home\\Anaconda3\\lib\\site-packages\\matplotlib\\font_manager.py:1328: UserWarning: findfont: Font family ['HYnamM'] not found. Falling back to DejaVu Sans\n",
      "  (prop.get_family(), self.defaultFamily[fontext]))\n",
      "C:\\Users\\home\\Anaconda3\\lib\\site-packages\\matplotlib\\font_manager.py:1328: UserWarning: findfont: Font family ['HYnamM'] not found. Falling back to DejaVu Sans\n",
      "  (prop.get_family(), self.defaultFamily[fontext]))\n",
      "C:\\Users\\home\\Anaconda3\\lib\\site-packages\\matplotlib\\font_manager.py:1328: UserWarning: findfont: Font family ['HYnamM'] not found. Falling back to DejaVu Sans\n",
      "  (prop.get_family(), self.defaultFamily[fontext]))\n",
      "C:\\Users\\home\\Anaconda3\\lib\\site-packages\\matplotlib\\font_manager.py:1328: UserWarning: findfont: Font family ['HYnamM'] not found. Falling back to DejaVu Sans\n",
      "  (prop.get_family(), self.defaultFamily[fontext]))\n",
      "C:\\Users\\home\\Anaconda3\\lib\\site-packages\\matplotlib\\font_manager.py:1328: UserWarning: findfont: Font family ['HYnamM'] not found. Falling back to DejaVu Sans\n",
      "  (prop.get_family(), self.defaultFamily[fontext]))\n",
      "C:\\Users\\home\\Anaconda3\\lib\\site-packages\\matplotlib\\font_manager.py:1328: UserWarning: findfont: Font family ['HYnamM'] not found. Falling back to DejaVu Sans\n",
      "  (prop.get_family(), self.defaultFamily[fontext]))\n",
      "C:\\Users\\home\\Anaconda3\\lib\\site-packages\\matplotlib\\font_manager.py:1328: UserWarning: findfont: Font family ['HYnamM'] not found. Falling back to DejaVu Sans\n",
      "  (prop.get_family(), self.defaultFamily[fontext]))\n",
      "C:\\Users\\home\\Anaconda3\\lib\\site-packages\\matplotlib\\font_manager.py:1328: UserWarning: findfont: Font family ['HYnamM'] not found. Falling back to DejaVu Sans\n",
      "  (prop.get_family(), self.defaultFamily[fontext]))\n",
      "C:\\Users\\home\\Anaconda3\\lib\\site-packages\\matplotlib\\font_manager.py:1328: UserWarning: findfont: Font family ['HYnamM'] not found. Falling back to DejaVu Sans\n",
      "  (prop.get_family(), self.defaultFamily[fontext]))\n",
      "C:\\Users\\home\\Anaconda3\\lib\\site-packages\\matplotlib\\font_manager.py:1328: UserWarning: findfont: Font family ['HYnamM'] not found. Falling back to DejaVu Sans\n",
      "  (prop.get_family(), self.defaultFamily[fontext]))\n",
      "C:\\Users\\home\\Anaconda3\\lib\\site-packages\\matplotlib\\font_manager.py:1328: UserWarning: findfont: Font family ['HYnamM'] not found. Falling back to DejaVu Sans\n",
      "  (prop.get_family(), self.defaultFamily[fontext]))\n",
      "C:\\Users\\home\\Anaconda3\\lib\\site-packages\\matplotlib\\font_manager.py:1328: UserWarning: findfont: Font family ['HYnamM'] not found. Falling back to DejaVu Sans\n",
      "  (prop.get_family(), self.defaultFamily[fontext]))\n",
      "C:\\Users\\home\\Anaconda3\\lib\\site-packages\\matplotlib\\font_manager.py:1328: UserWarning: findfont: Font family ['HYnamM'] not found. Falling back to DejaVu Sans\n",
      "  (prop.get_family(), self.defaultFamily[fontext]))\n",
      "C:\\Users\\home\\Anaconda3\\lib\\site-packages\\matplotlib\\font_manager.py:1328: UserWarning: findfont: Font family ['HYnamM'] not found. Falling back to DejaVu Sans\n",
      "  (prop.get_family(), self.defaultFamily[fontext]))\n",
      "C:\\Users\\home\\Anaconda3\\lib\\site-packages\\matplotlib\\font_manager.py:1328: UserWarning: findfont: Font family ['HYnamM'] not found. Falling back to DejaVu Sans\n",
      "  (prop.get_family(), self.defaultFamily[fontext]))\n",
      "C:\\Users\\home\\Anaconda3\\lib\\site-packages\\matplotlib\\font_manager.py:1328: UserWarning: findfont: Font family ['HYnamM'] not found. Falling back to DejaVu Sans\n",
      "  (prop.get_family(), self.defaultFamily[fontext]))\n",
      "C:\\Users\\home\\Anaconda3\\lib\\site-packages\\matplotlib\\font_manager.py:1328: UserWarning: findfont: Font family ['HYnamM'] not found. Falling back to DejaVu Sans\n",
      "  (prop.get_family(), self.defaultFamily[fontext]))\n",
      "C:\\Users\\home\\Anaconda3\\lib\\site-packages\\matplotlib\\font_manager.py:1328: UserWarning: findfont: Font family ['HYnamM'] not found. Falling back to DejaVu Sans\n",
      "  (prop.get_family(), self.defaultFamily[fontext]))\n",
      "C:\\Users\\home\\Anaconda3\\lib\\site-packages\\matplotlib\\font_manager.py:1328: UserWarning: findfont: Font family ['HYnamM'] not found. Falling back to DejaVu Sans\n",
      "  (prop.get_family(), self.defaultFamily[fontext]))\n"
     ]
    },
    {
     "name": "stderr",
     "output_type": "stream",
     "text": [
      "C:\\Users\\home\\Anaconda3\\lib\\site-packages\\matplotlib\\font_manager.py:1328: UserWarning: findfont: Font family ['HYnamM'] not found. Falling back to DejaVu Sans\n",
      "  (prop.get_family(), self.defaultFamily[fontext]))\n",
      "C:\\Users\\home\\Anaconda3\\lib\\site-packages\\matplotlib\\font_manager.py:1328: UserWarning: findfont: Font family ['HYnamM'] not found. Falling back to DejaVu Sans\n",
      "  (prop.get_family(), self.defaultFamily[fontext]))\n",
      "C:\\Users\\home\\Anaconda3\\lib\\site-packages\\matplotlib\\font_manager.py:1328: UserWarning: findfont: Font family ['HYnamM'] not found. Falling back to DejaVu Sans\n",
      "  (prop.get_family(), self.defaultFamily[fontext]))\n",
      "C:\\Users\\home\\Anaconda3\\lib\\site-packages\\matplotlib\\font_manager.py:1328: UserWarning: findfont: Font family ['HYnamM'] not found. Falling back to DejaVu Sans\n",
      "  (prop.get_family(), self.defaultFamily[fontext]))\n",
      "C:\\Users\\home\\Anaconda3\\lib\\site-packages\\matplotlib\\font_manager.py:1328: UserWarning: findfont: Font family ['HYnamM'] not found. Falling back to DejaVu Sans\n",
      "  (prop.get_family(), self.defaultFamily[fontext]))\n",
      "C:\\Users\\home\\Anaconda3\\lib\\site-packages\\matplotlib\\font_manager.py:1328: UserWarning: findfont: Font family ['HYnamM'] not found. Falling back to DejaVu Sans\n",
      "  (prop.get_family(), self.defaultFamily[fontext]))\n",
      "C:\\Users\\home\\Anaconda3\\lib\\site-packages\\matplotlib\\font_manager.py:1328: UserWarning: findfont: Font family ['HYnamM'] not found. Falling back to DejaVu Sans\n",
      "  (prop.get_family(), self.defaultFamily[fontext]))\n",
      "C:\\Users\\home\\Anaconda3\\lib\\site-packages\\matplotlib\\font_manager.py:1328: UserWarning: findfont: Font family ['HYnamM'] not found. Falling back to DejaVu Sans\n",
      "  (prop.get_family(), self.defaultFamily[fontext]))\n",
      "C:\\Users\\home\\Anaconda3\\lib\\site-packages\\matplotlib\\font_manager.py:1328: UserWarning: findfont: Font family ['HYnamM'] not found. Falling back to DejaVu Sans\n",
      "  (prop.get_family(), self.defaultFamily[fontext]))\n",
      "C:\\Users\\home\\Anaconda3\\lib\\site-packages\\matplotlib\\font_manager.py:1328: UserWarning: findfont: Font family ['HYnamM'] not found. Falling back to DejaVu Sans\n",
      "  (prop.get_family(), self.defaultFamily[fontext]))\n",
      "C:\\Users\\home\\Anaconda3\\lib\\site-packages\\matplotlib\\font_manager.py:1328: UserWarning: findfont: Font family ['HYnamM'] not found. Falling back to DejaVu Sans\n",
      "  (prop.get_family(), self.defaultFamily[fontext]))\n",
      "C:\\Users\\home\\Anaconda3\\lib\\site-packages\\matplotlib\\font_manager.py:1328: UserWarning: findfont: Font family ['HYnamM'] not found. Falling back to DejaVu Sans\n",
      "  (prop.get_family(), self.defaultFamily[fontext]))\n",
      "C:\\Users\\home\\Anaconda3\\lib\\site-packages\\matplotlib\\font_manager.py:1328: UserWarning: findfont: Font family ['HYnamM'] not found. Falling back to DejaVu Sans\n",
      "  (prop.get_family(), self.defaultFamily[fontext]))\n",
      "C:\\Users\\home\\Anaconda3\\lib\\site-packages\\matplotlib\\font_manager.py:1328: UserWarning: findfont: Font family ['HYnamM'] not found. Falling back to DejaVu Sans\n",
      "  (prop.get_family(), self.defaultFamily[fontext]))\n",
      "C:\\Users\\home\\Anaconda3\\lib\\site-packages\\matplotlib\\font_manager.py:1328: UserWarning: findfont: Font family ['HYnamM'] not found. Falling back to DejaVu Sans\n",
      "  (prop.get_family(), self.defaultFamily[fontext]))\n",
      "C:\\Users\\home\\Anaconda3\\lib\\site-packages\\matplotlib\\font_manager.py:1328: UserWarning: findfont: Font family ['HYnamM'] not found. Falling back to DejaVu Sans\n",
      "  (prop.get_family(), self.defaultFamily[fontext]))\n",
      "C:\\Users\\home\\Anaconda3\\lib\\site-packages\\matplotlib\\font_manager.py:1328: UserWarning: findfont: Font family ['HYnamM'] not found. Falling back to DejaVu Sans\n",
      "  (prop.get_family(), self.defaultFamily[fontext]))\n",
      "C:\\Users\\home\\Anaconda3\\lib\\site-packages\\matplotlib\\font_manager.py:1328: UserWarning: findfont: Font family ['HYnamM'] not found. Falling back to DejaVu Sans\n",
      "  (prop.get_family(), self.defaultFamily[fontext]))\n",
      "C:\\Users\\home\\Anaconda3\\lib\\site-packages\\matplotlib\\font_manager.py:1328: UserWarning: findfont: Font family ['HYnamM'] not found. Falling back to DejaVu Sans\n",
      "  (prop.get_family(), self.defaultFamily[fontext]))\n",
      "C:\\Users\\home\\Anaconda3\\lib\\site-packages\\matplotlib\\font_manager.py:1328: UserWarning: findfont: Font family ['HYnamM'] not found. Falling back to DejaVu Sans\n",
      "  (prop.get_family(), self.defaultFamily[fontext]))\n",
      "C:\\Users\\home\\Anaconda3\\lib\\site-packages\\matplotlib\\font_manager.py:1328: UserWarning: findfont: Font family ['HYnamM'] not found. Falling back to DejaVu Sans\n",
      "  (prop.get_family(), self.defaultFamily[fontext]))\n",
      "C:\\Users\\home\\Anaconda3\\lib\\site-packages\\matplotlib\\font_manager.py:1328: UserWarning: findfont: Font family ['HYnamM'] not found. Falling back to DejaVu Sans\n",
      "  (prop.get_family(), self.defaultFamily[fontext]))\n",
      "C:\\Users\\home\\Anaconda3\\lib\\site-packages\\matplotlib\\font_manager.py:1328: UserWarning: findfont: Font family ['HYnamM'] not found. Falling back to DejaVu Sans\n",
      "  (prop.get_family(), self.defaultFamily[fontext]))\n",
      "C:\\Users\\home\\Anaconda3\\lib\\site-packages\\matplotlib\\font_manager.py:1328: UserWarning: findfont: Font family ['HYnamM'] not found. Falling back to DejaVu Sans\n",
      "  (prop.get_family(), self.defaultFamily[fontext]))\n"
     ]
    },
    {
     "data": {
      "image/png": "[encoded data removed]",
      "text/plain": [
       "<Figure size 432x288 with 1 Axes>"
      ]
     },
     "metadata": {},
     "output_type": "display_data"
    }
   ],
   "source": [
    "train_rf.hist('Age')"
   ]
  },
  {
   "cell_type": "markdown",
   "metadata": {},
   "source": [
    "참고 : \n",
    "* https://www.kaggle.com/ldfreeman3/a-data-science-framework-to-achieve-99-accuracy\n",
    "* https://www.kaggle.com/poonaml/titanic-survival-prediction-end-to-end-ml-pipeline"
   ]
  },
  {
   "cell_type": "code",
   "execution_count": 62,
   "metadata": {},
   "outputs": [
    {
     "data": {
      "text/plain": [
       "Index(['PassengerId', 'Survived', 'Pclass', 'Name', 'Sex', 'Age', 'SibSp',\n",
       "       'Parch', 'Ticket', 'Fare', 'Cabin', 'Embarked', 'Title'],\n",
       "      dtype='object')"
      ]
     },
     "execution_count": 62,
     "metadata": {},
     "output_type": "execute_result"
    }
   ],
   "source": [
    "train.columns"
   ]
  },
  {
   "cell_type": "code",
   "execution_count": 63,
   "metadata": {},
   "outputs": [
    {
     "data": {
      "text/plain": [
       "Index(['PassengerId', 'Age', 'NameLength', 'Sex_female', 'Sex_male',\n",
       "       'Pclass_1', 'Pclass_2', 'Pclass_3', 'Embarked_C', 'Embarked_Q',\n",
       "       'Embarked_S', 'Title_Miss', 'Title_Mr', 'Title_Mrs', 'Title_Ms',\n",
       "       'FsizeD_large', 'FsizeD_singleton', 'FsizeD_small', 'NlengthD_short',\n",
       "       'NlengthD_okay', 'NlengthD_good', 'NlengthD_long'],\n",
       "      dtype='object')"
      ]
     },
     "execution_count": 63,
     "metadata": {},
     "output_type": "execute_result"
    }
   ],
   "source": [
    "train_rf.columns"
   ]
  },
  {
   "cell_type": "code",
   "execution_count": 64,
   "metadata": {},
   "outputs": [],
   "source": [
    "X_train = train_rf\n",
    "X_test = test_rf\n",
    "y_label = train['Survived']"
   ]
  },
  {
   "cell_type": "code",
   "execution_count": 65,
   "metadata": {},
   "outputs": [
    {
     "data": {
      "text/plain": [
       "(891, 22)"
      ]
     },
     "execution_count": 65,
     "metadata": {},
     "output_type": "execute_result"
    }
   ],
   "source": [
    "X_train.shape"
   ]
  },
  {
   "cell_type": "code",
   "execution_count": 66,
   "metadata": {},
   "outputs": [
    {
     "data": {
      "text/plain": [
       "(891,)"
      ]
     },
     "execution_count": 66,
     "metadata": {},
     "output_type": "execute_result"
    }
   ],
   "source": [
    "y_label.shape"
   ]
  },
  {
   "cell_type": "markdown",
   "metadata": {},
   "source": [
    "## DT로 예측하기 "
   ]
  },
  {
   "cell_type": "code",
   "execution_count": 67,
   "metadata": {},
   "outputs": [
    {
     "data": {
      "text/plain": [
       "DecisionTreeClassifier(class_weight=None, criterion='gini', max_depth=5,\n",
       "            max_features=None, max_leaf_nodes=None,\n",
       "            min_impurity_decrease=0.0, min_impurity_split=None,\n",
       "            min_samples_leaf=1, min_samples_split=2,\n",
       "            min_weight_fraction_leaf=0.0, presort=False, random_state=2018,\n",
       "            splitter='best')"
      ]
     },
     "execution_count": 67,
     "metadata": {},
     "output_type": "execute_result"
    }
   ],
   "source": [
    "from sklearn.tree import DecisionTreeClassifier\n",
    "\n",
    "dt = DecisionTreeClassifier(max_depth=5, random_state=2018)\n",
    "dt"
   ]
  },
  {
   "cell_type": "code",
   "execution_count": 68,
   "metadata": {},
   "outputs": [
    {
     "data": {
      "text/plain": [
       "DecisionTreeClassifier(class_weight=None, criterion='gini', max_depth=5,\n",
       "            max_features=None, max_leaf_nodes=None,\n",
       "            min_impurity_decrease=0.0, min_impurity_split=None,\n",
       "            min_samples_leaf=1, min_samples_split=2,\n",
       "            min_weight_fraction_leaf=0.0, presort=False, random_state=2018,\n",
       "            splitter='best')"
      ]
     },
     "execution_count": 68,
     "metadata": {},
     "output_type": "execute_result"
    }
   ],
   "source": [
    "dt.fit(X_train, y_label)"
   ]
  },
  {
   "cell_type": "code",
   "execution_count": 69,
   "metadata": {},
   "outputs": [],
   "source": [
    "from sklearn.model_selection import KFold, cross_val_score\n",
    "k_fold = KFold(n_splits=10, shuffle=True, random_state=2018)"
   ]
  },
  {
   "cell_type": "code",
   "execution_count": 70,
   "metadata": {},
   "outputs": [
    {
     "name": "stdout",
     "output_type": "stream",
     "text": [
      "[0.78888889 0.82022472 0.87640449 0.84269663 0.76404494 0.70786517\n",
      " 0.79775281 0.7752809  0.76404494 0.78651685]\n"
     ]
    }
   ],
   "source": [
    "scoring = 'accuracy'\n",
    "dt_score = cross_val_score(dt, X_train, y_label, cv=k_fold, n_jobs=-1, scoring=scoring)\n",
    "print(dt_score)"
   ]
  },
  {
   "cell_type": "code",
   "execution_count": 71,
   "metadata": {},
   "outputs": [
    {
     "data": {
      "text/plain": [
       "79.24"
      ]
     },
     "execution_count": 71,
     "metadata": {},
     "output_type": "execute_result"
    }
   ],
   "source": [
    "round(np.mean(dt_score)*100, 2)"
   ]
  },
  {
   "cell_type": "code",
   "execution_count": 72,
   "metadata": {},
   "outputs": [],
   "source": [
    "prediction = dt.predict(X_test)"
   ]
  },
  {
   "cell_type": "code",
   "execution_count": 73,
   "metadata": {},
   "outputs": [],
   "source": [
    "test['Survived'] = prediction"
   ]
  },
  {
   "cell_type": "code",
   "execution_count": 74,
   "metadata": {},
   "outputs": [
    {
     "data": {
      "text/html": [
       "<div>\n",
       "<style scoped>\n",
       "    .dataframe tbody tr th:only-of-type {\n",
       "        vertical-align: middle;\n",
       "    }\n",
       "\n",
       "    .dataframe tbody tr th {\n",
       "        vertical-align: top;\n",
       "    }\n",
       "\n",
       "    .dataframe thead th {\n",
       "        text-align: right;\n",
       "    }\n",
       "</style>\n",
       "<table border=\"1\" class=\"dataframe\">\n",
       "  <thead>\n",
       "    <tr style=\"text-align: right;\">\n",
       "      <th></th>\n",
       "      <th>PassengerId</th>\n",
       "      <th>Survived</th>\n",
       "    </tr>\n",
       "  </thead>\n",
       "  <tbody>\n",
       "    <tr>\n",
       "      <th>0</th>\n",
       "      <td>892</td>\n",
       "      <td>0</td>\n",
       "    </tr>\n",
       "    <tr>\n",
       "      <th>1</th>\n",
       "      <td>893</td>\n",
       "      <td>0</td>\n",
       "    </tr>\n",
       "    <tr>\n",
       "      <th>2</th>\n",
       "      <td>894</td>\n",
       "      <td>0</td>\n",
       "    </tr>\n",
       "    <tr>\n",
       "      <th>3</th>\n",
       "      <td>895</td>\n",
       "      <td>0</td>\n",
       "    </tr>\n",
       "    <tr>\n",
       "      <th>4</th>\n",
       "      <td>896</td>\n",
       "      <td>1</td>\n",
       "    </tr>\n",
       "  </tbody>\n",
       "</table>\n",
       "</div>"
      ],
      "text/plain": [
       "   PassengerId  Survived\n",
       "0          892         0\n",
       "1          893         0\n",
       "2          894         0\n",
       "3          895         0\n",
       "4          896         1"
      ]
     },
     "execution_count": 74,
     "metadata": {},
     "output_type": "execute_result"
    }
   ],
   "source": [
    "dt_submissions = test[['PassengerId', 'Survived']]\n",
    "dt_submissions.head()"
   ]
  },
  {
   "cell_type": "code",
   "execution_count": 76,
   "metadata": {},
   "outputs": [],
   "source": [
    "dt_submissions.to_csv('submit_age_rf_df.csv', index=False)"
   ]
  },
  {
   "cell_type": "markdown",
   "metadata": {},
   "source": [
    "### RF로 예측하기"
   ]
  },
  {
   "cell_type": "code",
   "execution_count": 77,
   "metadata": {},
   "outputs": [
    {
     "name": "stdout",
     "output_type": "stream",
     "text": [
      "Wall time: 5.68 s\n"
     ]
    },
    {
     "data": {
      "text/plain": [
       "RandomForestClassifier(bootstrap=True, class_weight=None, criterion='gini',\n",
       "            max_depth=None, max_features='auto', max_leaf_nodes=None,\n",
       "            min_impurity_decrease=0.0, min_impurity_split=None,\n",
       "            min_samples_leaf=1, min_samples_split=2,\n",
       "            min_weight_fraction_leaf=0.0, n_estimators=1000, n_jobs=-1,\n",
       "            oob_score=False, random_state=None, verbose=0,\n",
       "            warm_start=False)"
      ]
     },
     "execution_count": 77,
     "metadata": {},
     "output_type": "execute_result"
    }
   ],
   "source": [
    "from sklearn.ensemble import RandomForestClassifier\n",
    "\n",
    "rfc = RandomForestClassifier(n_estimators=1000, n_jobs=-1)\n",
    "%time rfc.fit(X_train, y_label)"
   ]
  },
  {
   "cell_type": "code",
   "execution_count": 78,
   "metadata": {},
   "outputs": [
    {
     "name": "stdout",
     "output_type": "stream",
     "text": [
      "Wall time: 959 ms\n"
     ]
    },
    {
     "data": {
      "text/html": [
       "<div>\n",
       "<style scoped>\n",
       "    .dataframe tbody tr th:only-of-type {\n",
       "        vertical-align: middle;\n",
       "    }\n",
       "\n",
       "    .dataframe tbody tr th {\n",
       "        vertical-align: top;\n",
       "    }\n",
       "\n",
       "    .dataframe thead th {\n",
       "        text-align: right;\n",
       "    }\n",
       "</style>\n",
       "<table border=\"1\" class=\"dataframe\">\n",
       "  <thead>\n",
       "    <tr style=\"text-align: right;\">\n",
       "      <th></th>\n",
       "      <th>PassengerId</th>\n",
       "      <th>Survived</th>\n",
       "    </tr>\n",
       "  </thead>\n",
       "  <tbody>\n",
       "    <tr>\n",
       "      <th>0</th>\n",
       "      <td>892</td>\n",
       "      <td>0</td>\n",
       "    </tr>\n",
       "    <tr>\n",
       "      <th>1</th>\n",
       "      <td>893</td>\n",
       "      <td>0</td>\n",
       "    </tr>\n",
       "    <tr>\n",
       "      <th>2</th>\n",
       "      <td>894</td>\n",
       "      <td>0</td>\n",
       "    </tr>\n",
       "    <tr>\n",
       "      <th>3</th>\n",
       "      <td>895</td>\n",
       "      <td>0</td>\n",
       "    </tr>\n",
       "    <tr>\n",
       "      <th>4</th>\n",
       "      <td>896</td>\n",
       "      <td>0</td>\n",
       "    </tr>\n",
       "  </tbody>\n",
       "</table>\n",
       "</div>"
      ],
      "text/plain": [
       "   PassengerId  Survived\n",
       "0          892         0\n",
       "1          893         0\n",
       "2          894         0\n",
       "3          895         0\n",
       "4          896         0"
      ]
     },
     "execution_count": 78,
     "metadata": {},
     "output_type": "execute_result"
    }
   ],
   "source": [
    "# 학습한 데이터를 바탕으로 결측치를 예측한다.\n",
    "%time rfc_predictions = rfc.predict(X_test)\n",
    "test['Survived'] = rfc_predictions\n",
    "rfc_submissions = test[['PassengerId', 'Survived']]\n",
    "rfc_submissions.head()"
   ]
  },
  {
   "cell_type": "code",
   "execution_count": 79,
   "metadata": {},
   "outputs": [
    {
     "name": "stdout",
     "output_type": "stream",
     "text": [
      "[0.8        0.85393258 0.86516854 0.87640449 0.84269663 0.76404494\n",
      " 0.84269663 0.80898876 0.71910112 0.78651685]\n"
     ]
    }
   ],
   "source": [
    "scoring = 'accuracy'\n",
    "rfc_score = cross_val_score(rfc, X_train, y_label, cv=k_fold, n_jobs=-1, scoring=scoring)\n",
    "print(rfc_score)"
   ]
  },
  {
   "cell_type": "code",
   "execution_count": 80,
   "metadata": {},
   "outputs": [],
   "source": [
    "rfc_score_mean = round(np.mean(rfc_score) * 100, 2)"
   ]
  },
  {
   "cell_type": "code",
   "execution_count": 82,
   "metadata": {},
   "outputs": [],
   "source": [
    "rfc_submissions.to_csv('submit_age_rf_rfc_{}.csv'.format(rfc_score_mean), index=False)"
   ]
  },
  {
   "cell_type": "code",
   "execution_count": null,
   "metadata": {},
   "outputs": [],
   "source": []
  }
 ],
 "metadata": {
  "kernelspec": {
   "display_name": "Python 3",
   "language": "python",
   "name": "python3"
  },
  "language_info": {
   "codemirror_mode": {
    "name": "ipython",
    "version": 3
   },
   "file_extension": ".py",
   "mimetype": "text/x-python",
   "name": "python",
   "nbconvert_exporter": "python",
   "pygments_lexer": "ipython3",
   "version": "3.6.5"
  }
 },
 "nbformat": 4,
 "nbformat_minor": 2
}
