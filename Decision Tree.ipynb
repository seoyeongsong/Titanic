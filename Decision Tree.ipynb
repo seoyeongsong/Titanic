{
 "cells": [
  {
   "cell_type": "code",
   "execution_count": 2,
   "metadata": {},
   "outputs": [],
   "source": [
    "import pandas as pd\n",
    "import numpy as np\n",
    "from plotnine import *"
   ]
  },
  {
   "cell_type": "code",
   "execution_count": 5,
   "metadata": {},
   "outputs": [
    {
     "data": {
      "text/plain": [
       "(891, 12)"
      ]
     },
     "execution_count": 5,
     "metadata": {},
     "output_type": "execute_result"
    }
   ],
   "source": [
    "train = pd.read_csv('data/train.csv', encoding='euc-kr')\n",
    "test = pd.read_csv('data/test.csv', encoding='euc-kr')\n",
    "train.shape"
   ]
  },
  {
   "cell_type": "code",
   "execution_count": 4,
   "metadata": {},
   "outputs": [
    {
     "data": {
      "text/plain": [
       "(418, 11)"
      ]
     },
     "execution_count": 4,
     "metadata": {},
     "output_type": "execute_result"
    }
   ],
   "source": [
    "test.shape"
   ]
  },
  {
   "cell_type": "code",
   "execution_count": 6,
   "metadata": {
    "scrolled": true
   },
   "outputs": [
    {
     "data": {
      "text/html": [
       "<div>\n",
       "<style scoped>\n",
       "    .dataframe tbody tr th:only-of-type {\n",
       "        vertical-align: middle;\n",
       "    }\n",
       "\n",
       "    .dataframe tbody tr th {\n",
       "        vertical-align: top;\n",
       "    }\n",
       "\n",
       "    .dataframe thead th {\n",
       "        text-align: right;\n",
       "    }\n",
       "</style>\n",
       "<table border=\"1\" class=\"dataframe\">\n",
       "  <thead>\n",
       "    <tr style=\"text-align: right;\">\n",
       "      <th></th>\n",
       "      <th>PassengerId</th>\n",
       "      <th>Survived</th>\n",
       "      <th>Pclass</th>\n",
       "      <th>Name</th>\n",
       "      <th>Sex</th>\n",
       "      <th>Age</th>\n",
       "      <th>SibSp</th>\n",
       "      <th>Parch</th>\n",
       "      <th>Ticket</th>\n",
       "      <th>Fare</th>\n",
       "      <th>Cabin</th>\n",
       "      <th>Embarked</th>\n",
       "    </tr>\n",
       "  </thead>\n",
       "  <tbody>\n",
       "    <tr>\n",
       "      <th>0</th>\n",
       "      <td>1</td>\n",
       "      <td>0</td>\n",
       "      <td>3</td>\n",
       "      <td>Braund, Mr. Owen Harris</td>\n",
       "      <td>male</td>\n",
       "      <td>22.0</td>\n",
       "      <td>1</td>\n",
       "      <td>0</td>\n",
       "      <td>A/5 21171</td>\n",
       "      <td>7.2500</td>\n",
       "      <td>NaN</td>\n",
       "      <td>S</td>\n",
       "    </tr>\n",
       "    <tr>\n",
       "      <th>1</th>\n",
       "      <td>2</td>\n",
       "      <td>1</td>\n",
       "      <td>1</td>\n",
       "      <td>Cumings, Mrs. John Bradley (Florence Briggs Th...</td>\n",
       "      <td>female</td>\n",
       "      <td>38.0</td>\n",
       "      <td>1</td>\n",
       "      <td>0</td>\n",
       "      <td>PC 17599</td>\n",
       "      <td>71.2833</td>\n",
       "      <td>C85</td>\n",
       "      <td>C</td>\n",
       "    </tr>\n",
       "    <tr>\n",
       "      <th>2</th>\n",
       "      <td>3</td>\n",
       "      <td>1</td>\n",
       "      <td>3</td>\n",
       "      <td>Heikkinen, Miss. Laina</td>\n",
       "      <td>female</td>\n",
       "      <td>26.0</td>\n",
       "      <td>0</td>\n",
       "      <td>0</td>\n",
       "      <td>STON/O2. 3101282</td>\n",
       "      <td>7.9250</td>\n",
       "      <td>NaN</td>\n",
       "      <td>S</td>\n",
       "    </tr>\n",
       "    <tr>\n",
       "      <th>3</th>\n",
       "      <td>4</td>\n",
       "      <td>1</td>\n",
       "      <td>1</td>\n",
       "      <td>Futrelle, Mrs. Jacques Heath (Lily May Peel)</td>\n",
       "      <td>female</td>\n",
       "      <td>35.0</td>\n",
       "      <td>1</td>\n",
       "      <td>0</td>\n",
       "      <td>113803</td>\n",
       "      <td>53.1000</td>\n",
       "      <td>C123</td>\n",
       "      <td>S</td>\n",
       "    </tr>\n",
       "    <tr>\n",
       "      <th>4</th>\n",
       "      <td>5</td>\n",
       "      <td>0</td>\n",
       "      <td>3</td>\n",
       "      <td>Allen, Mr. William Henry</td>\n",
       "      <td>male</td>\n",
       "      <td>35.0</td>\n",
       "      <td>0</td>\n",
       "      <td>0</td>\n",
       "      <td>373450</td>\n",
       "      <td>8.0500</td>\n",
       "      <td>NaN</td>\n",
       "      <td>S</td>\n",
       "    </tr>\n",
       "  </tbody>\n",
       "</table>\n",
       "</div>"
      ],
      "text/plain": [
       "   PassengerId  Survived  Pclass  \\\n",
       "0            1         0       3   \n",
       "1            2         1       1   \n",
       "2            3         1       3   \n",
       "3            4         1       1   \n",
       "4            5         0       3   \n",
       "\n",
       "                                                Name     Sex   Age  SibSp  \\\n",
       "0                            Braund, Mr. Owen Harris    male  22.0      1   \n",
       "1  Cumings, Mrs. John Bradley (Florence Briggs Th...  female  38.0      1   \n",
       "2                             Heikkinen, Miss. Laina  female  26.0      0   \n",
       "3       Futrelle, Mrs. Jacques Heath (Lily May Peel)  female  35.0      1   \n",
       "4                           Allen, Mr. William Henry    male  35.0      0   \n",
       "\n",
       "   Parch            Ticket     Fare Cabin Embarked  \n",
       "0      0         A/5 21171   7.2500   NaN        S  \n",
       "1      0          PC 17599  71.2833   C85        C  \n",
       "2      0  STON/O2. 3101282   7.9250   NaN        S  \n",
       "3      0            113803  53.1000  C123        S  \n",
       "4      0            373450   8.0500   NaN        S  "
      ]
     },
     "execution_count": 6,
     "metadata": {},
     "output_type": "execute_result"
    }
   ],
   "source": [
    "train.head()"
   ]
  },
  {
   "cell_type": "code",
   "execution_count": 7,
   "metadata": {},
   "outputs": [
    {
     "name": "stdout",
     "output_type": "stream",
     "text": [
      "<class 'pandas.core.frame.DataFrame'>\n",
      "RangeIndex: 891 entries, 0 to 890\n",
      "Data columns (total 12 columns):\n",
      "PassengerId    891 non-null int64\n",
      "Survived       891 non-null int64\n",
      "Pclass         891 non-null int64\n",
      "Name           891 non-null object\n",
      "Sex            891 non-null object\n",
      "Age            714 non-null float64\n",
      "SibSp          891 non-null int64\n",
      "Parch          891 non-null int64\n",
      "Ticket         891 non-null object\n",
      "Fare           891 non-null float64\n",
      "Cabin          204 non-null object\n",
      "Embarked       889 non-null object\n",
      "dtypes: float64(2), int64(5), object(5)\n",
      "memory usage: 83.6+ KB\n"
     ]
    }
   ],
   "source": [
    "train.info()"
   ]
  },
  {
   "cell_type": "code",
   "execution_count": 8,
   "metadata": {},
   "outputs": [
    {
     "data": {
      "text/html": [
       "<div>\n",
       "<style scoped>\n",
       "    .dataframe tbody tr th:only-of-type {\n",
       "        vertical-align: middle;\n",
       "    }\n",
       "\n",
       "    .dataframe tbody tr th {\n",
       "        vertical-align: top;\n",
       "    }\n",
       "\n",
       "    .dataframe thead th {\n",
       "        text-align: right;\n",
       "    }\n",
       "</style>\n",
       "<table border=\"1\" class=\"dataframe\">\n",
       "  <thead>\n",
       "    <tr style=\"text-align: right;\">\n",
       "      <th></th>\n",
       "      <th>PassengerId</th>\n",
       "      <th>Survived</th>\n",
       "      <th>Pclass</th>\n",
       "      <th>Age</th>\n",
       "      <th>SibSp</th>\n",
       "      <th>Parch</th>\n",
       "      <th>Fare</th>\n",
       "    </tr>\n",
       "  </thead>\n",
       "  <tbody>\n",
       "    <tr>\n",
       "      <th>count</th>\n",
       "      <td>891.000000</td>\n",
       "      <td>891.000000</td>\n",
       "      <td>891.000000</td>\n",
       "      <td>714.000000</td>\n",
       "      <td>891.000000</td>\n",
       "      <td>891.000000</td>\n",
       "      <td>891.000000</td>\n",
       "    </tr>\n",
       "    <tr>\n",
       "      <th>mean</th>\n",
       "      <td>446.000000</td>\n",
       "      <td>0.383838</td>\n",
       "      <td>2.308642</td>\n",
       "      <td>29.699118</td>\n",
       "      <td>0.523008</td>\n",
       "      <td>0.381594</td>\n",
       "      <td>32.204208</td>\n",
       "    </tr>\n",
       "    <tr>\n",
       "      <th>std</th>\n",
       "      <td>257.353842</td>\n",
       "      <td>0.486592</td>\n",
       "      <td>0.836071</td>\n",
       "      <td>14.526497</td>\n",
       "      <td>1.102743</td>\n",
       "      <td>0.806057</td>\n",
       "      <td>49.693429</td>\n",
       "    </tr>\n",
       "    <tr>\n",
       "      <th>min</th>\n",
       "      <td>1.000000</td>\n",
       "      <td>0.000000</td>\n",
       "      <td>1.000000</td>\n",
       "      <td>0.420000</td>\n",
       "      <td>0.000000</td>\n",
       "      <td>0.000000</td>\n",
       "      <td>0.000000</td>\n",
       "    </tr>\n",
       "    <tr>\n",
       "      <th>25%</th>\n",
       "      <td>223.500000</td>\n",
       "      <td>0.000000</td>\n",
       "      <td>2.000000</td>\n",
       "      <td>20.125000</td>\n",
       "      <td>0.000000</td>\n",
       "      <td>0.000000</td>\n",
       "      <td>7.910400</td>\n",
       "    </tr>\n",
       "    <tr>\n",
       "      <th>50%</th>\n",
       "      <td>446.000000</td>\n",
       "      <td>0.000000</td>\n",
       "      <td>3.000000</td>\n",
       "      <td>28.000000</td>\n",
       "      <td>0.000000</td>\n",
       "      <td>0.000000</td>\n",
       "      <td>14.454200</td>\n",
       "    </tr>\n",
       "    <tr>\n",
       "      <th>75%</th>\n",
       "      <td>668.500000</td>\n",
       "      <td>1.000000</td>\n",
       "      <td>3.000000</td>\n",
       "      <td>38.000000</td>\n",
       "      <td>1.000000</td>\n",
       "      <td>0.000000</td>\n",
       "      <td>31.000000</td>\n",
       "    </tr>\n",
       "    <tr>\n",
       "      <th>max</th>\n",
       "      <td>891.000000</td>\n",
       "      <td>1.000000</td>\n",
       "      <td>3.000000</td>\n",
       "      <td>80.000000</td>\n",
       "      <td>8.000000</td>\n",
       "      <td>6.000000</td>\n",
       "      <td>512.329200</td>\n",
       "    </tr>\n",
       "  </tbody>\n",
       "</table>\n",
       "</div>"
      ],
      "text/plain": [
       "       PassengerId    Survived      Pclass         Age       SibSp  \\\n",
       "count   891.000000  891.000000  891.000000  714.000000  891.000000   \n",
       "mean    446.000000    0.383838    2.308642   29.699118    0.523008   \n",
       "std     257.353842    0.486592    0.836071   14.526497    1.102743   \n",
       "min       1.000000    0.000000    1.000000    0.420000    0.000000   \n",
       "25%     223.500000    0.000000    2.000000   20.125000    0.000000   \n",
       "50%     446.000000    0.000000    3.000000   28.000000    0.000000   \n",
       "75%     668.500000    1.000000    3.000000   38.000000    1.000000   \n",
       "max     891.000000    1.000000    3.000000   80.000000    8.000000   \n",
       "\n",
       "            Parch        Fare  \n",
       "count  891.000000  891.000000  \n",
       "mean     0.381594   32.204208  \n",
       "std      0.806057   49.693429  \n",
       "min      0.000000    0.000000  \n",
       "25%      0.000000    7.910400  \n",
       "50%      0.000000   14.454200  \n",
       "75%      0.000000   31.000000  \n",
       "max      6.000000  512.329200  "
      ]
     },
     "execution_count": 8,
     "metadata": {},
     "output_type": "execute_result"
    }
   ],
   "source": [
    "train.describe()"
   ]
  },
  {
   "cell_type": "code",
   "execution_count": 23,
   "metadata": {},
   "outputs": [
    {
     "data": {
      "text/plain": [
       "PassengerId      0\n",
       "Survived         0\n",
       "Pclass           0\n",
       "Name             0\n",
       "Sex              0\n",
       "Age            177\n",
       "SibSp            0\n",
       "Parch            0\n",
       "Ticket           0\n",
       "Fare             0\n",
       "Cabin          687\n",
       "Embarked         2\n",
       "Age_mean         0\n",
       "dtype: int64"
      ]
     },
     "execution_count": 23,
     "metadata": {},
     "output_type": "execute_result"
    }
   ],
   "source": [
    "train.isnull().sum()\n",
    "# Age와 Cabin의 경우 결측치가 많아 처리하여야 합니다."
   ]
  },
  {
   "cell_type": "code",
   "execution_count": 17,
   "metadata": {},
   "outputs": [],
   "source": [
    "train['Age_mean'] = train['Age']"
   ]
  },
  {
   "cell_type": "code",
   "execution_count": 20,
   "metadata": {},
   "outputs": [],
   "source": [
    "test['Age_mean'] = test['Age']"
   ]
  },
  {
   "cell_type": "code",
   "execution_count": 18,
   "metadata": {},
   "outputs": [],
   "source": [
    "train['Age_mean'].fillna(train['Age'].mean(), inplace=True)"
   ]
  },
  {
   "cell_type": "code",
   "execution_count": 21,
   "metadata": {},
   "outputs": [],
   "source": [
    "test['Age_mean'].fillna(test['Age'].mean(), inplace=True)"
   ]
  },
  {
   "cell_type": "code",
   "execution_count": 19,
   "metadata": {},
   "outputs": [
    {
     "data": {
      "text/plain": [
       "29.699117647058763"
      ]
     },
     "execution_count": 19,
     "metadata": {},
     "output_type": "execute_result"
    }
   ],
   "source": [
    "train['Age_mean'].mean()"
   ]
  },
  {
   "cell_type": "code",
   "execution_count": 22,
   "metadata": {},
   "outputs": [
    {
     "data": {
      "text/plain": [
       "30.272590361445815"
      ]
     },
     "execution_count": 22,
     "metadata": {},
     "output_type": "execute_result"
    }
   ],
   "source": [
    "test['Age_mean'].mean()"
   ]
  },
  {
   "cell_type": "markdown",
   "metadata": {},
   "source": [
    "## One-hot-Encoding"
   ]
  },
  {
   "cell_type": "code",
   "execution_count": 24,
   "metadata": {},
   "outputs": [
    {
     "data": {
      "text/plain": [
       "male      577\n",
       "female    314\n",
       "Name: Sex, dtype: int64"
      ]
     },
     "execution_count": 24,
     "metadata": {},
     "output_type": "execute_result"
    }
   ],
   "source": [
    "train['Sex'].value_counts()"
   ]
  },
  {
   "cell_type": "code",
   "execution_count": 25,
   "metadata": {},
   "outputs": [],
   "source": [
    "train['Gender'] = (train['Sex'] == 'female')"
   ]
  },
  {
   "cell_type": "code",
   "execution_count": 26,
   "metadata": {},
   "outputs": [
    {
     "data": {
      "text/plain": [
       "0      False\n",
       "1       True\n",
       "2       True\n",
       "3       True\n",
       "4      False\n",
       "5      False\n",
       "6      False\n",
       "7      False\n",
       "8       True\n",
       "9       True\n",
       "10      True\n",
       "11      True\n",
       "12     False\n",
       "13     False\n",
       "14      True\n",
       "15      True\n",
       "16     False\n",
       "17     False\n",
       "18      True\n",
       "19      True\n",
       "20     False\n",
       "21     False\n",
       "22      True\n",
       "23     False\n",
       "24      True\n",
       "25      True\n",
       "26     False\n",
       "27     False\n",
       "28      True\n",
       "29     False\n",
       "       ...  \n",
       "861    False\n",
       "862     True\n",
       "863     True\n",
       "864    False\n",
       "865     True\n",
       "866     True\n",
       "867    False\n",
       "868    False\n",
       "869    False\n",
       "870    False\n",
       "871     True\n",
       "872    False\n",
       "873    False\n",
       "874     True\n",
       "875     True\n",
       "876    False\n",
       "877    False\n",
       "878    False\n",
       "879     True\n",
       "880     True\n",
       "881    False\n",
       "882     True\n",
       "883    False\n",
       "884    False\n",
       "885     True\n",
       "886    False\n",
       "887     True\n",
       "888     True\n",
       "889    False\n",
       "890    False\n",
       "Name: Gender, Length: 891, dtype: bool"
      ]
     },
     "execution_count": 26,
     "metadata": {},
     "output_type": "execute_result"
    }
   ],
   "source": [
    "train['Gender']"
   ]
  },
  {
   "cell_type": "code",
   "execution_count": 27,
   "metadata": {},
   "outputs": [
    {
     "data": {
      "text/plain": [
       "S    644\n",
       "C    168\n",
       "Q     77\n",
       "Name: Embarked, dtype: int64"
      ]
     },
     "execution_count": 27,
     "metadata": {},
     "output_type": "execute_result"
    }
   ],
   "source": [
    "train['Embarked'].value_counts()"
   ]
  },
  {
   "cell_type": "code",
   "execution_count": 28,
   "metadata": {},
   "outputs": [
    {
     "data": {
      "text/plain": [
       "2"
      ]
     },
     "execution_count": 28,
     "metadata": {},
     "output_type": "execute_result"
    }
   ],
   "source": [
    "train['Embarked'].isnull().sum()"
   ]
  },
  {
   "cell_type": "code",
   "execution_count": 29,
   "metadata": {},
   "outputs": [
    {
     "data": {
      "text/plain": [
       "S    270\n",
       "C    102\n",
       "Q     46\n",
       "Name: Embarked, dtype: int64"
      ]
     },
     "execution_count": 29,
     "metadata": {},
     "output_type": "execute_result"
    }
   ],
   "source": [
    "test['Embarked'].value_counts()"
   ]
  },
  {
   "cell_type": "code",
   "execution_count": 30,
   "metadata": {},
   "outputs": [
    {
     "data": {
      "text/plain": [
       "0"
      ]
     },
     "execution_count": 30,
     "metadata": {},
     "output_type": "execute_result"
    }
   ],
   "source": [
    "test['Embarked'].isnull().sum()"
   ]
  },
  {
   "cell_type": "code",
   "execution_count": 33,
   "metadata": {},
   "outputs": [],
   "source": [
    "train['Embarked_S'] = train['Embarked'] == \"S\"\n",
    "train['Embarked_C'] = train['Embarked'] == \"C\"\n",
    "train['Embarked_Q'] = train['Embarked'] == \"Q\""
   ]
  },
  {
   "cell_type": "code",
   "execution_count": 36,
   "metadata": {},
   "outputs": [
    {
     "data": {
      "text/plain": [
       "644"
      ]
     },
     "execution_count": 36,
     "metadata": {},
     "output_type": "execute_result"
    }
   ],
   "source": [
    "train['Embarked_S'].sum()"
   ]
  },
  {
   "cell_type": "code",
   "execution_count": 34,
   "metadata": {},
   "outputs": [
    {
     "data": {
      "text/plain": [
       "0    False\n",
       "1     True\n",
       "2    False\n",
       "3    False\n",
       "4    False\n",
       "Name: Embarked_C, dtype: bool"
      ]
     },
     "execution_count": 34,
     "metadata": {},
     "output_type": "execute_result"
    }
   ],
   "source": [
    "train['Embarked_C'].head()"
   ]
  },
  {
   "cell_type": "code",
   "execution_count": 35,
   "metadata": {},
   "outputs": [
    {
     "data": {
      "text/plain": [
       "0    False\n",
       "1    False\n",
       "2    False\n",
       "3    False\n",
       "4    False\n",
       "Name: Embarked_Q, dtype: bool"
      ]
     },
     "execution_count": 35,
     "metadata": {},
     "output_type": "execute_result"
    }
   ],
   "source": [
    "train['Embarked_Q'].head()"
   ]
  },
  {
   "cell_type": "code",
   "execution_count": 38,
   "metadata": {},
   "outputs": [
    {
     "data": {
      "text/html": [
       "<div>\n",
       "<style scoped>\n",
       "    .dataframe tbody tr th:only-of-type {\n",
       "        vertical-align: middle;\n",
       "    }\n",
       "\n",
       "    .dataframe tbody tr th {\n",
       "        vertical-align: top;\n",
       "    }\n",
       "\n",
       "    .dataframe thead th {\n",
       "        text-align: right;\n",
       "    }\n",
       "</style>\n",
       "<table border=\"1\" class=\"dataframe\">\n",
       "  <thead>\n",
       "    <tr style=\"text-align: right;\">\n",
       "      <th></th>\n",
       "      <th>Embarked</th>\n",
       "      <th>Embarked_S</th>\n",
       "      <th>Embarked_C</th>\n",
       "      <th>Embarked_Q</th>\n",
       "    </tr>\n",
       "  </thead>\n",
       "  <tbody>\n",
       "    <tr>\n",
       "      <th>0</th>\n",
       "      <td>S</td>\n",
       "      <td>True</td>\n",
       "      <td>False</td>\n",
       "      <td>False</td>\n",
       "    </tr>\n",
       "    <tr>\n",
       "      <th>1</th>\n",
       "      <td>C</td>\n",
       "      <td>False</td>\n",
       "      <td>True</td>\n",
       "      <td>False</td>\n",
       "    </tr>\n",
       "    <tr>\n",
       "      <th>2</th>\n",
       "      <td>S</td>\n",
       "      <td>True</td>\n",
       "      <td>False</td>\n",
       "      <td>False</td>\n",
       "    </tr>\n",
       "    <tr>\n",
       "      <th>3</th>\n",
       "      <td>S</td>\n",
       "      <td>True</td>\n",
       "      <td>False</td>\n",
       "      <td>False</td>\n",
       "    </tr>\n",
       "    <tr>\n",
       "      <th>4</th>\n",
       "      <td>S</td>\n",
       "      <td>True</td>\n",
       "      <td>False</td>\n",
       "      <td>False</td>\n",
       "    </tr>\n",
       "  </tbody>\n",
       "</table>\n",
       "</div>"
      ],
      "text/plain": [
       "  Embarked  Embarked_S  Embarked_C  Embarked_Q\n",
       "0        S        True       False       False\n",
       "1        C       False        True       False\n",
       "2        S        True       False       False\n",
       "3        S        True       False       False\n",
       "4        S        True       False       False"
      ]
     },
     "execution_count": 38,
     "metadata": {},
     "output_type": "execute_result"
    }
   ],
   "source": [
    "# boolean 데이터도 사용가능\n",
    "# int 로 수치형 데이터로 바꾸기 가능\n",
    "train[['Embarked', 'Embarked_S', 'Embarked_C', 'Embarked_Q']].head()"
   ]
  },
  {
   "cell_type": "code",
   "execution_count": 39,
   "metadata": {},
   "outputs": [],
   "source": [
    "test['Embarked_S'] = test['Embarked'] == \"S\"\n",
    "test['Embarked_C'] = test['Embarked'] == \"C\"\n",
    "test['Embarked_Q'] = test['Embarked'] == \"Q\""
   ]
  },
  {
   "cell_type": "markdown",
   "metadata": {},
   "source": [
    "## 가족수 구하기"
   ]
  },
  {
   "cell_type": "code",
   "execution_count": 40,
   "metadata": {},
   "outputs": [
    {
     "data": {
      "text/plain": [
       "Index(['PassengerId', 'Survived', 'Pclass', 'Name', 'Sex', 'Age', 'SibSp',\n",
       "       'Parch', 'Ticket', 'Fare', 'Cabin', 'Embarked', 'Age_mean', 'Gender',\n",
       "       'Embarked_S', 'Embarked_C', 'Embarked_Q'],\n",
       "      dtype='object')"
      ]
     },
     "execution_count": 40,
     "metadata": {},
     "output_type": "execute_result"
    }
   ],
   "source": [
    "train.columns"
   ]
  },
  {
   "cell_type": "code",
   "execution_count": 41,
   "metadata": {},
   "outputs": [],
   "source": [
    "train['FamilySize'] = train['SibSp'] + train['Parch'] + 1\n",
    "# 가족 수에 자신도 포함되게 하여 1명 이상이 되도록 만들어준다."
   ]
  },
  {
   "cell_type": "code",
   "execution_count": 42,
   "metadata": {},
   "outputs": [
    {
     "data": {
      "text/plain": [
       "<bound method IndexOpsMixin.value_counts of 0       2\n",
       "1       2\n",
       "2       1\n",
       "3       2\n",
       "4       1\n",
       "5       1\n",
       "6       1\n",
       "7       5\n",
       "8       3\n",
       "9       2\n",
       "10      3\n",
       "11      1\n",
       "12      1\n",
       "13      7\n",
       "14      1\n",
       "15      1\n",
       "16      6\n",
       "17      1\n",
       "18      2\n",
       "19      1\n",
       "20      1\n",
       "21      1\n",
       "22      1\n",
       "23      1\n",
       "24      5\n",
       "25      7\n",
       "26      1\n",
       "27      6\n",
       "28      1\n",
       "29      1\n",
       "       ..\n",
       "861     2\n",
       "862     1\n",
       "863    11\n",
       "864     1\n",
       "865     1\n",
       "866     2\n",
       "867     1\n",
       "868     1\n",
       "869     3\n",
       "870     1\n",
       "871     3\n",
       "872     1\n",
       "873     1\n",
       "874     2\n",
       "875     1\n",
       "876     1\n",
       "877     1\n",
       "878     1\n",
       "879     2\n",
       "880     2\n",
       "881     1\n",
       "882     1\n",
       "883     1\n",
       "884     1\n",
       "885     6\n",
       "886     1\n",
       "887     1\n",
       "888     4\n",
       "889     1\n",
       "890     1\n",
       "Name: FamilySize, Length: 891, dtype: int64>"
      ]
     },
     "execution_count": 42,
     "metadata": {},
     "output_type": "execute_result"
    }
   ],
   "source": [
    "train['FamilySize'].value_counts\n",
    "# 혼자 탄 사람이 많다."
   ]
  },
  {
   "cell_type": "code",
   "execution_count": 43,
   "metadata": {},
   "outputs": [],
   "source": [
    "train['Family'] = train['FamilySize']\n",
    "train.loc[train['FamilySize'] == 1, 'Family'] = 'S'\n",
    "train.loc[(train['FamilySize'] > 1) & (train['FamilySize'] < 5), 'Family'] = 'M'\n",
    "train.loc[train['FamilySize'] > 4, 'Family'] = 'L'"
   ]
  },
  {
   "cell_type": "code",
   "execution_count": 44,
   "metadata": {},
   "outputs": [
    {
     "data": {
      "text/html": [
       "<div>\n",
       "<style scoped>\n",
       "    .dataframe tbody tr th:only-of-type {\n",
       "        vertical-align: middle;\n",
       "    }\n",
       "\n",
       "    .dataframe tbody tr th {\n",
       "        vertical-align: top;\n",
       "    }\n",
       "\n",
       "    .dataframe thead th {\n",
       "        text-align: right;\n",
       "    }\n",
       "</style>\n",
       "<table border=\"1\" class=\"dataframe\">\n",
       "  <thead>\n",
       "    <tr style=\"text-align: right;\">\n",
       "      <th></th>\n",
       "      <th>Family</th>\n",
       "      <th>FamilySize</th>\n",
       "    </tr>\n",
       "  </thead>\n",
       "  <tbody>\n",
       "    <tr>\n",
       "      <th>0</th>\n",
       "      <td>M</td>\n",
       "      <td>2</td>\n",
       "    </tr>\n",
       "    <tr>\n",
       "      <th>1</th>\n",
       "      <td>M</td>\n",
       "      <td>2</td>\n",
       "    </tr>\n",
       "    <tr>\n",
       "      <th>2</th>\n",
       "      <td>S</td>\n",
       "      <td>1</td>\n",
       "    </tr>\n",
       "    <tr>\n",
       "      <th>3</th>\n",
       "      <td>M</td>\n",
       "      <td>2</td>\n",
       "    </tr>\n",
       "    <tr>\n",
       "      <th>4</th>\n",
       "      <td>S</td>\n",
       "      <td>1</td>\n",
       "    </tr>\n",
       "  </tbody>\n",
       "</table>\n",
       "</div>"
      ],
      "text/plain": [
       "  Family  FamilySize\n",
       "0      M           2\n",
       "1      M           2\n",
       "2      S           1\n",
       "3      M           2\n",
       "4      S           1"
      ]
     },
     "execution_count": 44,
     "metadata": {},
     "output_type": "execute_result"
    }
   ],
   "source": [
    "train[['Family', 'FamilySize']].head()"
   ]
  },
  {
   "cell_type": "code",
   "execution_count": 45,
   "metadata": {},
   "outputs": [],
   "source": [
    "train['Family_S'] = train['Family'] == \"S\"\n",
    "train['Family_M'] = train['Family'] == \"M\"\n",
    "train['Family_L'] = train['Family'] == \"L\""
   ]
  },
  {
   "cell_type": "code",
   "execution_count": 47,
   "metadata": {},
   "outputs": [
    {
     "data": {
      "text/html": [
       "<div>\n",
       "<style scoped>\n",
       "    .dataframe tbody tr th:only-of-type {\n",
       "        vertical-align: middle;\n",
       "    }\n",
       "\n",
       "    .dataframe tbody tr th {\n",
       "        vertical-align: top;\n",
       "    }\n",
       "\n",
       "    .dataframe thead th {\n",
       "        text-align: right;\n",
       "    }\n",
       "</style>\n",
       "<table border=\"1\" class=\"dataframe\">\n",
       "  <thead>\n",
       "    <tr style=\"text-align: right;\">\n",
       "      <th></th>\n",
       "      <th>Family</th>\n",
       "      <th>Family_S</th>\n",
       "      <th>Family_M</th>\n",
       "      <th>Family_L</th>\n",
       "      <th>FamilySize</th>\n",
       "    </tr>\n",
       "  </thead>\n",
       "  <tbody>\n",
       "    <tr>\n",
       "      <th>0</th>\n",
       "      <td>M</td>\n",
       "      <td>False</td>\n",
       "      <td>True</td>\n",
       "      <td>False</td>\n",
       "      <td>2</td>\n",
       "    </tr>\n",
       "    <tr>\n",
       "      <th>1</th>\n",
       "      <td>M</td>\n",
       "      <td>False</td>\n",
       "      <td>True</td>\n",
       "      <td>False</td>\n",
       "      <td>2</td>\n",
       "    </tr>\n",
       "    <tr>\n",
       "      <th>2</th>\n",
       "      <td>S</td>\n",
       "      <td>True</td>\n",
       "      <td>False</td>\n",
       "      <td>False</td>\n",
       "      <td>1</td>\n",
       "    </tr>\n",
       "    <tr>\n",
       "      <th>3</th>\n",
       "      <td>M</td>\n",
       "      <td>False</td>\n",
       "      <td>True</td>\n",
       "      <td>False</td>\n",
       "      <td>2</td>\n",
       "    </tr>\n",
       "    <tr>\n",
       "      <th>4</th>\n",
       "      <td>S</td>\n",
       "      <td>True</td>\n",
       "      <td>False</td>\n",
       "      <td>False</td>\n",
       "      <td>1</td>\n",
       "    </tr>\n",
       "  </tbody>\n",
       "</table>\n",
       "</div>"
      ],
      "text/plain": [
       "  Family  Family_S  Family_M  Family_L  FamilySize\n",
       "0      M     False      True     False           2\n",
       "1      M     False      True     False           2\n",
       "2      S      True     False     False           1\n",
       "3      M     False      True     False           2\n",
       "4      S      True     False     False           1"
      ]
     },
     "execution_count": 47,
     "metadata": {},
     "output_type": "execute_result"
    }
   ],
   "source": [
    "train[['Family', 'Family_S', 'Family_M', 'Family_L', 'FamilySize']].head()"
   ]
  },
  {
   "cell_type": "code",
   "execution_count": 48,
   "metadata": {},
   "outputs": [],
   "source": [
    "test['FamilySize'] = test['SibSp'] + test['Parch'] + 1\n",
    "test['Family'] = test['FamilySize']\n",
    "test.loc[test['FamilySize'] == 1, 'Family'] = 'S'\n",
    "test.loc[(test['FamilySize'] >1) & (test['FamilySize'] < 4), 'Family'] = 'M'\n",
    "test.loc[test['FamilySize'] > 4, 'Family'] = 'L'"
   ]
  },
  {
   "cell_type": "code",
   "execution_count": 49,
   "metadata": {},
   "outputs": [
    {
     "data": {
      "text/html": [
       "<div>\n",
       "<style scoped>\n",
       "    .dataframe tbody tr th:only-of-type {\n",
       "        vertical-align: middle;\n",
       "    }\n",
       "\n",
       "    .dataframe tbody tr th {\n",
       "        vertical-align: top;\n",
       "    }\n",
       "\n",
       "    .dataframe thead th {\n",
       "        text-align: right;\n",
       "    }\n",
       "</style>\n",
       "<table border=\"1\" class=\"dataframe\">\n",
       "  <thead>\n",
       "    <tr style=\"text-align: right;\">\n",
       "      <th></th>\n",
       "      <th>Family</th>\n",
       "      <th>FamilySize</th>\n",
       "    </tr>\n",
       "  </thead>\n",
       "  <tbody>\n",
       "    <tr>\n",
       "      <th>0</th>\n",
       "      <td>S</td>\n",
       "      <td>1</td>\n",
       "    </tr>\n",
       "    <tr>\n",
       "      <th>1</th>\n",
       "      <td>M</td>\n",
       "      <td>2</td>\n",
       "    </tr>\n",
       "    <tr>\n",
       "      <th>2</th>\n",
       "      <td>S</td>\n",
       "      <td>1</td>\n",
       "    </tr>\n",
       "    <tr>\n",
       "      <th>3</th>\n",
       "      <td>S</td>\n",
       "      <td>1</td>\n",
       "    </tr>\n",
       "    <tr>\n",
       "      <th>4</th>\n",
       "      <td>M</td>\n",
       "      <td>3</td>\n",
       "    </tr>\n",
       "  </tbody>\n",
       "</table>\n",
       "</div>"
      ],
      "text/plain": [
       "  Family  FamilySize\n",
       "0      S           1\n",
       "1      M           2\n",
       "2      S           1\n",
       "3      S           1\n",
       "4      M           3"
      ]
     },
     "execution_count": 49,
     "metadata": {},
     "output_type": "execute_result"
    }
   ],
   "source": [
    "test[['Family', 'FamilySize']].head()"
   ]
  },
  {
   "cell_type": "code",
   "execution_count": 51,
   "metadata": {},
   "outputs": [],
   "source": [
    "test['Family_S'] = test['Family'] == \"S\"\n",
    "test['Family_M'] = test['Family'] == \"M\"\n",
    "test['Family_L'] = test['Family'] == \"L\""
   ]
  },
  {
   "cell_type": "code",
   "execution_count": 52,
   "metadata": {},
   "outputs": [
    {
     "data": {
      "text/html": [
       "<div>\n",
       "<style scoped>\n",
       "    .dataframe tbody tr th:only-of-type {\n",
       "        vertical-align: middle;\n",
       "    }\n",
       "\n",
       "    .dataframe tbody tr th {\n",
       "        vertical-align: top;\n",
       "    }\n",
       "\n",
       "    .dataframe thead th {\n",
       "        text-align: right;\n",
       "    }\n",
       "</style>\n",
       "<table border=\"1\" class=\"dataframe\">\n",
       "  <thead>\n",
       "    <tr style=\"text-align: right;\">\n",
       "      <th></th>\n",
       "      <th>Family</th>\n",
       "      <th>Family_S</th>\n",
       "      <th>Family_M</th>\n",
       "      <th>Family_L</th>\n",
       "      <th>FamilySize</th>\n",
       "    </tr>\n",
       "  </thead>\n",
       "  <tbody>\n",
       "    <tr>\n",
       "      <th>0</th>\n",
       "      <td>S</td>\n",
       "      <td>True</td>\n",
       "      <td>False</td>\n",
       "      <td>False</td>\n",
       "      <td>1</td>\n",
       "    </tr>\n",
       "    <tr>\n",
       "      <th>1</th>\n",
       "      <td>M</td>\n",
       "      <td>False</td>\n",
       "      <td>True</td>\n",
       "      <td>False</td>\n",
       "      <td>2</td>\n",
       "    </tr>\n",
       "    <tr>\n",
       "      <th>2</th>\n",
       "      <td>S</td>\n",
       "      <td>True</td>\n",
       "      <td>False</td>\n",
       "      <td>False</td>\n",
       "      <td>1</td>\n",
       "    </tr>\n",
       "    <tr>\n",
       "      <th>3</th>\n",
       "      <td>S</td>\n",
       "      <td>True</td>\n",
       "      <td>False</td>\n",
       "      <td>False</td>\n",
       "      <td>1</td>\n",
       "    </tr>\n",
       "    <tr>\n",
       "      <th>4</th>\n",
       "      <td>M</td>\n",
       "      <td>False</td>\n",
       "      <td>True</td>\n",
       "      <td>False</td>\n",
       "      <td>3</td>\n",
       "    </tr>\n",
       "  </tbody>\n",
       "</table>\n",
       "</div>"
      ],
      "text/plain": [
       "  Family  Family_S  Family_M  Family_L  FamilySize\n",
       "0      S      True     False     False           1\n",
       "1      M     False      True     False           2\n",
       "2      S      True     False     False           1\n",
       "3      S      True     False     False           1\n",
       "4      M     False      True     False           3"
      ]
     },
     "execution_count": 52,
     "metadata": {},
     "output_type": "execute_result"
    }
   ],
   "source": [
    "test[['Family', 'Family_S', 'Family_M', 'Family_L', 'FamilySize']].head()"
   ]
  },
  {
   "cell_type": "markdown",
   "metadata": {},
   "source": [
    "## feature selection"
   ]
  },
  {
   "cell_type": "code",
   "execution_count": 55,
   "metadata": {},
   "outputs": [],
   "source": [
    "feature_names = ['Gender', 'Age_mean', 'Embarked_S', 'Embarked_C', 'Embarked_Q', 'Family_S', 'Family_M', 'Family_L']"
   ]
  },
  {
   "cell_type": "code",
   "execution_count": 57,
   "metadata": {},
   "outputs": [
    {
     "data": {
      "text/html": [
       "<div>\n",
       "<style scoped>\n",
       "    .dataframe tbody tr th:only-of-type {\n",
       "        vertical-align: middle;\n",
       "    }\n",
       "\n",
       "    .dataframe tbody tr th {\n",
       "        vertical-align: top;\n",
       "    }\n",
       "\n",
       "    .dataframe thead th {\n",
       "        text-align: right;\n",
       "    }\n",
       "</style>\n",
       "<table border=\"1\" class=\"dataframe\">\n",
       "  <thead>\n",
       "    <tr style=\"text-align: right;\">\n",
       "      <th></th>\n",
       "      <th>Gender</th>\n",
       "      <th>Age_mean</th>\n",
       "      <th>Embarked_S</th>\n",
       "      <th>Embarked_C</th>\n",
       "      <th>Embarked_Q</th>\n",
       "      <th>Family_S</th>\n",
       "      <th>Family_M</th>\n",
       "      <th>Family_L</th>\n",
       "    </tr>\n",
       "  </thead>\n",
       "  <tbody>\n",
       "    <tr>\n",
       "      <th>0</th>\n",
       "      <td>False</td>\n",
       "      <td>22.0</td>\n",
       "      <td>True</td>\n",
       "      <td>False</td>\n",
       "      <td>False</td>\n",
       "      <td>False</td>\n",
       "      <td>True</td>\n",
       "      <td>False</td>\n",
       "    </tr>\n",
       "    <tr>\n",
       "      <th>1</th>\n",
       "      <td>True</td>\n",
       "      <td>38.0</td>\n",
       "      <td>False</td>\n",
       "      <td>True</td>\n",
       "      <td>False</td>\n",
       "      <td>False</td>\n",
       "      <td>True</td>\n",
       "      <td>False</td>\n",
       "    </tr>\n",
       "    <tr>\n",
       "      <th>2</th>\n",
       "      <td>True</td>\n",
       "      <td>26.0</td>\n",
       "      <td>True</td>\n",
       "      <td>False</td>\n",
       "      <td>False</td>\n",
       "      <td>True</td>\n",
       "      <td>False</td>\n",
       "      <td>False</td>\n",
       "    </tr>\n",
       "    <tr>\n",
       "      <th>3</th>\n",
       "      <td>True</td>\n",
       "      <td>35.0</td>\n",
       "      <td>True</td>\n",
       "      <td>False</td>\n",
       "      <td>False</td>\n",
       "      <td>False</td>\n",
       "      <td>True</td>\n",
       "      <td>False</td>\n",
       "    </tr>\n",
       "    <tr>\n",
       "      <th>4</th>\n",
       "      <td>False</td>\n",
       "      <td>35.0</td>\n",
       "      <td>True</td>\n",
       "      <td>False</td>\n",
       "      <td>False</td>\n",
       "      <td>True</td>\n",
       "      <td>False</td>\n",
       "      <td>False</td>\n",
       "    </tr>\n",
       "  </tbody>\n",
       "</table>\n",
       "</div>"
      ],
      "text/plain": [
       "   Gender  Age_mean  Embarked_S  Embarked_C  Embarked_Q  Family_S  Family_M  \\\n",
       "0   False      22.0        True       False       False     False      True   \n",
       "1    True      38.0       False        True       False     False      True   \n",
       "2    True      26.0        True       False       False      True     False   \n",
       "3    True      35.0        True       False       False     False      True   \n",
       "4   False      35.0        True       False       False      True     False   \n",
       "\n",
       "   Family_L  \n",
       "0     False  \n",
       "1     False  \n",
       "2     False  \n",
       "3     False  \n",
       "4     False  "
      ]
     },
     "execution_count": 57,
     "metadata": {},
     "output_type": "execute_result"
    }
   ],
   "source": [
    "x_train = train[feature_names]\n",
    "x_train.head()"
   ]
  },
  {
   "cell_type": "code",
   "execution_count": 58,
   "metadata": {},
   "outputs": [],
   "source": [
    "y_label = train['Survived']"
   ]
  },
  {
   "cell_type": "code",
   "execution_count": 60,
   "metadata": {},
   "outputs": [
    {
     "name": "stdout",
     "output_type": "stream",
     "text": [
      "(891,)\n"
     ]
    },
    {
     "data": {
      "text/plain": [
       "0    0\n",
       "1    1\n",
       "2    1\n",
       "3    1\n",
       "4    0\n",
       "Name: Survived, dtype: int64"
      ]
     },
     "execution_count": 60,
     "metadata": {},
     "output_type": "execute_result"
    }
   ],
   "source": [
    "print(y_label.shape)\n",
    "y_label.head()"
   ]
  },
  {
   "cell_type": "code",
   "execution_count": 65,
   "metadata": {},
   "outputs": [
    {
     "name": "stdout",
     "output_type": "stream",
     "text": [
      "Requirement already satisfied: graphviz in c:\\users\\home\\anaconda3\\lib\\site-packages (0.9)\n"
     ]
    }
   ],
   "source": [
    "!pip install graphviz"
   ]
  },
  {
   "cell_type": "code",
   "execution_count": 69,
   "metadata": {},
   "outputs": [],
   "source": [
    "import os\n",
    "os.environ[\"PATH\"] += os.pathsep + 'C:/Program Files (x86)/Graphviz2.38/bin/'\n"
   ]
  },
  {
   "cell_type": "code",
   "execution_count": 70,
   "metadata": {},
   "outputs": [
    {
     "data": {
      "image/svg+xml": [
       "<?xml version=\"1.0\" encoding=\"UTF-8\" standalone=\"no\"?>\r\n",
       "<!DOCTYPE svg PUBLIC \"-//W3C//DTD SVG 1.1//EN\"\r\n",
       " \"http://www.w3.org/Graphics/SVG/1.1/DTD/svg11.dtd\">\r\n",
       "<!-- Generated by graphviz version 2.38.0 (20140413.2041)\r\n",
       " -->\r\n",
       "<!-- Title: Tree Pages: 1 -->\r\n",
       "<svg width=\"1976pt\" height=\"671pt\"\r\n",
       " viewBox=\"0.00 0.00 1976.00 671.00\" xmlns=\"http://www.w3.org/2000/svg\" xmlns:xlink=\"http://www.w3.org/1999/xlink\">\r\n",
       "<g id=\"graph0\" class=\"graph\" transform=\"scale(1 1) rotate(0) translate(4 667)\">\r\n",
       "<title>Tree</title>\r\n",
       "<polygon fill=\"white\" stroke=\"none\" points=\"-4,4 -4,-667 1972,-667 1972,4 -4,4\"/>\r\n",
       "<!-- 0 -->\r\n",
       "<g id=\"node1\" class=\"node\"><title>0</title>\r\n",
       "<polygon fill=\"none\" stroke=\"black\" points=\"1026,-663 908,-663 908,-580 1026,-580 1026,-663\"/>\r\n",
       "<text text-anchor=\"middle\" x=\"967\" y=\"-647.8\" font-family=\"Times New Roman,serif\" font-size=\"14.00\">Gender &lt;= 0.5</text>\r\n",
       "<text text-anchor=\"middle\" x=\"967\" y=\"-632.8\" font-family=\"Times New Roman,serif\" font-size=\"14.00\">gini = 0.473</text>\r\n",
       "<text text-anchor=\"middle\" x=\"967\" y=\"-617.8\" font-family=\"Times New Roman,serif\" font-size=\"14.00\">samples = 891</text>\r\n",
       "<text text-anchor=\"middle\" x=\"967\" y=\"-602.8\" font-family=\"Times New Roman,serif\" font-size=\"14.00\">value = [549, 342]</text>\r\n",
       "<text text-anchor=\"middle\" x=\"967\" y=\"-587.8\" font-family=\"Times New Roman,serif\" font-size=\"14.00\">class = Perish</text>\r\n",
       "</g>\r\n",
       "<!-- 1 -->\r\n",
       "<g id=\"node2\" class=\"node\"><title>1</title>\r\n",
       "<polygon fill=\"none\" stroke=\"black\" points=\"653,-544 535,-544 535,-461 653,-461 653,-544\"/>\r\n",
       "<text text-anchor=\"middle\" x=\"594\" y=\"-528.8\" font-family=\"Times New Roman,serif\" font-size=\"14.00\">Age_mean &lt;= 6.5</text>\r\n",
       "<text text-anchor=\"middle\" x=\"594\" y=\"-513.8\" font-family=\"Times New Roman,serif\" font-size=\"14.00\">gini = 0.306</text>\r\n",
       "<text text-anchor=\"middle\" x=\"594\" y=\"-498.8\" font-family=\"Times New Roman,serif\" font-size=\"14.00\">samples = 577</text>\r\n",
       "<text text-anchor=\"middle\" x=\"594\" y=\"-483.8\" font-family=\"Times New Roman,serif\" font-size=\"14.00\">value = [468, 109]</text>\r\n",
       "<text text-anchor=\"middle\" x=\"594\" y=\"-468.8\" font-family=\"Times New Roman,serif\" font-size=\"14.00\">class = Perish</text>\r\n",
       "</g>\r\n",
       "<!-- 0&#45;&gt;1 -->\r\n",
       "<g id=\"edge1\" class=\"edge\"><title>0&#45;&gt;1</title>\r\n",
       "<path fill=\"none\" stroke=\"black\" d=\"M907.897,-601.961C841.289,-581.068 733.153,-547.148 662.802,-525.081\"/>\r\n",
       "<polygon fill=\"black\" stroke=\"black\" points=\"663.724,-521.702 653.134,-522.049 661.628,-528.381 663.724,-521.702\"/>\r\n",
       "<text text-anchor=\"middle\" x=\"664.711\" y=\"-540.507\" font-family=\"Times New Roman,serif\" font-size=\"14.00\">True</text>\r\n",
       "</g>\r\n",
       "<!-- 22 -->\r\n",
       "<g id=\"node23\" class=\"node\"><title>22</title>\r\n",
       "<polygon fill=\"none\" stroke=\"black\" points=\"1415.5,-544 1304.5,-544 1304.5,-461 1415.5,-461 1415.5,-544\"/>\r\n",
       "<text text-anchor=\"middle\" x=\"1360\" y=\"-528.8\" font-family=\"Times New Roman,serif\" font-size=\"14.00\">Family_L &lt;= 0.5</text>\r\n",
       "<text text-anchor=\"middle\" x=\"1360\" y=\"-513.8\" font-family=\"Times New Roman,serif\" font-size=\"14.00\">gini = 0.383</text>\r\n",
       "<text text-anchor=\"middle\" x=\"1360\" y=\"-498.8\" font-family=\"Times New Roman,serif\" font-size=\"14.00\">samples = 314</text>\r\n",
       "<text text-anchor=\"middle\" x=\"1360\" y=\"-483.8\" font-family=\"Times New Roman,serif\" font-size=\"14.00\">value = [81, 233]</text>\r\n",
       "<text text-anchor=\"middle\" x=\"1360\" y=\"-468.8\" font-family=\"Times New Roman,serif\" font-size=\"14.00\">class = Survived</text>\r\n",
       "</g>\r\n",
       "<!-- 0&#45;&gt;22 -->\r\n",
       "<g id=\"edge22\" class=\"edge\"><title>0&#45;&gt;22</title>\r\n",
       "<path fill=\"none\" stroke=\"black\" d=\"M1026.26,-602.857C1098.4,-581.382 1219.81,-545.236 1294.61,-522.967\"/>\r\n",
       "<polygon fill=\"black\" stroke=\"black\" points=\"1295.81,-526.262 1304.39,-520.054 1293.81,-519.553 1295.81,-526.262\"/>\r\n",
       "<text text-anchor=\"middle\" x=\"1292.5\" y=\"-538.341\" font-family=\"Times New Roman,serif\" font-size=\"14.00\">False</text>\r\n",
       "</g>\r\n",
       "<!-- 2 -->\r\n",
       "<g id=\"node3\" class=\"node\"><title>2</title>\r\n",
       "<polygon fill=\"none\" stroke=\"black\" points=\"242.5,-425 131.5,-425 131.5,-342 242.5,-342 242.5,-425\"/>\r\n",
       "<text text-anchor=\"middle\" x=\"187\" y=\"-409.8\" font-family=\"Times New Roman,serif\" font-size=\"14.00\">Family_L &lt;= 0.5</text>\r\n",
       "<text text-anchor=\"middle\" x=\"187\" y=\"-394.8\" font-family=\"Times New Roman,serif\" font-size=\"14.00\">gini = 0.444</text>\r\n",
       "<text text-anchor=\"middle\" x=\"187\" y=\"-379.8\" font-family=\"Times New Roman,serif\" font-size=\"14.00\">samples = 24</text>\r\n",
       "<text text-anchor=\"middle\" x=\"187\" y=\"-364.8\" font-family=\"Times New Roman,serif\" font-size=\"14.00\">value = [8, 16]</text>\r\n",
       "<text text-anchor=\"middle\" x=\"187\" y=\"-349.8\" font-family=\"Times New Roman,serif\" font-size=\"14.00\">class = Survived</text>\r\n",
       "</g>\r\n",
       "<!-- 1&#45;&gt;2 -->\r\n",
       "<g id=\"edge2\" class=\"edge\"><title>1&#45;&gt;2</title>\r\n",
       "<path fill=\"none\" stroke=\"black\" d=\"M534.819,-484.487C459.656,-462.88 330.378,-425.717 252.375,-403.293\"/>\r\n",
       "<polygon fill=\"black\" stroke=\"black\" points=\"253.234,-399.898 242.656,-400.499 251.3,-406.626 253.234,-399.898\"/>\r\n",
       "</g>\r\n",
       "<!-- 9 -->\r\n",
       "<g id=\"node10\" class=\"node\"><title>9</title>\r\n",
       "<polygon fill=\"none\" stroke=\"black\" points=\"660,-425 528,-425 528,-342 660,-342 660,-425\"/>\r\n",
       "<text text-anchor=\"middle\" x=\"594\" y=\"-409.8\" font-family=\"Times New Roman,serif\" font-size=\"14.00\">Embarked_C &lt;= 0.5</text>\r\n",
       "<text text-anchor=\"middle\" x=\"594\" y=\"-394.8\" font-family=\"Times New Roman,serif\" font-size=\"14.00\">gini = 0.28</text>\r\n",
       "<text text-anchor=\"middle\" x=\"594\" y=\"-379.8\" font-family=\"Times New Roman,serif\" font-size=\"14.00\">samples = 553</text>\r\n",
       "<text text-anchor=\"middle\" x=\"594\" y=\"-364.8\" font-family=\"Times New Roman,serif\" font-size=\"14.00\">value = [460, 93]</text>\r\n",
       "<text text-anchor=\"middle\" x=\"594\" y=\"-349.8\" font-family=\"Times New Roman,serif\" font-size=\"14.00\">class = Perish</text>\r\n",
       "</g>\r\n",
       "<!-- 1&#45;&gt;9 -->\r\n",
       "<g id=\"edge9\" class=\"edge\"><title>1&#45;&gt;9</title>\r\n",
       "<path fill=\"none\" stroke=\"black\" d=\"M594,-460.907C594,-452.649 594,-443.864 594,-435.302\"/>\r\n",
       "<polygon fill=\"black\" stroke=\"black\" points=\"597.5,-435.021 594,-425.021 590.5,-435.021 597.5,-435.021\"/>\r\n",
       "</g>\r\n",
       "<!-- 3 -->\r\n",
       "<g id=\"node4\" class=\"node\"><title>3</title>\r\n",
       "<polygon fill=\"none\" stroke=\"black\" points=\"110,-298.5 0,-298.5 0,-230.5 110,-230.5 110,-298.5\"/>\r\n",
       "<text text-anchor=\"middle\" x=\"55\" y=\"-283.3\" font-family=\"Times New Roman,serif\" font-size=\"14.00\">gini = 0.0</text>\r\n",
       "<text text-anchor=\"middle\" x=\"55\" y=\"-268.3\" font-family=\"Times New Roman,serif\" font-size=\"14.00\">samples = 15</text>\r\n",
       "<text text-anchor=\"middle\" x=\"55\" y=\"-253.3\" font-family=\"Times New Roman,serif\" font-size=\"14.00\">value = [0, 15]</text>\r\n",
       "<text text-anchor=\"middle\" x=\"55\" y=\"-238.3\" font-family=\"Times New Roman,serif\" font-size=\"14.00\">class = Survived</text>\r\n",
       "</g>\r\n",
       "<!-- 2&#45;&gt;3 -->\r\n",
       "<g id=\"edge3\" class=\"edge\"><title>2&#45;&gt;3</title>\r\n",
       "<path fill=\"none\" stroke=\"black\" d=\"M141.203,-341.907C127.883,-330.101 113.347,-317.217 100.071,-305.45\"/>\r\n",
       "<polygon fill=\"black\" stroke=\"black\" points=\"102.224,-302.681 92.4191,-298.667 97.581,-307.919 102.224,-302.681\"/>\r\n",
       "</g>\r\n",
       "<!-- 4 -->\r\n",
       "<g id=\"node5\" class=\"node\"><title>4</title>\r\n",
       "<polygon fill=\"none\" stroke=\"black\" points=\"245.5,-306 128.5,-306 128.5,-223 245.5,-223 245.5,-306\"/>\r\n",
       "<text text-anchor=\"middle\" x=\"187\" y=\"-290.8\" font-family=\"Times New Roman,serif\" font-size=\"14.00\">Age_mean &lt;= 2.5</text>\r\n",
       "<text text-anchor=\"middle\" x=\"187\" y=\"-275.8\" font-family=\"Times New Roman,serif\" font-size=\"14.00\">gini = 0.198</text>\r\n",
       "<text text-anchor=\"middle\" x=\"187\" y=\"-260.8\" font-family=\"Times New Roman,serif\" font-size=\"14.00\">samples = 9</text>\r\n",
       "<text text-anchor=\"middle\" x=\"187\" y=\"-245.8\" font-family=\"Times New Roman,serif\" font-size=\"14.00\">value = [8, 1]</text>\r\n",
       "<text text-anchor=\"middle\" x=\"187\" y=\"-230.8\" font-family=\"Times New Roman,serif\" font-size=\"14.00\">class = Perish</text>\r\n",
       "</g>\r\n",
       "<!-- 2&#45;&gt;4 -->\r\n",
       "<g id=\"edge4\" class=\"edge\"><title>2&#45;&gt;4</title>\r\n",
       "<path fill=\"none\" stroke=\"black\" d=\"M187,-341.907C187,-333.649 187,-324.864 187,-316.302\"/>\r\n",
       "<polygon fill=\"black\" stroke=\"black\" points=\"190.5,-316.021 187,-306.021 183.5,-316.021 190.5,-316.021\"/>\r\n",
       "</g>\r\n",
       "<!-- 5 -->\r\n",
       "<g id=\"node6\" class=\"node\"><title>5</title>\r\n",
       "<polygon fill=\"none\" stroke=\"black\" points=\"110.5,-179.5 15.5,-179.5 15.5,-111.5 110.5,-111.5 110.5,-179.5\"/>\r\n",
       "<text text-anchor=\"middle\" x=\"63\" y=\"-164.3\" font-family=\"Times New Roman,serif\" font-size=\"14.00\">gini = 0.0</text>\r\n",
       "<text text-anchor=\"middle\" x=\"63\" y=\"-149.3\" font-family=\"Times New Roman,serif\" font-size=\"14.00\">samples = 5</text>\r\n",
       "<text text-anchor=\"middle\" x=\"63\" y=\"-134.3\" font-family=\"Times New Roman,serif\" font-size=\"14.00\">value = [5, 0]</text>\r\n",
       "<text text-anchor=\"middle\" x=\"63\" y=\"-119.3\" font-family=\"Times New Roman,serif\" font-size=\"14.00\">class = Perish</text>\r\n",
       "</g>\r\n",
       "<!-- 4&#45;&gt;5 -->\r\n",
       "<g id=\"edge5\" class=\"edge\"><title>4&#45;&gt;5</title>\r\n",
       "<path fill=\"none\" stroke=\"black\" d=\"M143.979,-222.907C131.582,-211.211 118.066,-198.457 105.69,-186.78\"/>\r\n",
       "<polygon fill=\"black\" stroke=\"black\" points=\"107.827,-183.984 98.1513,-179.667 103.023,-189.075 107.827,-183.984\"/>\r\n",
       "</g>\r\n",
       "<!-- 6 -->\r\n",
       "<g id=\"node7\" class=\"node\"><title>6</title>\r\n",
       "<polygon fill=\"none\" stroke=\"black\" points=\"245.5,-187 128.5,-187 128.5,-104 245.5,-104 245.5,-187\"/>\r\n",
       "<text text-anchor=\"middle\" x=\"187\" y=\"-171.8\" font-family=\"Times New Roman,serif\" font-size=\"14.00\">Age_mean &lt;= 3.5</text>\r\n",
       "<text text-anchor=\"middle\" x=\"187\" y=\"-156.8\" font-family=\"Times New Roman,serif\" font-size=\"14.00\">gini = 0.375</text>\r\n",
       "<text text-anchor=\"middle\" x=\"187\" y=\"-141.8\" font-family=\"Times New Roman,serif\" font-size=\"14.00\">samples = 4</text>\r\n",
       "<text text-anchor=\"middle\" x=\"187\" y=\"-126.8\" font-family=\"Times New Roman,serif\" font-size=\"14.00\">value = [3, 1]</text>\r\n",
       "<text text-anchor=\"middle\" x=\"187\" y=\"-111.8\" font-family=\"Times New Roman,serif\" font-size=\"14.00\">class = Perish</text>\r\n",
       "</g>\r\n",
       "<!-- 4&#45;&gt;6 -->\r\n",
       "<g id=\"edge6\" class=\"edge\"><title>4&#45;&gt;6</title>\r\n",
       "<path fill=\"none\" stroke=\"black\" d=\"M187,-222.907C187,-214.649 187,-205.864 187,-197.302\"/>\r\n",
       "<polygon fill=\"black\" stroke=\"black\" points=\"190.5,-197.021 187,-187.021 183.5,-197.021 190.5,-197.021\"/>\r\n",
       "</g>\r\n",
       "<!-- 7 -->\r\n",
       "<g id=\"node8\" class=\"node\"><title>7</title>\r\n",
       "<polygon fill=\"none\" stroke=\"black\" points=\"121,-68 11,-68 11,-0 121,-0 121,-68\"/>\r\n",
       "<text text-anchor=\"middle\" x=\"66\" y=\"-52.8\" font-family=\"Times New Roman,serif\" font-size=\"14.00\">gini = 0.0</text>\r\n",
       "<text text-anchor=\"middle\" x=\"66\" y=\"-37.8\" font-family=\"Times New Roman,serif\" font-size=\"14.00\">samples = 1</text>\r\n",
       "<text text-anchor=\"middle\" x=\"66\" y=\"-22.8\" font-family=\"Times New Roman,serif\" font-size=\"14.00\">value = [0, 1]</text>\r\n",
       "<text text-anchor=\"middle\" x=\"66\" y=\"-7.8\" font-family=\"Times New Roman,serif\" font-size=\"14.00\">class = Survived</text>\r\n",
       "</g>\r\n",
       "<!-- 6&#45;&gt;7 -->\r\n",
       "<g id=\"edge7\" class=\"edge\"><title>6&#45;&gt;7</title>\r\n",
       "<path fill=\"none\" stroke=\"black\" d=\"M141.944,-103.726C131.664,-94.423 120.746,-84.5428 110.489,-75.2612\"/>\r\n",
       "<polygon fill=\"black\" stroke=\"black\" points=\"112.56,-72.4144 102.797,-68.2996 107.863,-77.6047 112.56,-72.4144\"/>\r\n",
       "</g>\r\n",
       "<!-- 8 -->\r\n",
       "<g id=\"node9\" class=\"node\"><title>8</title>\r\n",
       "<polygon fill=\"none\" stroke=\"black\" points=\"234.5,-68 139.5,-68 139.5,-0 234.5,-0 234.5,-68\"/>\r\n",
       "<text text-anchor=\"middle\" x=\"187\" y=\"-52.8\" font-family=\"Times New Roman,serif\" font-size=\"14.00\">gini = 0.0</text>\r\n",
       "<text text-anchor=\"middle\" x=\"187\" y=\"-37.8\" font-family=\"Times New Roman,serif\" font-size=\"14.00\">samples = 3</text>\r\n",
       "<text text-anchor=\"middle\" x=\"187\" y=\"-22.8\" font-family=\"Times New Roman,serif\" font-size=\"14.00\">value = [3, 0]</text>\r\n",
       "<text text-anchor=\"middle\" x=\"187\" y=\"-7.8\" font-family=\"Times New Roman,serif\" font-size=\"14.00\">class = Perish</text>\r\n",
       "</g>\r\n",
       "<!-- 6&#45;&gt;8 -->\r\n",
       "<g id=\"edge8\" class=\"edge\"><title>6&#45;&gt;8</title>\r\n",
       "<path fill=\"none\" stroke=\"black\" d=\"M187,-103.726C187,-95.5175 187,-86.8595 187,-78.56\"/>\r\n",
       "<polygon fill=\"black\" stroke=\"black\" points=\"190.5,-78.2996 187,-68.2996 183.5,-78.2996 190.5,-78.2996\"/>\r\n",
       "</g>\r\n",
       "<!-- 10 -->\r\n",
       "<g id=\"node11\" class=\"node\"><title>10</title>\r\n",
       "<polygon fill=\"none\" stroke=\"black\" points=\"588,-306 464,-306 464,-223 588,-223 588,-306\"/>\r\n",
       "<text text-anchor=\"middle\" x=\"526\" y=\"-290.8\" font-family=\"Times New Roman,serif\" font-size=\"14.00\">Age_mean &lt;= 77.0</text>\r\n",
       "<text text-anchor=\"middle\" x=\"526\" y=\"-275.8\" font-family=\"Times New Roman,serif\" font-size=\"14.00\">gini = 0.246</text>\r\n",
       "<text text-anchor=\"middle\" x=\"526\" y=\"-260.8\" font-family=\"Times New Roman,serif\" font-size=\"14.00\">samples = 460</text>\r\n",
       "<text text-anchor=\"middle\" x=\"526\" y=\"-245.8\" font-family=\"Times New Roman,serif\" font-size=\"14.00\">value = [394, 66]</text>\r\n",
       "<text text-anchor=\"middle\" x=\"526\" y=\"-230.8\" font-family=\"Times New Roman,serif\" font-size=\"14.00\">class = Perish</text>\r\n",
       "</g>\r\n",
       "<!-- 9&#45;&gt;10 -->\r\n",
       "<g id=\"edge10\" class=\"edge\"><title>9&#45;&gt;10</title>\r\n",
       "<path fill=\"none\" stroke=\"black\" d=\"M570.408,-341.907C565.344,-333.195 559.94,-323.897 554.707,-314.893\"/>\r\n",
       "<polygon fill=\"black\" stroke=\"black\" points=\"557.602,-312.908 549.551,-306.021 551.549,-316.425 557.602,-312.908\"/>\r\n",
       "</g>\r\n",
       "<!-- 15 -->\r\n",
       "<g id=\"node16\" class=\"node\"><title>15</title>\r\n",
       "<polygon fill=\"none\" stroke=\"black\" points=\"717.5,-306 606.5,-306 606.5,-223 717.5,-223 717.5,-306\"/>\r\n",
       "<text text-anchor=\"middle\" x=\"662\" y=\"-290.8\" font-family=\"Times New Roman,serif\" font-size=\"14.00\">Family_S &lt;= 0.5</text>\r\n",
       "<text text-anchor=\"middle\" x=\"662\" y=\"-275.8\" font-family=\"Times New Roman,serif\" font-size=\"14.00\">gini = 0.412</text>\r\n",
       "<text text-anchor=\"middle\" x=\"662\" y=\"-260.8\" font-family=\"Times New Roman,serif\" font-size=\"14.00\">samples = 93</text>\r\n",
       "<text text-anchor=\"middle\" x=\"662\" y=\"-245.8\" font-family=\"Times New Roman,serif\" font-size=\"14.00\">value = [66, 27]</text>\r\n",
       "<text text-anchor=\"middle\" x=\"662\" y=\"-230.8\" font-family=\"Times New Roman,serif\" font-size=\"14.00\">class = Perish</text>\r\n",
       "</g>\r\n",
       "<!-- 9&#45;&gt;15 -->\r\n",
       "<g id=\"edge15\" class=\"edge\"><title>9&#45;&gt;15</title>\r\n",
       "<path fill=\"none\" stroke=\"black\" d=\"M617.592,-341.907C622.656,-333.195 628.06,-323.897 633.293,-314.893\"/>\r\n",
       "<polygon fill=\"black\" stroke=\"black\" points=\"636.451,-316.425 638.449,-306.021 630.398,-312.908 636.451,-316.425\"/>\r\n",
       "</g>\r\n",
       "<!-- 11 -->\r\n",
       "<g id=\"node12\" class=\"node\"><title>11</title>\r\n",
       "<polygon fill=\"none\" stroke=\"black\" points=\"453,-187 329,-187 329,-104 453,-104 453,-187\"/>\r\n",
       "<text text-anchor=\"middle\" x=\"391\" y=\"-171.8\" font-family=\"Times New Roman,serif\" font-size=\"14.00\">Age_mean &lt;= 12.5</text>\r\n",
       "<text text-anchor=\"middle\" x=\"391\" y=\"-156.8\" font-family=\"Times New Roman,serif\" font-size=\"14.00\">gini = 0.243</text>\r\n",
       "<text text-anchor=\"middle\" x=\"391\" y=\"-141.8\" font-family=\"Times New Roman,serif\" font-size=\"14.00\">samples = 459</text>\r\n",
       "<text text-anchor=\"middle\" x=\"391\" y=\"-126.8\" font-family=\"Times New Roman,serif\" font-size=\"14.00\">value = [394, 65]</text>\r\n",
       "<text text-anchor=\"middle\" x=\"391\" y=\"-111.8\" font-family=\"Times New Roman,serif\" font-size=\"14.00\">class = Perish</text>\r\n",
       "</g>\r\n",
       "<!-- 10&#45;&gt;11 -->\r\n",
       "<g id=\"edge11\" class=\"edge\"><title>10&#45;&gt;11</title>\r\n",
       "<path fill=\"none\" stroke=\"black\" d=\"M479.162,-222.907C468.272,-213.469 456.588,-203.343 445.403,-193.649\"/>\r\n",
       "<polygon fill=\"black\" stroke=\"black\" points=\"447.604,-190.925 437.755,-187.021 443.019,-196.215 447.604,-190.925\"/>\r\n",
       "</g>\r\n",
       "<!-- 14 -->\r\n",
       "<g id=\"node15\" class=\"node\"><title>14</title>\r\n",
       "<polygon fill=\"none\" stroke=\"black\" points=\"581,-179.5 471,-179.5 471,-111.5 581,-111.5 581,-179.5\"/>\r\n",
       "<text text-anchor=\"middle\" x=\"526\" y=\"-164.3\" font-family=\"Times New Roman,serif\" font-size=\"14.00\">gini = 0.0</text>\r\n",
       "<text text-anchor=\"middle\" x=\"526\" y=\"-149.3\" font-family=\"Times New Roman,serif\" font-size=\"14.00\">samples = 1</text>\r\n",
       "<text text-anchor=\"middle\" x=\"526\" y=\"-134.3\" font-family=\"Times New Roman,serif\" font-size=\"14.00\">value = [0, 1]</text>\r\n",
       "<text text-anchor=\"middle\" x=\"526\" y=\"-119.3\" font-family=\"Times New Roman,serif\" font-size=\"14.00\">class = Survived</text>\r\n",
       "</g>\r\n",
       "<!-- 10&#45;&gt;14 -->\r\n",
       "<g id=\"edge14\" class=\"edge\"><title>10&#45;&gt;14</title>\r\n",
       "<path fill=\"none\" stroke=\"black\" d=\"M526,-222.907C526,-212.204 526,-200.615 526,-189.776\"/>\r\n",
       "<polygon fill=\"black\" stroke=\"black\" points=\"529.5,-189.667 526,-179.667 522.5,-189.667 529.5,-189.667\"/>\r\n",
       "</g>\r\n",
       "<!-- 12 -->\r\n",
       "<g id=\"node13\" class=\"node\"><title>12</title>\r\n",
       "<polygon fill=\"none\" stroke=\"black\" points=\"347.5,-68 252.5,-68 252.5,-0 347.5,-0 347.5,-68\"/>\r\n",
       "<text text-anchor=\"middle\" x=\"300\" y=\"-52.8\" font-family=\"Times New Roman,serif\" font-size=\"14.00\">gini = 0.463</text>\r\n",
       "<text text-anchor=\"middle\" x=\"300\" y=\"-37.8\" font-family=\"Times New Roman,serif\" font-size=\"14.00\">samples = 11</text>\r\n",
       "<text text-anchor=\"middle\" x=\"300\" y=\"-22.8\" font-family=\"Times New Roman,serif\" font-size=\"14.00\">value = [7, 4]</text>\r\n",
       "<text text-anchor=\"middle\" x=\"300\" y=\"-7.8\" font-family=\"Times New Roman,serif\" font-size=\"14.00\">class = Perish</text>\r\n",
       "</g>\r\n",
       "<!-- 11&#45;&gt;12 -->\r\n",
       "<g id=\"edge12\" class=\"edge\"><title>11&#45;&gt;12</title>\r\n",
       "<path fill=\"none\" stroke=\"black\" d=\"M357.115,-103.726C349.611,-94.6966 341.655,-85.1235 334.141,-76.0816\"/>\r\n",
       "<polygon fill=\"black\" stroke=\"black\" points=\"336.757,-73.7534 327.674,-68.2996 331.373,-78.2275 336.757,-73.7534\"/>\r\n",
       "</g>\r\n",
       "<!-- 13 -->\r\n",
       "<g id=\"node14\" class=\"node\"><title>13</title>\r\n",
       "<polygon fill=\"none\" stroke=\"black\" points=\"476.5,-68 365.5,-68 365.5,-0 476.5,-0 476.5,-68\"/>\r\n",
       "<text text-anchor=\"middle\" x=\"421\" y=\"-52.8\" font-family=\"Times New Roman,serif\" font-size=\"14.00\">gini = 0.235</text>\r\n",
       "<text text-anchor=\"middle\" x=\"421\" y=\"-37.8\" font-family=\"Times New Roman,serif\" font-size=\"14.00\">samples = 448</text>\r\n",
       "<text text-anchor=\"middle\" x=\"421\" y=\"-22.8\" font-family=\"Times New Roman,serif\" font-size=\"14.00\">value = [387, 61]</text>\r\n",
       "<text text-anchor=\"middle\" x=\"421\" y=\"-7.8\" font-family=\"Times New Roman,serif\" font-size=\"14.00\">class = Perish</text>\r\n",
       "</g>\r\n",
       "<!-- 11&#45;&gt;13 -->\r\n",
       "<g id=\"edge13\" class=\"edge\"><title>11&#45;&gt;13</title>\r\n",
       "<path fill=\"none\" stroke=\"black\" d=\"M402.171,-103.726C404.47,-95.3351 406.897,-86.4745 409.217,-78.0072\"/>\r\n",
       "<polygon fill=\"black\" stroke=\"black\" points=\"412.61,-78.869 411.877,-68.2996 405.859,-77.0193 412.61,-78.869\"/>\r\n",
       "</g>\r\n",
       "<!-- 16 -->\r\n",
       "<g id=\"node17\" class=\"node\"><title>16</title>\r\n",
       "<polygon fill=\"none\" stroke=\"black\" points=\"723,-187 599,-187 599,-104 723,-104 723,-187\"/>\r\n",
       "<text text-anchor=\"middle\" x=\"661\" y=\"-171.8\" font-family=\"Times New Roman,serif\" font-size=\"14.00\">Age_mean &lt;= 13.5</text>\r\n",
       "<text text-anchor=\"middle\" x=\"661\" y=\"-156.8\" font-family=\"Times New Roman,serif\" font-size=\"14.00\">gini = 0.478</text>\r\n",
       "<text text-anchor=\"middle\" x=\"661\" y=\"-141.8\" font-family=\"Times New Roman,serif\" font-size=\"14.00\">samples = 33</text>\r\n",
       "<text text-anchor=\"middle\" x=\"661\" y=\"-126.8\" font-family=\"Times New Roman,serif\" font-size=\"14.00\">value = [20, 13]</text>\r\n",
       "<text text-anchor=\"middle\" x=\"661\" y=\"-111.8\" font-family=\"Times New Roman,serif\" font-size=\"14.00\">class = Perish</text>\r\n",
       "</g>\r\n",
       "<!-- 15&#45;&gt;16 -->\r\n",
       "<g id=\"edge16\" class=\"edge\"><title>15&#45;&gt;16</title>\r\n",
       "<path fill=\"none\" stroke=\"black\" d=\"M661.653,-222.907C661.582,-214.649 661.507,-205.864 661.434,-197.302\"/>\r\n",
       "<polygon fill=\"black\" stroke=\"black\" points=\"664.932,-196.99 661.346,-187.021 657.932,-197.05 664.932,-196.99\"/>\r\n",
       "</g>\r\n",
       "<!-- 19 -->\r\n",
       "<g id=\"node20\" class=\"node\"><title>19</title>\r\n",
       "<polygon fill=\"none\" stroke=\"black\" points=\"872.5,-187 741.5,-187 741.5,-104 872.5,-104 872.5,-187\"/>\r\n",
       "<text text-anchor=\"middle\" x=\"807\" y=\"-171.8\" font-family=\"Times New Roman,serif\" font-size=\"14.00\">Age_mean &lt;= 29.35</text>\r\n",
       "<text text-anchor=\"middle\" x=\"807\" y=\"-156.8\" font-family=\"Times New Roman,serif\" font-size=\"14.00\">gini = 0.358</text>\r\n",
       "<text text-anchor=\"middle\" x=\"807\" y=\"-141.8\" font-family=\"Times New Roman,serif\" font-size=\"14.00\">samples = 60</text>\r\n",
       "<text text-anchor=\"middle\" x=\"807\" y=\"-126.8\" font-family=\"Times New Roman,serif\" font-size=\"14.00\">value = [46, 14]</text>\r\n",
       "<text text-anchor=\"middle\" x=\"807\" y=\"-111.8\" font-family=\"Times New Roman,serif\" font-size=\"14.00\">class = Perish</text>\r\n",
       "</g>\r\n",
       "<!-- 15&#45;&gt;19 -->\r\n",
       "<g id=\"edge19\" class=\"edge\"><title>15&#45;&gt;19</title>\r\n",
       "<path fill=\"none\" stroke=\"black\" d=\"M712.307,-222.907C724.116,-213.379 736.795,-203.148 748.914,-193.37\"/>\r\n",
       "<polygon fill=\"black\" stroke=\"black\" points=\"751.197,-196.024 756.782,-187.021 746.802,-190.577 751.197,-196.024\"/>\r\n",
       "</g>\r\n",
       "<!-- 17 -->\r\n",
       "<g id=\"node18\" class=\"node\"><title>17</title>\r\n",
       "<polygon fill=\"none\" stroke=\"black\" points=\"605,-68 495,-68 495,-0 605,-0 605,-68\"/>\r\n",
       "<text text-anchor=\"middle\" x=\"550\" y=\"-52.8\" font-family=\"Times New Roman,serif\" font-size=\"14.00\">gini = 0.0</text>\r\n",
       "<text text-anchor=\"middle\" x=\"550\" y=\"-37.8\" font-family=\"Times New Roman,serif\" font-size=\"14.00\">samples = 1</text>\r\n",
       "<text text-anchor=\"middle\" x=\"550\" y=\"-22.8\" font-family=\"Times New Roman,serif\" font-size=\"14.00\">value = [0, 1]</text>\r\n",
       "<text text-anchor=\"middle\" x=\"550\" y=\"-7.8\" font-family=\"Times New Roman,serif\" font-size=\"14.00\">class = Survived</text>\r\n",
       "</g>\r\n",
       "<!-- 16&#45;&gt;17 -->\r\n",
       "<g id=\"edge17\" class=\"edge\"><title>16&#45;&gt;17</title>\r\n",
       "<path fill=\"none\" stroke=\"black\" d=\"M619.668,-103.726C610.329,-94.5142 600.418,-84.7364 591.09,-75.5343\"/>\r\n",
       "<polygon fill=\"black\" stroke=\"black\" points=\"593.333,-72.8308 583.756,-68.2996 588.417,-77.8141 593.333,-72.8308\"/>\r\n",
       "</g>\r\n",
       "<!-- 18 -->\r\n",
       "<g id=\"node19\" class=\"node\"><title>18</title>\r\n",
       "<polygon fill=\"none\" stroke=\"black\" points=\"727,-68 623,-68 623,-0 727,-0 727,-68\"/>\r\n",
       "<text text-anchor=\"middle\" x=\"675\" y=\"-52.8\" font-family=\"Times New Roman,serif\" font-size=\"14.00\">gini = 0.469</text>\r\n",
       "<text text-anchor=\"middle\" x=\"675\" y=\"-37.8\" font-family=\"Times New Roman,serif\" font-size=\"14.00\">samples = 32</text>\r\n",
       "<text text-anchor=\"middle\" x=\"675\" y=\"-22.8\" font-family=\"Times New Roman,serif\" font-size=\"14.00\">value = [20, 12]</text>\r\n",
       "<text text-anchor=\"middle\" x=\"675\" y=\"-7.8\" font-family=\"Times New Roman,serif\" font-size=\"14.00\">class = Perish</text>\r\n",
       "</g>\r\n",
       "<!-- 16&#45;&gt;18 -->\r\n",
       "<g id=\"edge18\" class=\"edge\"><title>16&#45;&gt;18</title>\r\n",
       "<path fill=\"none\" stroke=\"black\" d=\"M666.213,-103.726C667.274,-95.4263 668.394,-86.6671 669.466,-78.2834\"/>\r\n",
       "<polygon fill=\"black\" stroke=\"black\" points=\"672.946,-78.6628 670.743,-68.2996 666.002,-77.7749 672.946,-78.6628\"/>\r\n",
       "</g>\r\n",
       "<!-- 20 -->\r\n",
       "<g id=\"node21\" class=\"node\"><title>20</title>\r\n",
       "<polygon fill=\"none\" stroke=\"black\" points=\"840.5,-68 745.5,-68 745.5,-0 840.5,-0 840.5,-68\"/>\r\n",
       "<text text-anchor=\"middle\" x=\"793\" y=\"-52.8\" font-family=\"Times New Roman,serif\" font-size=\"14.00\">gini = 0.48</text>\r\n",
       "<text text-anchor=\"middle\" x=\"793\" y=\"-37.8\" font-family=\"Times New Roman,serif\" font-size=\"14.00\">samples = 15</text>\r\n",
       "<text text-anchor=\"middle\" x=\"793\" y=\"-22.8\" font-family=\"Times New Roman,serif\" font-size=\"14.00\">value = [9, 6]</text>\r\n",
       "<text text-anchor=\"middle\" x=\"793\" y=\"-7.8\" font-family=\"Times New Roman,serif\" font-size=\"14.00\">class = Perish</text>\r\n",
       "</g>\r\n",
       "<!-- 19&#45;&gt;20 -->\r\n",
       "<g id=\"edge20\" class=\"edge\"><title>19&#45;&gt;20</title>\r\n",
       "<path fill=\"none\" stroke=\"black\" d=\"M801.787,-103.726C800.726,-95.4263 799.606,-86.6671 798.534,-78.2834\"/>\r\n",
       "<polygon fill=\"black\" stroke=\"black\" points=\"801.998,-77.7749 797.257,-68.2996 795.054,-78.6628 801.998,-77.7749\"/>\r\n",
       "</g>\r\n",
       "<!-- 21 -->\r\n",
       "<g id=\"node22\" class=\"node\"><title>21</title>\r\n",
       "<polygon fill=\"none\" stroke=\"black\" points=\"957,-68 859,-68 859,-0 957,-0 957,-68\"/>\r\n",
       "<text text-anchor=\"middle\" x=\"908\" y=\"-52.8\" font-family=\"Times New Roman,serif\" font-size=\"14.00\">gini = 0.292</text>\r\n",
       "<text text-anchor=\"middle\" x=\"908\" y=\"-37.8\" font-family=\"Times New Roman,serif\" font-size=\"14.00\">samples = 45</text>\r\n",
       "<text text-anchor=\"middle\" x=\"908\" y=\"-22.8\" font-family=\"Times New Roman,serif\" font-size=\"14.00\">value = [37, 8]</text>\r\n",
       "<text text-anchor=\"middle\" x=\"908\" y=\"-7.8\" font-family=\"Times New Roman,serif\" font-size=\"14.00\">class = Perish</text>\r\n",
       "</g>\r\n",
       "<!-- 19&#45;&gt;21 -->\r\n",
       "<g id=\"edge21\" class=\"edge\"><title>19&#45;&gt;21</title>\r\n",
       "<path fill=\"none\" stroke=\"black\" d=\"M844.609,-103.726C853.021,-94.6054 861.946,-84.93 870.36,-75.8078\"/>\r\n",
       "<polygon fill=\"black\" stroke=\"black\" points=\"873.078,-78.0232 877.285,-68.2996 867.933,-73.2772 873.078,-78.0232\"/>\r\n",
       "</g>\r\n",
       "<!-- 23 -->\r\n",
       "<g id=\"node24\" class=\"node\"><title>23</title>\r\n",
       "<polygon fill=\"none\" stroke=\"black\" points=\"1425.5,-425 1294.5,-425 1294.5,-342 1425.5,-342 1425.5,-425\"/>\r\n",
       "<text text-anchor=\"middle\" x=\"1360\" y=\"-409.8\" font-family=\"Times New Roman,serif\" font-size=\"14.00\">Age_mean &lt;= 32.25</text>\r\n",
       "<text text-anchor=\"middle\" x=\"1360\" y=\"-394.8\" font-family=\"Times New Roman,serif\" font-size=\"14.00\">gini = 0.323</text>\r\n",
       "<text text-anchor=\"middle\" x=\"1360\" y=\"-379.8\" font-family=\"Times New Roman,serif\" font-size=\"14.00\">samples = 281</text>\r\n",
       "<text text-anchor=\"middle\" x=\"1360\" y=\"-364.8\" font-family=\"Times New Roman,serif\" font-size=\"14.00\">value = [57, 224]</text>\r\n",
       "<text text-anchor=\"middle\" x=\"1360\" y=\"-349.8\" font-family=\"Times New Roman,serif\" font-size=\"14.00\">class = Survived</text>\r\n",
       "</g>\r\n",
       "<!-- 22&#45;&gt;23 -->\r\n",
       "<g id=\"edge23\" class=\"edge\"><title>22&#45;&gt;23</title>\r\n",
       "<path fill=\"none\" stroke=\"black\" d=\"M1360,-460.907C1360,-452.649 1360,-443.864 1360,-435.302\"/>\r\n",
       "<polygon fill=\"black\" stroke=\"black\" points=\"1363.5,-435.021 1360,-425.021 1356.5,-435.021 1363.5,-435.021\"/>\r\n",
       "</g>\r\n",
       "<!-- 36 -->\r\n",
       "<g id=\"node37\" class=\"node\"><title>36</title>\r\n",
       "<polygon fill=\"none\" stroke=\"black\" points=\"1844,-425 1712,-425 1712,-342 1844,-342 1844,-425\"/>\r\n",
       "<text text-anchor=\"middle\" x=\"1778\" y=\"-409.8\" font-family=\"Times New Roman,serif\" font-size=\"14.00\">Embarked_C &lt;= 0.5</text>\r\n",
       "<text text-anchor=\"middle\" x=\"1778\" y=\"-394.8\" font-family=\"Times New Roman,serif\" font-size=\"14.00\">gini = 0.397</text>\r\n",
       "<text text-anchor=\"middle\" x=\"1778\" y=\"-379.8\" font-family=\"Times New Roman,serif\" font-size=\"14.00\">samples = 33</text>\r\n",
       "<text text-anchor=\"middle\" x=\"1778\" y=\"-364.8\" font-family=\"Times New Roman,serif\" font-size=\"14.00\">value = [24, 9]</text>\r\n",
       "<text text-anchor=\"middle\" x=\"1778\" y=\"-349.8\" font-family=\"Times New Roman,serif\" font-size=\"14.00\">class = Perish</text>\r\n",
       "</g>\r\n",
       "<!-- 22&#45;&gt;36 -->\r\n",
       "<g id=\"edge36\" class=\"edge\"><title>22&#45;&gt;36</title>\r\n",
       "<path fill=\"none\" stroke=\"black\" d=\"M1415.51,-485.963C1489.13,-465.356 1619.39,-428.895 1702.08,-405.752\"/>\r\n",
       "<polygon fill=\"black\" stroke=\"black\" points=\"1703.23,-409.063 1711.92,-402.997 1701.34,-402.322 1703.23,-409.063\"/>\r\n",
       "</g>\r\n",
       "<!-- 24 -->\r\n",
       "<g id=\"node25\" class=\"node\"><title>24</title>\r\n",
       "<polygon fill=\"none\" stroke=\"black\" points=\"1353,-306 1221,-306 1221,-223 1353,-223 1353,-306\"/>\r\n",
       "<text text-anchor=\"middle\" x=\"1287\" y=\"-290.8\" font-family=\"Times New Roman,serif\" font-size=\"14.00\">Embarked_C &lt;= 0.5</text>\r\n",
       "<text text-anchor=\"middle\" x=\"1287\" y=\"-275.8\" font-family=\"Times New Roman,serif\" font-size=\"14.00\">gini = 0.363</text>\r\n",
       "<text text-anchor=\"middle\" x=\"1287\" y=\"-260.8\" font-family=\"Times New Roman,serif\" font-size=\"14.00\">samples = 197</text>\r\n",
       "<text text-anchor=\"middle\" x=\"1287\" y=\"-245.8\" font-family=\"Times New Roman,serif\" font-size=\"14.00\">value = [47, 150]</text>\r\n",
       "<text text-anchor=\"middle\" x=\"1287\" y=\"-230.8\" font-family=\"Times New Roman,serif\" font-size=\"14.00\">class = Survived</text>\r\n",
       "</g>\r\n",
       "<!-- 23&#45;&gt;24 -->\r\n",
       "<g id=\"edge24\" class=\"edge\"><title>23&#45;&gt;24</title>\r\n",
       "<path fill=\"none\" stroke=\"black\" d=\"M1334.67,-341.907C1329.18,-333.105 1323.31,-323.703 1317.64,-314.612\"/>\r\n",
       "<polygon fill=\"black\" stroke=\"black\" points=\"1320.55,-312.652 1312.28,-306.021 1314.61,-316.358 1320.55,-312.652\"/>\r\n",
       "</g>\r\n",
       "<!-- 31 -->\r\n",
       "<g id=\"node32\" class=\"node\"><title>31</title>\r\n",
       "<polygon fill=\"none\" stroke=\"black\" points=\"1495,-306 1371,-306 1371,-223 1495,-223 1495,-306\"/>\r\n",
       "<text text-anchor=\"middle\" x=\"1433\" y=\"-290.8\" font-family=\"Times New Roman,serif\" font-size=\"14.00\">Age_mean &lt;= 36.5</text>\r\n",
       "<text text-anchor=\"middle\" x=\"1433\" y=\"-275.8\" font-family=\"Times New Roman,serif\" font-size=\"14.00\">gini = 0.21</text>\r\n",
       "<text text-anchor=\"middle\" x=\"1433\" y=\"-260.8\" font-family=\"Times New Roman,serif\" font-size=\"14.00\">samples = 84</text>\r\n",
       "<text text-anchor=\"middle\" x=\"1433\" y=\"-245.8\" font-family=\"Times New Roman,serif\" font-size=\"14.00\">value = [10, 74]</text>\r\n",
       "<text text-anchor=\"middle\" x=\"1433\" y=\"-230.8\" font-family=\"Times New Roman,serif\" font-size=\"14.00\">class = Survived</text>\r\n",
       "</g>\r\n",
       "<!-- 23&#45;&gt;31 -->\r\n",
       "<g id=\"edge31\" class=\"edge\"><title>23&#45;&gt;31</title>\r\n",
       "<path fill=\"none\" stroke=\"black\" d=\"M1385.33,-341.907C1390.82,-333.105 1396.69,-323.703 1402.36,-314.612\"/>\r\n",
       "<polygon fill=\"black\" stroke=\"black\" points=\"1405.39,-316.358 1407.72,-306.021 1399.45,-312.652 1405.39,-316.358\"/>\r\n",
       "</g>\r\n",
       "<!-- 25 -->\r\n",
       "<g id=\"node26\" class=\"node\"><title>25</title>\r\n",
       "<polygon fill=\"none\" stroke=\"black\" points=\"1215,-187 1091,-187 1091,-104 1215,-104 1215,-187\"/>\r\n",
       "<text text-anchor=\"middle\" x=\"1153\" y=\"-171.8\" font-family=\"Times New Roman,serif\" font-size=\"14.00\">Age_mean &lt;= 17.5</text>\r\n",
       "<text text-anchor=\"middle\" x=\"1153\" y=\"-156.8\" font-family=\"Times New Roman,serif\" font-size=\"14.00\">gini = 0.394</text>\r\n",
       "<text text-anchor=\"middle\" x=\"1153\" y=\"-141.8\" font-family=\"Times New Roman,serif\" font-size=\"14.00\">samples = 148</text>\r\n",
       "<text text-anchor=\"middle\" x=\"1153\" y=\"-126.8\" font-family=\"Times New Roman,serif\" font-size=\"14.00\">value = [40, 108]</text>\r\n",
       "<text text-anchor=\"middle\" x=\"1153\" y=\"-111.8\" font-family=\"Times New Roman,serif\" font-size=\"14.00\">class = Survived</text>\r\n",
       "</g>\r\n",
       "<!-- 24&#45;&gt;25 -->\r\n",
       "<g id=\"edge25\" class=\"edge\"><title>24&#45;&gt;25</title>\r\n",
       "<path fill=\"none\" stroke=\"black\" d=\"M1240.51,-222.907C1229.7,-213.469 1218.1,-203.343 1207,-193.649\"/>\r\n",
       "<polygon fill=\"black\" stroke=\"black\" points=\"1209.24,-190.961 1199.41,-187.021 1204.64,-196.234 1209.24,-190.961\"/>\r\n",
       "</g>\r\n",
       "<!-- 28 -->\r\n",
       "<g id=\"node29\" class=\"node\"><title>28</title>\r\n",
       "<polygon fill=\"none\" stroke=\"black\" points=\"1348.5,-187 1233.5,-187 1233.5,-104 1348.5,-104 1348.5,-187\"/>\r\n",
       "<text text-anchor=\"middle\" x=\"1291\" y=\"-171.8\" font-family=\"Times New Roman,serif\" font-size=\"14.00\">Family_M &lt;= 0.5</text>\r\n",
       "<text text-anchor=\"middle\" x=\"1291\" y=\"-156.8\" font-family=\"Times New Roman,serif\" font-size=\"14.00\">gini = 0.245</text>\r\n",
       "<text text-anchor=\"middle\" x=\"1291\" y=\"-141.8\" font-family=\"Times New Roman,serif\" font-size=\"14.00\">samples = 49</text>\r\n",
       "<text text-anchor=\"middle\" x=\"1291\" y=\"-126.8\" font-family=\"Times New Roman,serif\" font-size=\"14.00\">value = [7, 42]</text>\r\n",
       "<text text-anchor=\"middle\" x=\"1291\" y=\"-111.8\" font-family=\"Times New Roman,serif\" font-size=\"14.00\">class = Survived</text>\r\n",
       "</g>\r\n",
       "<!-- 24&#45;&gt;28 -->\r\n",
       "<g id=\"edge28\" class=\"edge\"><title>24&#45;&gt;28</title>\r\n",
       "<path fill=\"none\" stroke=\"black\" d=\"M1288.39,-222.907C1288.67,-214.558 1288.98,-205.671 1289.27,-197.02\"/>\r\n",
       "<polygon fill=\"black\" stroke=\"black\" points=\"1292.77,-197.135 1289.61,-187.021 1285.77,-196.895 1292.77,-197.135\"/>\r\n",
       "</g>\r\n",
       "<!-- 26 -->\r\n",
       "<g id=\"node27\" class=\"node\"><title>26</title>\r\n",
       "<polygon fill=\"none\" stroke=\"black\" points=\"1085,-68 975,-68 975,-0 1085,-0 1085,-68\"/>\r\n",
       "<text text-anchor=\"middle\" x=\"1030\" y=\"-52.8\" font-family=\"Times New Roman,serif\" font-size=\"14.00\">gini = 0.26</text>\r\n",
       "<text text-anchor=\"middle\" x=\"1030\" y=\"-37.8\" font-family=\"Times New Roman,serif\" font-size=\"14.00\">samples = 26</text>\r\n",
       "<text text-anchor=\"middle\" x=\"1030\" y=\"-22.8\" font-family=\"Times New Roman,serif\" font-size=\"14.00\">value = [4, 22]</text>\r\n",
       "<text text-anchor=\"middle\" x=\"1030\" y=\"-7.8\" font-family=\"Times New Roman,serif\" font-size=\"14.00\">class = Survived</text>\r\n",
       "</g>\r\n",
       "<!-- 25&#45;&gt;26 -->\r\n",
       "<g id=\"edge26\" class=\"edge\"><title>25&#45;&gt;26</title>\r\n",
       "<path fill=\"none\" stroke=\"black\" d=\"M1107.2,-103.726C1096.65,-94.3318 1085.43,-84.349 1074.92,-74.9883\"/>\r\n",
       "<polygon fill=\"black\" stroke=\"black\" points=\"1077.2,-72.3347 1067.41,-68.2996 1072.55,-77.5631 1077.2,-72.3347\"/>\r\n",
       "</g>\r\n",
       "<!-- 27 -->\r\n",
       "<g id=\"node28\" class=\"node\"><title>27</title>\r\n",
       "<polygon fill=\"none\" stroke=\"black\" points=\"1213,-68 1103,-68 1103,-0 1213,-0 1213,-68\"/>\r\n",
       "<text text-anchor=\"middle\" x=\"1158\" y=\"-52.8\" font-family=\"Times New Roman,serif\" font-size=\"14.00\">gini = 0.416</text>\r\n",
       "<text text-anchor=\"middle\" x=\"1158\" y=\"-37.8\" font-family=\"Times New Roman,serif\" font-size=\"14.00\">samples = 122</text>\r\n",
       "<text text-anchor=\"middle\" x=\"1158\" y=\"-22.8\" font-family=\"Times New Roman,serif\" font-size=\"14.00\">value = [36, 86]</text>\r\n",
       "<text text-anchor=\"middle\" x=\"1158\" y=\"-7.8\" font-family=\"Times New Roman,serif\" font-size=\"14.00\">class = Survived</text>\r\n",
       "</g>\r\n",
       "<!-- 25&#45;&gt;27 -->\r\n",
       "<g id=\"edge27\" class=\"edge\"><title>25&#45;&gt;27</title>\r\n",
       "<path fill=\"none\" stroke=\"black\" d=\"M1154.86,-103.726C1155.24,-95.5175 1155.63,-86.8595 1156.01,-78.56\"/>\r\n",
       "<polygon fill=\"black\" stroke=\"black\" points=\"1159.52,-78.4489 1156.48,-68.2996 1152.53,-78.1295 1159.52,-78.4489\"/>\r\n",
       "</g>\r\n",
       "<!-- 29 -->\r\n",
       "<g id=\"node30\" class=\"node\"><title>29</title>\r\n",
       "<polygon fill=\"none\" stroke=\"black\" points=\"1341,-68 1231,-68 1231,-0 1341,-0 1341,-68\"/>\r\n",
       "<text text-anchor=\"middle\" x=\"1286\" y=\"-52.8\" font-family=\"Times New Roman,serif\" font-size=\"14.00\">gini = 0.111</text>\r\n",
       "<text text-anchor=\"middle\" x=\"1286\" y=\"-37.8\" font-family=\"Times New Roman,serif\" font-size=\"14.00\">samples = 17</text>\r\n",
       "<text text-anchor=\"middle\" x=\"1286\" y=\"-22.8\" font-family=\"Times New Roman,serif\" font-size=\"14.00\">value = [1, 16]</text>\r\n",
       "<text text-anchor=\"middle\" x=\"1286\" y=\"-7.8\" font-family=\"Times New Roman,serif\" font-size=\"14.00\">class = Survived</text>\r\n",
       "</g>\r\n",
       "<!-- 28&#45;&gt;29 -->\r\n",
       "<g id=\"edge29\" class=\"edge\"><title>28&#45;&gt;29</title>\r\n",
       "<path fill=\"none\" stroke=\"black\" d=\"M1289.14,-103.726C1288.76,-95.5175 1288.37,-86.8595 1287.99,-78.56\"/>\r\n",
       "<polygon fill=\"black\" stroke=\"black\" points=\"1291.47,-78.1295 1287.52,-68.2996 1284.48,-78.4489 1291.47,-78.1295\"/>\r\n",
       "</g>\r\n",
       "<!-- 30 -->\r\n",
       "<g id=\"node31\" class=\"node\"><title>30</title>\r\n",
       "<polygon fill=\"none\" stroke=\"black\" points=\"1469,-68 1359,-68 1359,-0 1469,-0 1469,-68\"/>\r\n",
       "<text text-anchor=\"middle\" x=\"1414\" y=\"-52.8\" font-family=\"Times New Roman,serif\" font-size=\"14.00\">gini = 0.305</text>\r\n",
       "<text text-anchor=\"middle\" x=\"1414\" y=\"-37.8\" font-family=\"Times New Roman,serif\" font-size=\"14.00\">samples = 32</text>\r\n",
       "<text text-anchor=\"middle\" x=\"1414\" y=\"-22.8\" font-family=\"Times New Roman,serif\" font-size=\"14.00\">value = [6, 26]</text>\r\n",
       "<text text-anchor=\"middle\" x=\"1414\" y=\"-7.8\" font-family=\"Times New Roman,serif\" font-size=\"14.00\">class = Survived</text>\r\n",
       "</g>\r\n",
       "<!-- 28&#45;&gt;30 -->\r\n",
       "<g id=\"edge30\" class=\"edge\"><title>28&#45;&gt;30</title>\r\n",
       "<path fill=\"none\" stroke=\"black\" d=\"M1336.8,-103.726C1347.35,-94.3318 1358.57,-84.349 1369.08,-74.9883\"/>\r\n",
       "<polygon fill=\"black\" stroke=\"black\" points=\"1371.45,-77.5631 1376.59,-68.2996 1366.8,-72.3347 1371.45,-77.5631\"/>\r\n",
       "</g>\r\n",
       "<!-- 32 -->\r\n",
       "<g id=\"node33\" class=\"node\"><title>32</title>\r\n",
       "<polygon fill=\"none\" stroke=\"black\" points=\"1484,-179.5 1374,-179.5 1374,-111.5 1484,-111.5 1484,-179.5\"/>\r\n",
       "<text text-anchor=\"middle\" x=\"1429\" y=\"-164.3\" font-family=\"Times New Roman,serif\" font-size=\"14.00\">gini = 0.0</text>\r\n",
       "<text text-anchor=\"middle\" x=\"1429\" y=\"-149.3\" font-family=\"Times New Roman,serif\" font-size=\"14.00\">samples = 26</text>\r\n",
       "<text text-anchor=\"middle\" x=\"1429\" y=\"-134.3\" font-family=\"Times New Roman,serif\" font-size=\"14.00\">value = [0, 26]</text>\r\n",
       "<text text-anchor=\"middle\" x=\"1429\" y=\"-119.3\" font-family=\"Times New Roman,serif\" font-size=\"14.00\">class = Survived</text>\r\n",
       "</g>\r\n",
       "<!-- 31&#45;&gt;32 -->\r\n",
       "<g id=\"edge32\" class=\"edge\"><title>31&#45;&gt;32</title>\r\n",
       "<path fill=\"none\" stroke=\"black\" d=\"M1431.61,-222.907C1431.25,-212.204 1430.85,-200.615 1430.48,-189.776\"/>\r\n",
       "<polygon fill=\"black\" stroke=\"black\" points=\"1433.97,-189.541 1430.13,-179.667 1426.98,-189.781 1433.97,-189.541\"/>\r\n",
       "</g>\r\n",
       "<!-- 33 -->\r\n",
       "<g id=\"node34\" class=\"node\"><title>33</title>\r\n",
       "<polygon fill=\"none\" stroke=\"black\" points=\"1626,-187 1502,-187 1502,-104 1626,-104 1626,-187\"/>\r\n",
       "<text text-anchor=\"middle\" x=\"1564\" y=\"-171.8\" font-family=\"Times New Roman,serif\" font-size=\"14.00\">Age_mean &lt;= 37.5</text>\r\n",
       "<text text-anchor=\"middle\" x=\"1564\" y=\"-156.8\" font-family=\"Times New Roman,serif\" font-size=\"14.00\">gini = 0.285</text>\r\n",
       "<text text-anchor=\"middle\" x=\"1564\" y=\"-141.8\" font-family=\"Times New Roman,serif\" font-size=\"14.00\">samples = 58</text>\r\n",
       "<text text-anchor=\"middle\" x=\"1564\" y=\"-126.8\" font-family=\"Times New Roman,serif\" font-size=\"14.00\">value = [10, 48]</text>\r\n",
       "<text text-anchor=\"middle\" x=\"1564\" y=\"-111.8\" font-family=\"Times New Roman,serif\" font-size=\"14.00\">class = Survived</text>\r\n",
       "</g>\r\n",
       "<!-- 31&#45;&gt;33 -->\r\n",
       "<g id=\"edge33\" class=\"edge\"><title>31&#45;&gt;33</title>\r\n",
       "<path fill=\"none\" stroke=\"black\" d=\"M1478.45,-222.907C1488.92,-213.56 1500.14,-203.538 1510.9,-193.929\"/>\r\n",
       "<polygon fill=\"black\" stroke=\"black\" points=\"1513.5,-196.293 1518.63,-187.021 1508.84,-191.072 1513.5,-196.293\"/>\r\n",
       "</g>\r\n",
       "<!-- 34 -->\r\n",
       "<g id=\"node35\" class=\"node\"><title>34</title>\r\n",
       "<polygon fill=\"none\" stroke=\"black\" points=\"1582.5,-68 1487.5,-68 1487.5,-0 1582.5,-0 1582.5,-68\"/>\r\n",
       "<text text-anchor=\"middle\" x=\"1535\" y=\"-52.8\" font-family=\"Times New Roman,serif\" font-size=\"14.00\">gini = 0.0</text>\r\n",
       "<text text-anchor=\"middle\" x=\"1535\" y=\"-37.8\" font-family=\"Times New Roman,serif\" font-size=\"14.00\">samples = 1</text>\r\n",
       "<text text-anchor=\"middle\" x=\"1535\" y=\"-22.8\" font-family=\"Times New Roman,serif\" font-size=\"14.00\">value = [1, 0]</text>\r\n",
       "<text text-anchor=\"middle\" x=\"1535\" y=\"-7.8\" font-family=\"Times New Roman,serif\" font-size=\"14.00\">class = Perish</text>\r\n",
       "</g>\r\n",
       "<!-- 33&#45;&gt;34 -->\r\n",
       "<g id=\"edge34\" class=\"edge\"><title>33&#45;&gt;34</title>\r\n",
       "<path fill=\"none\" stroke=\"black\" d=\"M1553.2,-103.726C1550.98,-95.3351 1548.63,-86.4745 1546.39,-78.0072\"/>\r\n",
       "<polygon fill=\"black\" stroke=\"black\" points=\"1549.76,-77.0703 1543.82,-68.2996 1543,-78.8624 1549.76,-77.0703\"/>\r\n",
       "</g>\r\n",
       "<!-- 35 -->\r\n",
       "<g id=\"node36\" class=\"node\"><title>35</title>\r\n",
       "<polygon fill=\"none\" stroke=\"black\" points=\"1711,-68 1601,-68 1601,-0 1711,-0 1711,-68\"/>\r\n",
       "<text text-anchor=\"middle\" x=\"1656\" y=\"-52.8\" font-family=\"Times New Roman,serif\" font-size=\"14.00\">gini = 0.266</text>\r\n",
       "<text text-anchor=\"middle\" x=\"1656\" y=\"-37.8\" font-family=\"Times New Roman,serif\" font-size=\"14.00\">samples = 57</text>\r\n",
       "<text text-anchor=\"middle\" x=\"1656\" y=\"-22.8\" font-family=\"Times New Roman,serif\" font-size=\"14.00\">value = [9, 48]</text>\r\n",
       "<text text-anchor=\"middle\" x=\"1656\" y=\"-7.8\" font-family=\"Times New Roman,serif\" font-size=\"14.00\">class = Survived</text>\r\n",
       "</g>\r\n",
       "<!-- 33&#45;&gt;35 -->\r\n",
       "<g id=\"edge35\" class=\"edge\"><title>33&#45;&gt;35</title>\r\n",
       "<path fill=\"none\" stroke=\"black\" d=\"M1598.26,-103.726C1605.84,-94.6966 1613.89,-85.1235 1621.48,-76.0816\"/>\r\n",
       "<polygon fill=\"black\" stroke=\"black\" points=\"1624.27,-78.2075 1628.02,-68.2996 1618.91,-73.7045 1624.27,-78.2075\"/>\r\n",
       "</g>\r\n",
       "<!-- 37 -->\r\n",
       "<g id=\"node38\" class=\"node\"><title>37</title>\r\n",
       "<polygon fill=\"none\" stroke=\"black\" points=\"1840,-306 1716,-306 1716,-223 1840,-223 1840,-306\"/>\r\n",
       "<text text-anchor=\"middle\" x=\"1778\" y=\"-290.8\" font-family=\"Times New Roman,serif\" font-size=\"14.00\">Age_mean &lt;= 51.0</text>\r\n",
       "<text text-anchor=\"middle\" x=\"1778\" y=\"-275.8\" font-family=\"Times New Roman,serif\" font-size=\"14.00\">gini = 0.35</text>\r\n",
       "<text text-anchor=\"middle\" x=\"1778\" y=\"-260.8\" font-family=\"Times New Roman,serif\" font-size=\"14.00\">samples = 31</text>\r\n",
       "<text text-anchor=\"middle\" x=\"1778\" y=\"-245.8\" font-family=\"Times New Roman,serif\" font-size=\"14.00\">value = [24, 7]</text>\r\n",
       "<text text-anchor=\"middle\" x=\"1778\" y=\"-230.8\" font-family=\"Times New Roman,serif\" font-size=\"14.00\">class = Perish</text>\r\n",
       "</g>\r\n",
       "<!-- 36&#45;&gt;37 -->\r\n",
       "<g id=\"edge37\" class=\"edge\"><title>36&#45;&gt;37</title>\r\n",
       "<path fill=\"none\" stroke=\"black\" d=\"M1778,-341.907C1778,-333.649 1778,-324.864 1778,-316.302\"/>\r\n",
       "<polygon fill=\"black\" stroke=\"black\" points=\"1781.5,-316.021 1778,-306.021 1774.5,-316.021 1781.5,-316.021\"/>\r\n",
       "</g>\r\n",
       "<!-- 42 -->\r\n",
       "<g id=\"node43\" class=\"node\"><title>42</title>\r\n",
       "<polygon fill=\"none\" stroke=\"black\" points=\"1968,-298.5 1858,-298.5 1858,-230.5 1968,-230.5 1968,-298.5\"/>\r\n",
       "<text text-anchor=\"middle\" x=\"1913\" y=\"-283.3\" font-family=\"Times New Roman,serif\" font-size=\"14.00\">gini = 0.0</text>\r\n",
       "<text text-anchor=\"middle\" x=\"1913\" y=\"-268.3\" font-family=\"Times New Roman,serif\" font-size=\"14.00\">samples = 2</text>\r\n",
       "<text text-anchor=\"middle\" x=\"1913\" y=\"-253.3\" font-family=\"Times New Roman,serif\" font-size=\"14.00\">value = [0, 2]</text>\r\n",
       "<text text-anchor=\"middle\" x=\"1913\" y=\"-238.3\" font-family=\"Times New Roman,serif\" font-size=\"14.00\">class = Survived</text>\r\n",
       "</g>\r\n",
       "<!-- 36&#45;&gt;42 -->\r\n",
       "<g id=\"edge42\" class=\"edge\"><title>36&#45;&gt;42</title>\r\n",
       "<path fill=\"none\" stroke=\"black\" d=\"M1824.84,-341.907C1838.46,-330.101 1853.33,-317.217 1866.9,-305.45\"/>\r\n",
       "<polygon fill=\"black\" stroke=\"black\" points=\"1869.47,-307.861 1874.73,-298.667 1864.88,-302.571 1869.47,-307.861\"/>\r\n",
       "</g>\r\n",
       "<!-- 38 -->\r\n",
       "<g id=\"node39\" class=\"node\"><title>38</title>\r\n",
       "<polygon fill=\"none\" stroke=\"black\" points=\"1840,-187 1716,-187 1716,-104 1840,-104 1840,-187\"/>\r\n",
       "<text text-anchor=\"middle\" x=\"1778\" y=\"-171.8\" font-family=\"Times New Roman,serif\" font-size=\"14.00\">Age_mean &lt;= 26.5</text>\r\n",
       "<text text-anchor=\"middle\" x=\"1778\" y=\"-156.8\" font-family=\"Times New Roman,serif\" font-size=\"14.00\">gini = 0.32</text>\r\n",
       "<text text-anchor=\"middle\" x=\"1778\" y=\"-141.8\" font-family=\"Times New Roman,serif\" font-size=\"14.00\">samples = 30</text>\r\n",
       "<text text-anchor=\"middle\" x=\"1778\" y=\"-126.8\" font-family=\"Times New Roman,serif\" font-size=\"14.00\">value = [24, 6]</text>\r\n",
       "<text text-anchor=\"middle\" x=\"1778\" y=\"-111.8\" font-family=\"Times New Roman,serif\" font-size=\"14.00\">class = Perish</text>\r\n",
       "</g>\r\n",
       "<!-- 37&#45;&gt;38 -->\r\n",
       "<g id=\"edge38\" class=\"edge\"><title>37&#45;&gt;38</title>\r\n",
       "<path fill=\"none\" stroke=\"black\" d=\"M1778,-222.907C1778,-214.649 1778,-205.864 1778,-197.302\"/>\r\n",
       "<polygon fill=\"black\" stroke=\"black\" points=\"1781.5,-197.021 1778,-187.021 1774.5,-197.021 1781.5,-197.021\"/>\r\n",
       "</g>\r\n",
       "<!-- 41 -->\r\n",
       "<g id=\"node42\" class=\"node\"><title>41</title>\r\n",
       "<polygon fill=\"none\" stroke=\"black\" points=\"1968,-179.5 1858,-179.5 1858,-111.5 1968,-111.5 1968,-179.5\"/>\r\n",
       "<text text-anchor=\"middle\" x=\"1913\" y=\"-164.3\" font-family=\"Times New Roman,serif\" font-size=\"14.00\">gini = 0.0</text>\r\n",
       "<text text-anchor=\"middle\" x=\"1913\" y=\"-149.3\" font-family=\"Times New Roman,serif\" font-size=\"14.00\">samples = 1</text>\r\n",
       "<text text-anchor=\"middle\" x=\"1913\" y=\"-134.3\" font-family=\"Times New Roman,serif\" font-size=\"14.00\">value = [0, 1]</text>\r\n",
       "<text text-anchor=\"middle\" x=\"1913\" y=\"-119.3\" font-family=\"Times New Roman,serif\" font-size=\"14.00\">class = Survived</text>\r\n",
       "</g>\r\n",
       "<!-- 37&#45;&gt;41 -->\r\n",
       "<g id=\"edge41\" class=\"edge\"><title>37&#45;&gt;41</title>\r\n",
       "<path fill=\"none\" stroke=\"black\" d=\"M1824.84,-222.907C1838.46,-211.101 1853.33,-198.217 1866.9,-186.45\"/>\r\n",
       "<polygon fill=\"black\" stroke=\"black\" points=\"1869.47,-188.861 1874.73,-179.667 1864.88,-183.571 1869.47,-188.861\"/>\r\n",
       "</g>\r\n",
       "<!-- 39 -->\r\n",
       "<g id=\"node40\" class=\"node\"><title>39</title>\r\n",
       "<polygon fill=\"none\" stroke=\"black\" points=\"1827,-68 1729,-68 1729,-0 1827,-0 1827,-68\"/>\r\n",
       "<text text-anchor=\"middle\" x=\"1778\" y=\"-52.8\" font-family=\"Times New Roman,serif\" font-size=\"14.00\">gini = 0.43</text>\r\n",
       "<text text-anchor=\"middle\" x=\"1778\" y=\"-37.8\" font-family=\"Times New Roman,serif\" font-size=\"14.00\">samples = 16</text>\r\n",
       "<text text-anchor=\"middle\" x=\"1778\" y=\"-22.8\" font-family=\"Times New Roman,serif\" font-size=\"14.00\">value = [11, 5]</text>\r\n",
       "<text text-anchor=\"middle\" x=\"1778\" y=\"-7.8\" font-family=\"Times New Roman,serif\" font-size=\"14.00\">class = Perish</text>\r\n",
       "</g>\r\n",
       "<!-- 38&#45;&gt;39 -->\r\n",
       "<g id=\"edge39\" class=\"edge\"><title>38&#45;&gt;39</title>\r\n",
       "<path fill=\"none\" stroke=\"black\" d=\"M1778,-103.726C1778,-95.5175 1778,-86.8595 1778,-78.56\"/>\r\n",
       "<polygon fill=\"black\" stroke=\"black\" points=\"1781.5,-78.2996 1778,-68.2996 1774.5,-78.2996 1781.5,-78.2996\"/>\r\n",
       "</g>\r\n",
       "<!-- 40 -->\r\n",
       "<g id=\"node41\" class=\"node\"><title>40</title>\r\n",
       "<polygon fill=\"none\" stroke=\"black\" points=\"1943,-68 1845,-68 1845,-0 1943,-0 1943,-68\"/>\r\n",
       "<text text-anchor=\"middle\" x=\"1894\" y=\"-52.8\" font-family=\"Times New Roman,serif\" font-size=\"14.00\">gini = 0.133</text>\r\n",
       "<text text-anchor=\"middle\" x=\"1894\" y=\"-37.8\" font-family=\"Times New Roman,serif\" font-size=\"14.00\">samples = 14</text>\r\n",
       "<text text-anchor=\"middle\" x=\"1894\" y=\"-22.8\" font-family=\"Times New Roman,serif\" font-size=\"14.00\">value = [13, 1]</text>\r\n",
       "<text text-anchor=\"middle\" x=\"1894\" y=\"-7.8\" font-family=\"Times New Roman,serif\" font-size=\"14.00\">class = Perish</text>\r\n",
       "</g>\r\n",
       "<!-- 38&#45;&gt;40 -->\r\n",
       "<g id=\"edge40\" class=\"edge\"><title>38&#45;&gt;40</title>\r\n",
       "<path fill=\"none\" stroke=\"black\" d=\"M1821.19,-103.726C1831.05,-94.423 1841.52,-84.5428 1851.35,-75.2612\"/>\r\n",
       "<polygon fill=\"black\" stroke=\"black\" points=\"1853.85,-77.7092 1858.72,-68.2996 1849.05,-72.6189 1853.85,-77.7092\"/>\r\n",
       "</g>\r\n",
       "</g>\r\n",
       "</svg>\r\n"
      ],
      "text/plain": [
       "<graphviz.files.Source at 0xc0796d8>"
      ]
     },
     "execution_count": 70,
     "metadata": {},
     "output_type": "execute_result"
    }
   ],
   "source": [
    "from sklearn.tree import export_graphviz\n",
    "import graphviz\n",
    "\n",
    "export_graphviz(model,\n",
    "                feature_names=feature_names,\n",
    "                class_names=[\"Perish\", \"Survived\"],\n",
    "                out_file=\"decision-tree.dot\")\n",
    "\n",
    "with open(\"decision-tree.dot\") as f:\n",
    "    dot_graph = f.read()\n",
    "    \n",
    "graphviz.Source(dot_graph)"
   ]
  },
  {
   "cell_type": "code",
   "execution_count": 96,
   "metadata": {},
   "outputs": [
    {
     "data": {
      "text/plain": [
       "DecisionTreeClassifier(class_weight=None, criterion='gini', max_depth=3,\n",
       "            max_features=None, max_leaf_nodes=None,\n",
       "            min_impurity_decrease=0.0, min_impurity_split=None,\n",
       "            min_samples_leaf=1, min_samples_split=2,\n",
       "            min_weight_fraction_leaf=0.0, presort=False, random_state=2018,\n",
       "            splitter='best')"
      ]
     },
     "execution_count": 96,
     "metadata": {},
     "output_type": "execute_result"
    }
   ],
   "source": [
    "from sklearn.tree import DecisionTreeClassifier\n",
    "\n",
    "model = DecisionTreeClassifier(max_depth=3, random_state=2018)\n",
    "model"
   ]
  },
  {
   "cell_type": "code",
   "execution_count": 97,
   "metadata": {},
   "outputs": [
    {
     "data": {
      "text/plain": [
       "DecisionTreeClassifier(class_weight=None, criterion='gini', max_depth=3,\n",
       "            max_features=None, max_leaf_nodes=None,\n",
       "            min_impurity_decrease=0.0, min_impurity_split=None,\n",
       "            min_samples_leaf=1, min_samples_split=2,\n",
       "            min_weight_fraction_leaf=0.0, presort=False, random_state=2018,\n",
       "            splitter='best')"
      ]
     },
     "execution_count": 97,
     "metadata": {},
     "output_type": "execute_result"
    }
   ],
   "source": [
    "model.fit(x_train, y_label)\n",
    "# prediction = model.predict(x_test)"
   ]
  },
  {
   "cell_type": "code",
   "execution_count": 98,
   "metadata": {},
   "outputs": [
    {
     "data": {
      "text/plain": [
       "array([0, 1, 0, 0, 1, 0, 1, 0, 1, 0], dtype=int64)"
      ]
     },
     "execution_count": 98,
     "metadata": {},
     "output_type": "execute_result"
    }
   ],
   "source": [
    "test['Gender'] = (test['Sex'] == 'female')\n",
    "x_test = test[feature_names]\n",
    "\n",
    "\n",
    "prediction = model.predict(x_test)\n",
    "prediction[:10]"
   ]
  },
  {
   "cell_type": "code",
   "execution_count": 99,
   "metadata": {},
   "outputs": [],
   "source": [
    "test['Survived'] = prediction"
   ]
  },
  {
   "cell_type": "code",
   "execution_count": 100,
   "metadata": {},
   "outputs": [
    {
     "data": {
      "text/plain": [
       "Index(['PassengerId', 'Pclass', 'Name', 'Sex', 'Age', 'SibSp', 'Parch',\n",
       "       'Ticket', 'Fare', 'Cabin', 'Embarked', 'Age_mean', 'Embarked_S',\n",
       "       'Embarked_C', 'Embarked_Q', 'FamilySize', 'Family', 'Family_S',\n",
       "       'Family_M', 'Family_L', 'Gender', 'Survived'],\n",
       "      dtype='object')"
      ]
     },
     "execution_count": 100,
     "metadata": {},
     "output_type": "execute_result"
    }
   ],
   "source": [
    "test.columns"
   ]
  },
  {
   "cell_type": "code",
   "execution_count": 101,
   "metadata": {},
   "outputs": [
    {
     "data": {
      "text/html": [
       "<div>\n",
       "<style scoped>\n",
       "    .dataframe tbody tr th:only-of-type {\n",
       "        vertical-align: middle;\n",
       "    }\n",
       "\n",
       "    .dataframe tbody tr th {\n",
       "        vertical-align: top;\n",
       "    }\n",
       "\n",
       "    .dataframe thead th {\n",
       "        text-align: right;\n",
       "    }\n",
       "</style>\n",
       "<table border=\"1\" class=\"dataframe\">\n",
       "  <thead>\n",
       "    <tr style=\"text-align: right;\">\n",
       "      <th></th>\n",
       "      <th>PassengerId</th>\n",
       "      <th>Survived</th>\n",
       "    </tr>\n",
       "  </thead>\n",
       "  <tbody>\n",
       "    <tr>\n",
       "      <th>0</th>\n",
       "      <td>892</td>\n",
       "      <td>0</td>\n",
       "    </tr>\n",
       "    <tr>\n",
       "      <th>1</th>\n",
       "      <td>893</td>\n",
       "      <td>1</td>\n",
       "    </tr>\n",
       "    <tr>\n",
       "      <th>2</th>\n",
       "      <td>894</td>\n",
       "      <td>0</td>\n",
       "    </tr>\n",
       "    <tr>\n",
       "      <th>3</th>\n",
       "      <td>895</td>\n",
       "      <td>0</td>\n",
       "    </tr>\n",
       "    <tr>\n",
       "      <th>4</th>\n",
       "      <td>896</td>\n",
       "      <td>1</td>\n",
       "    </tr>\n",
       "  </tbody>\n",
       "</table>\n",
       "</div>"
      ],
      "text/plain": [
       "   PassengerId  Survived\n",
       "0          892         0\n",
       "1          893         1\n",
       "2          894         0\n",
       "3          895         0\n",
       "4          896         1"
      ]
     },
     "execution_count": 101,
     "metadata": {},
     "output_type": "execute_result"
    }
   ],
   "source": [
    "submission = test[['PassengerId','Survived']]\n",
    "submission.head()"
   ]
  },
  {
   "cell_type": "code",
   "execution_count": 81,
   "metadata": {},
   "outputs": [
    {
     "data": {
      "text/html": [
       "<div>\n",
       "<style scoped>\n",
       "    .dataframe tbody tr th:only-of-type {\n",
       "        vertical-align: middle;\n",
       "    }\n",
       "\n",
       "    .dataframe tbody tr th {\n",
       "        vertical-align: top;\n",
       "    }\n",
       "\n",
       "    .dataframe thead th {\n",
       "        text-align: right;\n",
       "    }\n",
       "</style>\n",
       "<table border=\"1\" class=\"dataframe\">\n",
       "  <thead>\n",
       "    <tr style=\"text-align: right;\">\n",
       "      <th></th>\n",
       "      <th>PassengerId</th>\n",
       "      <th>Survived</th>\n",
       "    </tr>\n",
       "  </thead>\n",
       "  <tbody>\n",
       "    <tr>\n",
       "      <th>0</th>\n",
       "      <td>892</td>\n",
       "      <td>0</td>\n",
       "    </tr>\n",
       "    <tr>\n",
       "      <th>1</th>\n",
       "      <td>893</td>\n",
       "      <td>1</td>\n",
       "    </tr>\n",
       "    <tr>\n",
       "      <th>2</th>\n",
       "      <td>894</td>\n",
       "      <td>0</td>\n",
       "    </tr>\n",
       "    <tr>\n",
       "      <th>3</th>\n",
       "      <td>895</td>\n",
       "      <td>0</td>\n",
       "    </tr>\n",
       "    <tr>\n",
       "      <th>4</th>\n",
       "      <td>896</td>\n",
       "      <td>1</td>\n",
       "    </tr>\n",
       "  </tbody>\n",
       "</table>\n",
       "</div>"
      ],
      "text/plain": [
       "   PassengerId  Survived\n",
       "0          892         0\n",
       "1          893         1\n",
       "2          894         0\n",
       "3          895         0\n",
       "4          896         1"
      ]
     },
     "execution_count": 81,
     "metadata": {},
     "output_type": "execute_result"
    }
   ],
   "source": [
    "submission.to_csv(\"submission_ML.csv\", index=False)\n",
    "\n",
    "pd.read_csv(\"submission_ML.csv\").head()"
   ]
  },
  {
   "cell_type": "code",
   "execution_count": 120,
   "metadata": {},
   "outputs": [],
   "source": [
    "from sklearn.model_selection import KFold\n",
    "from sklearn.model_selection import cross_val_score\n",
    "k_fold = KFold(n_splits=9, shuffle=True, random_state=2018)"
   ]
  },
  {
   "cell_type": "code",
   "execution_count": 121,
   "metadata": {},
   "outputs": [
    {
     "name": "stdout",
     "output_type": "stream",
     "text": [
      "[0.83838384 0.86868687 0.87878788 0.81818182 0.80808081 0.83838384\n",
      " 0.78787879 0.71717172 0.82828283]\n"
     ]
    }
   ],
   "source": [
    "scoring = 'accuracy'\n",
    "score = cross_val_score(model, x_train, y_label, cv=k_fold, n_jobs=-1, scoring=scoring)\n",
    "print(score)"
   ]
  },
  {
   "cell_type": "code",
   "execution_count": 122,
   "metadata": {},
   "outputs": [
    {
     "data": {
      "text/plain": [
       "82.04"
      ]
     },
     "execution_count": 122,
     "metadata": {},
     "output_type": "execute_result"
    }
   ],
   "source": [
    "round(np.mean(score)*100, 2)"
   ]
  },
  {
   "cell_type": "code",
   "execution_count": 86,
   "metadata": {},
   "outputs": [],
   "source": [
    "prediction = model.predict(x_test)"
   ]
  },
  {
   "cell_type": "code",
   "execution_count": 87,
   "metadata": {},
   "outputs": [
    {
     "data": {
      "text/plain": [
       "array([0, 1, 0, 0, 1, 0, 1, 0, 1, 0, 0, 0, 1, 0, 1, 1, 0, 0, 1, 1, 0, 0,\n",
       "       1, 0, 1, 0, 1, 0, 0, 0, 0, 0, 1, 1, 0, 0, 1, 1, 0, 0, 0, 0, 0, 1,\n",
       "       1, 0, 0, 0, 1, 1, 0, 0, 1, 0, 0, 0, 0, 0, 0, 1, 0, 0, 0, 1, 1, 1,\n",
       "       1, 0, 0, 1, 1, 0, 1, 0, 1, 0, 0, 1, 0, 1, 1, 0, 0, 0, 0, 0, 1, 1,\n",
       "       1, 1, 1, 0, 1, 0, 0, 0, 1, 0, 1, 0, 1, 0, 0, 0, 1, 0, 0, 0, 0, 0,\n",
       "       0, 1, 1, 1, 1, 0, 0, 1, 0, 1, 1, 0, 1, 0, 0, 1, 0, 1, 0, 0, 0, 0,\n",
       "       0, 0, 0, 0, 0, 0, 1, 0, 0, 1, 0, 0, 0, 0, 0, 0, 0, 0, 1, 0, 0, 1,\n",
       "       0, 0, 1, 1, 0, 1, 1, 1, 1, 0, 0, 1, 0, 0, 1, 1, 0, 0, 0, 0, 0, 1,\n",
       "       1, 0, 1, 1, 0, 0, 1, 0, 1, 0, 1, 0, 0, 0, 0, 0, 0, 0, 0, 0, 1, 1,\n",
       "       0, 1, 1, 1, 0, 1, 0, 0, 1, 0, 1, 0, 0, 0, 0, 1, 0, 0, 1, 0, 1, 0,\n",
       "       1, 0, 1, 0, 1, 1, 0, 1, 0, 0, 0, 1, 0, 0, 0, 0, 0, 0, 1, 1, 1, 1,\n",
       "       0, 0, 0, 0, 1, 0, 1, 1, 1, 0, 0, 0, 0, 0, 0, 0, 1, 0, 0, 0, 1, 1,\n",
       "       0, 0, 0, 0, 1, 0, 0, 0, 1, 1, 0, 1, 0, 0, 0, 0, 1, 1, 1, 1, 1, 0,\n",
       "       0, 0, 0, 0, 0, 1, 0, 0, 0, 0, 1, 0, 0, 0, 0, 0, 0, 0, 1, 1, 0, 1,\n",
       "       0, 1, 0, 0, 0, 0, 1, 1, 0, 0, 0, 0, 0, 0, 0, 0, 1, 0, 1, 0, 0, 0,\n",
       "       1, 0, 0, 1, 0, 0, 0, 0, 0, 0, 0, 0, 0, 1, 0, 1, 0, 1, 0, 1, 1, 0,\n",
       "       0, 0, 1, 0, 1, 0, 0, 1, 0, 1, 1, 0, 1, 0, 0, 1, 1, 0, 0, 1, 0, 0,\n",
       "       1, 1, 1, 0, 0, 0, 0, 0, 1, 1, 0, 1, 0, 0, 0, 0, 0, 1, 0, 0, 0, 1,\n",
       "       0, 1, 0, 0, 1, 0, 1, 0, 0, 0, 0, 0, 1, 1, 1, 0, 1, 0, 1, 0, 0, 0],\n",
       "      dtype=int64)"
      ]
     },
     "execution_count": 87,
     "metadata": {},
     "output_type": "execute_result"
    }
   ],
   "source": [
    "prediction"
   ]
  },
  {
   "cell_type": "code",
   "execution_count": null,
   "metadata": {},
   "outputs": [],
   "source": []
  }
 ],
 "metadata": {
  "kernelspec": {
   "display_name": "Python 3",
   "language": "python",
   "name": "python3"
  },
  "language_info": {
   "codemirror_mode": {
    "name": "ipython",
    "version": 3
   },
   "file_extension": ".py",
   "mimetype": "text/x-python",
   "name": "python",
   "nbconvert_exporter": "python",
   "pygments_lexer": "ipython3",
   "version": "3.6.5"
  }
 },
 "nbformat": 4,
 "nbformat_minor": 2
}
